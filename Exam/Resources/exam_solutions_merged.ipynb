{
 "cells": [
  {
   "cell_type": "markdown",
   "id": "09e9a536",
   "metadata": {},
   "source": [
    "# ADA final exam (Fall 2022)\n",
    "\n",
    "This exam consists of 3 tasks. Tasks 2 and 3 are independent of each other (although conceptually related).\n"
   ]
  },
  {
   "cell_type": "markdown",
   "id": "58149609",
   "metadata": {},
   "source": [
    "### Dataset\n",
    "\n",
    "For a Wikipedia editor to become an administrator, a so-called “request for adminship” ([RfA](https://en.wikipedia.org/wiki/Wikipedia:Requests_for_adminship)) must be submitted by either the candidate or another community member. Subsequently, any Wikipedia member may cast a supporting or opposing vote. Here we provide a simplified version of the Wikipedia RfA dataset, containing all votes from 2003 through 2012.\n"
   ]
  },
  {
   "cell_type": "markdown",
   "id": "70d223eb",
   "metadata": {},
   "source": [
    "### Data format\n",
    "\n",
    "\n",
    "- SRC: the user name of the source of the vote, i.e., of the user who cast the vote.\n",
    "- TGT: the user name of the target of the vote, i.e., of the user running for election.\n",
    "- VOT: the source's vote on the target (-1 = oppose; 1 = support).\n",
    "- RES: the outcome of the election (-1 = target was rejected as admin; 1 = target was accepted). **(We will not use this  column in this exam.)**\n",
    "- YEA: the year of the RfA.\n",
    "- DAT: the date and time of this vote. **(We will not use this column in this exam.)**\n",
    "- TXT: the comment written by the source. **(We will not use this column in this exam.)**\n"
   ]
  },
  {
   "cell_type": "markdown",
   "id": "f07842a3",
   "metadata": {},
   "source": [
    "|        |   SRC |   TGT |   VOT |   RES |   YEA | DAT                 | TXT                                                                                                                                                                                               |\n",
    "|-------:|------:|------:|------:|------:|------:|:--------------------|:--------------------------------------------------------------------------------------------------------------------------------------------------------------------------------------------------|\n",
    "|  39054 |  3444 | 10170 |     1 |     1 |  2009 | 2009-07-01 17:50:00 | '''Support''' - Best of luck. &nbsp;                                                                                                                                                              |\n",
    "| 159680 |   722 |  9634 |    -1 |    -1 |  2006 | 2006-12-15 07:28:00 | '''Oppose''' Not even 2000 edits.                                                                                                                                                                 |\n",
    "| 173438 |  4194 |  5524 |     1 |     1 |  2005 | 2005-03-18 19:22:00 | Ohhh, you're Carrp!  In that case, '''Support'''.                                                                                                                                                 |\n",
    "|  60627 |  4855 |  9436 |     1 |     1 |  2008 | 2008-12-18 23:26:00 | '''Support''' via thoughtful answer to my question that demonstrates this editor has clue.                                                 |\n",
    "| 194809 |  7687 |   908 |     1 |     1 |  2004 | 2004-09-25 05:21:00 | Nicholas is very good in English. Also, he got '''exceptional''' patience to explain petty obvious facts in talk page to convince ignorants. Let the world be benefitted more out of his work. -- |\n"
   ]
  },
  {
   "cell_type": "markdown",
   "id": "4a4a661c",
   "metadata": {},
   "source": [
    "### Structural balance theory\n",
    "\n",
    "**Structural balance theory** affirms that social networks tend to be organized so as to avoid conflictual situations, e.g., if a great friend of yours hates someone, you will likely not befriend that person.\n",
    "\n",
    "The theory can be operationalized by looking at _triangles_ in an undirected _signed graph_ capturing person-to-person relationships, where a _signed graph_ is a  graph in which each edge is associated with a positive or negative sign, and a _triangle_ is a set of three edges ($\\langle u,v \\rangle$, $\\langle v,w\\rangle$, $\\langle u,w\\rangle$) that fully connect three distinct nodes ($u, v, w$).\n",
    "\n",
    "\n",
    "\n",
    "_Triangles_ in an undirected signed graph can be in 4 _configurations_:\n",
    "all positive edges ($\\{+,+,+\\}$); \n",
    "all negative edges ($\\{-,-,-\\}$); \n",
    "two positive edges and one negative edge ($\\{+,+,-\\}$);\n",
    "one positive edge and two negative edges ($\\{+,-,-\\}$).\n",
    "\n",
    "Structural balance theory posits that social networks tend to favor triangle configurations with an even number of negative signs (i.e., $\\{+,+,+\\}$ and $\\{+,-,-\\}$), which can be understood as being “balanced” by avoiding conflictual situations. Intuitively, $\\{+,+,+\\}$ could be tagged as “The friend of my friend is my friend”, and $\\{+,-,-\\}$ as “The enemy of my enemy is my friend”, “The friend of my enemy is my enemy”, or “The enemy of my friend is my enemy”. On the contrary, triangle configurations with an odd number of negative signs (i.e., $\\{+,+,-\\}$ and $\\{-,-,-\\}$) are unstable (“unbalanced”) according to structural balance theory and will thus occur less frequently in social networks. For instance, me being friends with two mutual enemies ($\\{+,+,-\\}$) would lead to tension that could be resolved if the two enemies became friends or if I took sides and ended my friendship with one of the two. Similarly, two among three mutual enemies ($\\{-,-,-\\}$) would have the incentive to form an alliance to “gang up” against the third.\n",
    "\n",
    "Some social scientists have argued that three mutual enemies ($\\{-,-,-\\}$) is not necessarily a triangle configuration that social networks tend to avoid. This gives rise to **weak structural balance theory**, which only posits that social networks tend to avoid the “unbalanced” triangle configuration $\\{+,+,-\\}$.\n",
    "\n",
    "In a nutshell,\n",
    "- structural balance theory\n",
    "  - considers $\\{+,+,+\\}$, $\\{+,-,-\\}$ as balanced,\n",
    "  - and $\\{+,+,-\\}$, $\\{-,-,-\\}$ as unbalanced;\n",
    "- weak structural balance theory\n",
    "  - considers $\\{+,+,+\\}$, $\\{+,-,-\\}$, $\\{-,-,-\\}$ as balanced,\n",
    "  - and $\\{+,+,-\\}$ as unbalanced.\n",
    "\n"
   ]
  },
  {
   "cell_type": "markdown",
   "id": "d5f337c9",
   "metadata": {},
   "source": [
    "## Task 1: Preliminaries\n",
    "\n",
    "As a good data scientist, you first load the data and explore it.\n",
    "\n",
    "**1.1**\n",
    "Load the csv file `wiki-RfA.csv.gz` in a pandas dataframe. Calculate the number of distinct RfAs and the average number of votes per RfA.\n",
    "- **Hint:** Throughout this question, assume that each RfA is uniquely determined by the column `TGT` and each vote is uniquely determined by the combination of `SRC` and `TGT`."
   ]
  },
  {
   "cell_type": "code",
   "execution_count": 2,
   "id": "ff2e92a5",
   "metadata": {},
   "outputs": [
    {
     "name": "stdout",
     "output_type": "stream",
     "text": [
      "Num distinct requests: 3439\n",
      "Avg num. votes per request: 48.561500436173304\n"
     ]
    },
    {
     "data": {
      "text/html": [
       "<div>\n",
       "<style scoped>\n",
       "    .dataframe tbody tr th:only-of-type {\n",
       "        vertical-align: middle;\n",
       "    }\n",
       "\n",
       "    .dataframe tbody tr th {\n",
       "        vertical-align: top;\n",
       "    }\n",
       "\n",
       "    .dataframe thead th {\n",
       "        text-align: right;\n",
       "    }\n",
       "</style>\n",
       "<table border=\"1\" class=\"dataframe\">\n",
       "  <thead>\n",
       "    <tr style=\"text-align: right;\">\n",
       "      <th></th>\n",
       "      <th>SRC</th>\n",
       "      <th>TGT</th>\n",
       "      <th>VOT</th>\n",
       "      <th>RES</th>\n",
       "      <th>YEA</th>\n",
       "      <th>DAT</th>\n",
       "      <th>TXT</th>\n",
       "    </tr>\n",
       "  </thead>\n",
       "  <tbody>\n",
       "    <tr>\n",
       "      <th>0</th>\n",
       "      <td>5943</td>\n",
       "      <td>9966</td>\n",
       "      <td>-1</td>\n",
       "      <td>-1</td>\n",
       "      <td>2012</td>\n",
       "      <td>2012-12-30 22:27:00</td>\n",
       "      <td>—</td>\n",
       "    </tr>\n",
       "    <tr>\n",
       "      <th>1</th>\n",
       "      <td>9153</td>\n",
       "      <td>9966</td>\n",
       "      <td>-1</td>\n",
       "      <td>-1</td>\n",
       "      <td>2012</td>\n",
       "      <td>2012-12-30 22:25:00</td>\n",
       "      <td>'''Oppose'''. This joke really isn't funny, no...</td>\n",
       "    </tr>\n",
       "    <tr>\n",
       "      <th>2</th>\n",
       "      <td>4189</td>\n",
       "      <td>9966</td>\n",
       "      <td>-1</td>\n",
       "      <td>-1</td>\n",
       "      <td>2012</td>\n",
       "      <td>2012-12-30 22:17:00</td>\n",
       "      <td>'''Oppose''' as per nomination and answers. --...</td>\n",
       "    </tr>\n",
       "    <tr>\n",
       "      <th>3</th>\n",
       "      <td>3750</td>\n",
       "      <td>9966</td>\n",
       "      <td>-1</td>\n",
       "      <td>-1</td>\n",
       "      <td>2012</td>\n",
       "      <td>2012-12-30 22:14:00</td>\n",
       "      <td>'''Oppose''' and '''speeedy close''' this as [...</td>\n",
       "    </tr>\n",
       "    <tr>\n",
       "      <th>4</th>\n",
       "      <td>4225</td>\n",
       "      <td>9966</td>\n",
       "      <td>-1</td>\n",
       "      <td>-1</td>\n",
       "      <td>2012</td>\n",
       "      <td>2012-12-30 22:08:00</td>\n",
       "      <td>'''Oppose''' per nomination and answers. I am ...</td>\n",
       "    </tr>\n",
       "    <tr>\n",
       "      <th>...</th>\n",
       "      <td>...</td>\n",
       "      <td>...</td>\n",
       "      <td>...</td>\n",
       "      <td>...</td>\n",
       "      <td>...</td>\n",
       "      <td>...</td>\n",
       "      <td>...</td>\n",
       "    </tr>\n",
       "    <tr>\n",
       "      <th>166998</th>\n",
       "      <td>3867</td>\n",
       "      <td>2762</td>\n",
       "      <td>1</td>\n",
       "      <td>1</td>\n",
       "      <td>2003</td>\n",
       "      <td>2003-08-23 03:34:00</td>\n",
       "      <td>Also support; Llywrch has been here for ages a...</td>\n",
       "    </tr>\n",
       "    <tr>\n",
       "      <th>166999</th>\n",
       "      <td>8091</td>\n",
       "      <td>8486</td>\n",
       "      <td>1</td>\n",
       "      <td>1</td>\n",
       "      <td>2003</td>\n",
       "      <td>2003-08-21 11:47:00</td>\n",
       "      <td>Support. [[User_talk:Fantasy#Thanks!]] and oth...</td>\n",
       "    </tr>\n",
       "    <tr>\n",
       "      <th>167000</th>\n",
       "      <td>1581</td>\n",
       "      <td>8767</td>\n",
       "      <td>1</td>\n",
       "      <td>1</td>\n",
       "      <td>2003</td>\n",
       "      <td>2003-08-18 23:16:00</td>\n",
       "      <td>Support for WikiQuote, but I haven't seen enou...</td>\n",
       "    </tr>\n",
       "    <tr>\n",
       "      <th>167001</th>\n",
       "      <td>1011</td>\n",
       "      <td>8056</td>\n",
       "      <td>1</td>\n",
       "      <td>1</td>\n",
       "      <td>2003</td>\n",
       "      <td>2003-08-16 01:25:00</td>\n",
       "      <td>Support. Does good things with maps. --</td>\n",
       "    </tr>\n",
       "    <tr>\n",
       "      <th>167002</th>\n",
       "      <td>1011</td>\n",
       "      <td>7238</td>\n",
       "      <td>1</td>\n",
       "      <td>1</td>\n",
       "      <td>2003</td>\n",
       "      <td>2003-08-16 01:25:00</td>\n",
       "      <td>Support. --</td>\n",
       "    </tr>\n",
       "  </tbody>\n",
       "</table>\n",
       "<p>167003 rows × 7 columns</p>\n",
       "</div>"
      ],
      "text/plain": [
       "         SRC   TGT  VOT  RES   YEA                  DAT  \\\n",
       "0       5943  9966   -1   -1  2012  2012-12-30 22:27:00   \n",
       "1       9153  9966   -1   -1  2012  2012-12-30 22:25:00   \n",
       "2       4189  9966   -1   -1  2012  2012-12-30 22:17:00   \n",
       "3       3750  9966   -1   -1  2012  2012-12-30 22:14:00   \n",
       "4       4225  9966   -1   -1  2012  2012-12-30 22:08:00   \n",
       "...      ...   ...  ...  ...   ...                  ...   \n",
       "166998  3867  2762    1    1  2003  2003-08-23 03:34:00   \n",
       "166999  8091  8486    1    1  2003  2003-08-21 11:47:00   \n",
       "167000  1581  8767    1    1  2003  2003-08-18 23:16:00   \n",
       "167001  1011  8056    1    1  2003  2003-08-16 01:25:00   \n",
       "167002  1011  7238    1    1  2003  2003-08-16 01:25:00   \n",
       "\n",
       "                                                      TXT  \n",
       "0                                                       —  \n",
       "1       '''Oppose'''. This joke really isn't funny, no...  \n",
       "2       '''Oppose''' as per nomination and answers. --...  \n",
       "3       '''Oppose''' and '''speeedy close''' this as [...  \n",
       "4       '''Oppose''' per nomination and answers. I am ...  \n",
       "...                                                   ...  \n",
       "166998  Also support; Llywrch has been here for ages a...  \n",
       "166999  Support. [[User_talk:Fantasy#Thanks!]] and oth...  \n",
       "167000  Support for WikiQuote, but I haven't seen enou...  \n",
       "167001            Support. Does good things with maps. --  \n",
       "167002                                        Support. --  \n",
       "\n",
       "[167003 rows x 7 columns]"
      ]
     },
     "execution_count": 2,
     "metadata": {},
     "output_type": "execute_result"
    }
   ],
   "source": [
    "# 1.1\n",
    "import numpy as np\n",
    "import pandas as pd\n",
    "import matplotlib.pyplot as plt\n",
    "\n",
    "df = pd.read_csv(\"./wiki-RfA.csv.gz\")\n",
    "tmp = df.groupby([\"TGT\"]).SRC.count()\n",
    "print(\"Num distinct requests:\", len(tmp))\n",
    "print(\"Avg num. votes per request:\", tmp.mean())\n",
    "df"
   ]
  },
  {
   "cell_type": "markdown",
   "id": "813b5a32",
   "metadata": {},
   "source": [
    "### 1.2\n",
    "In a single figure with three subfigures (one per item), show the following time series:\n",
    "- the number of RfAs per year;\n",
    "- the overall fraction of positive votes per year; and \n",
    "- the average number of votes per RfA per year.\n",
    "\n",
    "For each of the above three quantities, print the value for the year 2008."
   ]
  },
  {
   "cell_type": "code",
   "execution_count": 11,
   "id": "b1732d7e",
   "metadata": {},
   "outputs": [
    {
     "name": "stdout",
     "output_type": "stream",
     "text": [
      "a) # RfA 2008: 520\n",
      "b) % Positive votes: 0.7612268475384787\n",
      "c) Avg. # votes per RfA: 51.60192307692308\n"
     ]
    },
    {
     "data": {
      "image/png": "[encoded data removed]",
      "text/plain": [
       "<Figure size 1200x300 with 3 Axes>"
      ]
     },
     "metadata": {},
     "output_type": "display_data"
    }
   ],
   "source": [
    "# 1.2 \n",
    "fig, axs = plt.subplots(1, 3, figsize=(12,3))\n",
    "\n",
    "tmp = df.groupby([\"YEA\", \"TGT\"]).VOT\n",
    "\n",
    "tmp_a = tmp.count().reset_index().groupby(\"YEA\").VOT.count() \n",
    "axs[0].plot(tmp_a ) \n",
    "axs[0].scatter(tmp_a.index, tmp_a) \n",
    "axs[0].set_title(\"a) # RfA\")\n",
    "axs[0].set_xlabel(\"Year\")\n",
    "print(\"a) # RfA 2008:\", tmp_a.loc[2008])\n",
    "\n",
    "tmp_b = df.groupby([\"YEA\"]).VOT.apply(lambda x: np.mean(x > 0))\n",
    "axs[1].plot(tmp_b ) \n",
    "axs[1].scatter(tmp_b.index, tmp_b) \n",
    "axs[1].set_title(\"b) % Positive votes\")\n",
    "axs[1].set_xlabel(\"Year\")\n",
    "print(\"b) % Positive votes:\", tmp_b.loc[2008])\n",
    "\n",
    "tmp_c = tmp.count().reset_index().groupby(\"YEA\").VOT.mean()\n",
    "axs[2].plot(tmp_c ) \n",
    "axs[2].scatter(tmp_c.index, tmp_c) \n",
    "axs[2].set_title(\"c) Avg. # votes per RfA\")\n",
    "axs[2].set_xlabel(\"Year\");\n",
    "print(\"c) Avg. # votes per RfA:\", tmp_c.loc[2008])\n"
   ]
  },
  {
   "cell_type": "markdown",
   "id": "366d38d9",
   "metadata": {},
   "source": [
    "**1.3** \n",
    "**/Discuss:/** Describe the temporal patterns observed in the plots you did in **T1.2**."
   ]
  },
  {
   "cell_type": "markdown",
   "id": "e77900f8",
   "metadata": {},
   "source": [
    "**A1.3** \n",
    "From the above plots, there appears to be a spike in the number of admin requests in 2006-2007 (a). \n",
    "The fraction of positive votes across the years has decreased (b). \n",
    "The number of votes cast per RfA has increased (c)."
   ]
  },
  {
   "cell_type": "markdown",
   "id": "81126c89",
   "metadata": {},
   "source": [
    "**1.4** \n",
    "Create an undirected graph ([`nx.Graph`](https://networkx.org/documentation/stable/reference/classes/graph.html)) where every node corresponds to a Wikipedia user (source or target of an RfA) and where there exists an edge between two users if at least one of them has voted on the other. Each edge should have attributes corresponding to columns of the dataframe, namely:\n",
    "- `VOT`, which equals `1` if the vote was positive, and `-1` otherwise.\n",
    "- `YEA`, an integer that represents the year of the RfA.\n",
    "\n",
    "**The code to load the graph has been provided to you!** After running it, print the number of nodes and edges in your graph.\n",
    "\n",
    "---\n",
    "\n",
    "**Observation:** Note that we have at most one edge per pair of nodes in the graph, even though two votes may be associated with the pair  — e.g., if A voted in B's RfA in time $t_1$ and B voted in A's RfA in time $t_2$ ($t_1 < t_2$). In these cases, the code provided associates the metadata of the oldest vote ($t_1$ in the example) to the edge between A and B."
   ]
  },
  {
   "cell_type": "code",
   "execution_count": 3,
   "id": "3ef6cabc",
   "metadata": {},
   "outputs": [],
   "source": [
    "# Provided code! Do not change!\n",
    "import networkx as nx\n",
    "G = nx.from_pandas_edgelist(pd.read_csv(\"./wiki-RfA.csv.gz\"), \n",
    "                            'SRC', 'TGT', ['VOT', 'RES', 'YEA', 'DAT'], create_using=nx.Graph)"
   ]
  },
  {
   "cell_type": "code",
   "execution_count": 4,
   "id": "f21ec7a6",
   "metadata": {},
   "outputs": [
    {
     "name": "stdout",
     "output_type": "stream",
     "text": [
      "nodes 10831\n",
      "edges 161147\n"
     ]
    }
   ],
   "source": [
    "# 1.4\n",
    "print(\"nodes\", len(G.nodes()))\n",
    "print(\"edges\", len(G.edges()))"
   ]
  },
  {
   "cell_type": "markdown",
   "id": "37cbd1b8",
   "metadata": {},
   "source": [
    "**1.5** \n",
    "Plot the **complementary** cumulative distribution of the degree centrality of the undirected graph. Use a logarithmic (base 10) x-axis and a linear y-axis."
   ]
  },
  {
   "cell_type": "code",
   "execution_count": 5,
   "id": "c1edfd6a",
   "metadata": {},
   "outputs": [
    {
     "data": {
      "text/plain": [
       "Text(0.5, 0, 'Degree centrality')"
      ]
     },
     "execution_count": 5,
     "metadata": {},
     "output_type": "execute_result"
    },
    {
     "data": {
      "image/png": "[encoded data removed]",
      "text/plain": [
       "<Figure size 640x480 with 1 Axes>"
      ]
     },
     "metadata": {},
     "output_type": "display_data"
    }
   ],
   "source": [
    "# 1.5\n",
    "import seaborn as sns\n",
    "import matplotlib.pyplot as plt\n",
    "\n",
    "sns.ecdfplot(list(dict(G.degree()).values()), complementary=True)\n",
    "plt.xscale(\"log\")\n",
    "plt.axvline(10)\n",
    "plt.axhline(0.4)\n",
    "plt.title(\"Complementary CDF\")\n",
    "plt.xlabel(\"Degree centrality\")"
   ]
  },
  {
   "cell_type": "markdown",
   "id": "935be3bf",
   "metadata": {},
   "source": [
    "\n",
    "**1.6**\n",
    "**/Discuss:/** Why is the following statement false? Justify your answer. **\"From the graph obtained in task 1.5, one can conclude that around 40% of the users voted at least 11 times.\"**\n"
   ]
  },
  {
   "cell_type": "markdown",
   "id": "3316f395",
   "metadata": {},
   "source": [
    "**A1.6**\n",
    "Around 40% of the users had at least degree 11. \n",
    "However, the graph counts both receiving and casting a vote as an edge.\n",
    "Thus, there can be users with degree 11 that cast LESS than 11 votes.\n",
    "Therefore, 40% is an upper bound and the statement is false."
   ]
  },
  {
   "cell_type": "markdown",
   "id": "9d1d5f4a",
   "metadata": {},
   "source": [
    "**1.7**\n",
    "What fraction of users voted at least 11 times? Use the data to measure the fraction."
   ]
  },
  {
   "cell_type": "code",
   "execution_count": 6,
   "id": "a167a11b",
   "metadata": {},
   "outputs": [
    {
     "data": {
      "text/plain": [
       "0.24863816822084756"
      ]
     },
     "execution_count": 6,
     "metadata": {},
     "output_type": "execute_result"
    }
   ],
   "source": [
    "# 1.7\n",
    "import networkx as nx\n",
    "G_ = nx.from_pandas_edgelist(df, 'SRC', 'TGT', ['VOT', 'RES', 'YEA'], create_using=nx.MultiDiGraph)\n",
    "\n",
    "tmp = sorted(dict(G_.out_degree()).values())\n",
    "\n",
    "len([t for t in tmp if t >= 11]) / len(tmp)"
   ]
  },
  {
   "cell_type": "code",
   "execution_count": 7,
   "id": "bd852f8e",
   "metadata": {},
   "outputs": [
    {
     "name": "stdout",
     "output_type": "stream",
     "text": [
      "fraction users voting >= 11 times : 0.27\n"
     ]
    }
   ],
   "source": [
    "# INCORRECT! DOES NOT CONSIDER NODES IN THE GRAPH WITH 0 INCOMING EDGES\n",
    "frac_11votes = np.sum(df['SRC'].value_counts() >= 11) / len(df['SRC'].value_counts())\n",
    "print(f'fraction users voting >= 11 times : {frac_11votes:.2f}')"
   ]
  },
  {
   "cell_type": "markdown",
   "id": "35b05b29",
   "metadata": {},
   "source": [
    "## Task 2: Triangles\n",
    "\n",
    "Next, you set out to investigate the social balance theory by looking at the RfA graph.\n",
    "\n",
    "**2.1**\n",
    "Considering _only_ the RfAs of 2004 (i.e., where `YEA == 2004`), generate all triangles in the undirected graph.\n",
    "Print the number of triangles found.\n",
    "- **Hint:** Note that you can generate a graph with only a subset of nodes and edges via ` G.edge_subgraph`.\n",
    "-  **Hint:** The function `nx.enumerate_all_cliques` generates all cliques in an undirected graph. First, all cliques of size 1 are generated, then all cliques of size 2, etc. Triangles are cliques of size 3.\n"
   ]
  },
  {
   "cell_type": "code",
   "execution_count": 8,
   "id": "b39a403e",
   "metadata": {},
   "outputs": [
    {
     "name": "stdout",
     "output_type": "stream",
     "text": [
      "Triangles 8448\n"
     ]
    }
   ],
   "source": [
    "# 2.1\n",
    "\n",
    "import networkx as nx\n",
    "edges_2004 = [i for i, v in nx.get_edge_attributes(G, \"YEA\").items() if v == 2004]\n",
    "G_2004 = G.edge_subgraph(edges_2004)\n",
    "\n",
    "idx = 0\n",
    "tmp = []\n",
    "for i in nx.enumerate_all_cliques(G_2004):\n",
    "    if len(i) < 3: \n",
    "        continue\n",
    "    if len(i) > 3:\n",
    "        break\n",
    "    idx += 1\n",
    "    tmp.append(i)\n",
    "\n",
    "print(\"Triangles\", len(tmp))"
   ]
  },
  {
   "cell_type": "markdown",
   "id": "9b8ac389",
   "metadata": {},
   "source": [
    "**2.2 ** **/True or false:/** Is the following statement true or false? Justify your answer. **\"The node with the highest clustering coefficient in an undirected graph is the node that belongs to the largest number of triangles.\"**"
   ]
  },
  {
   "cell_type": "markdown",
   "id": "f961eef7",
   "metadata": {},
   "source": [
    "**A2.2** **False**. \n",
    "\n",
    "**Intuition:** cluster coefficient is a fraction of closed triangles in ego net. This says nothing about the absolute number of triangles in the ego network (i.e., the network of neighbors).\n",
    "\n",
    "**Counter example:**\n",
    "Consider the following counter-example in a graph with 5 nodes: $u_1$, $u_2$ $u_3$, $u_4$ and $u_5$, and 6 edges, \n",
    "$\\langle u_1, u_2 \\rangle$,\n",
    "$\\langle u_1, u_3 \\rangle$,\n",
    "$\\langle u_2, u_3 \\rangle$,\n",
    "$\\langle u_2, u_4 \\rangle$,\n",
    "$\\langle u_2, u_5 \\rangle$,\n",
    "$\\langle u_4, u_5 \\rangle$.\n",
    "\n",
    "```\n",
    "1 ----- 3\n",
    " \\     /\n",
    "  \\   /\n",
    "    2\n",
    "  /   \\\n",
    " /     \\\n",
    "4 ----- 5\n",
    "\n",
    "``` \n",
    "\n",
    "\n",
    "- $u_1$ has clustering coefficient equals 1, as the only neighbors of the node are connected. \n",
    "- $u_1$ belongs to 1 triangle.\n",
    "- $u_2$ has clustering coefficient equals 1, because $u_4$ and $u_5$ are not connected.\n",
    "- $u_2$ belongs to 2 triangles."
   ]
  },
  {
   "cell_type": "markdown",
   "id": "e2f5b22c",
   "metadata": {},
   "source": [
    "**2.3** Considering the set of triangles previously calculated, estimate the fraction of triangles of configurations\n",
    " $\\{+,+,+\\}$,  $\\{-,-,-\\}$,  $\\{+,+,-\\}$, and $\\{+,-,-\\}$. What fraction of triangles are \"balanced\" according to structural balance theory?"
   ]
  },
  {
   "cell_type": "code",
   "execution_count": 9,
   "id": "f858e94c",
   "metadata": {},
   "outputs": [
    {
     "name": "stdout",
     "output_type": "stream",
     "text": [
      "{-,-,-}: 0.0052\n",
      "{+,-,-}: 0.0627\n",
      "{+,+,-}: 0.1394\n",
      "{+,+,+}: 0.7926\n",
      "Balanced: 0.8554\n"
     ]
    }
   ],
   "source": [
    "# 2.3\n",
    "counter = {\n",
    "    (-1, -1, -1): 0, # -3\n",
    "    (-1, -1, 1):  0,  # +1-2\n",
    "    (-1, 1, 1):   0,   # +2-1\n",
    "    (1, 1, 1):    0     # +3\n",
    "}\n",
    "\n",
    "\n",
    "for tmp_ in tmp:\n",
    "    x = nx.get_edge_attributes(G.subgraph(tmp_), \"VOT\")\n",
    "    x = tuple(sorted([sign for (u, v), sign in x.items()]))\n",
    "    counter[x] += 1\n",
    "\n",
    "# normalizes it\n",
    "for k in counter:\n",
    "    counter[k] /= len(tmp)\n",
    "\n",
    "print(\"{-,-,-}:\", \n",
    "      round(counter[(-1, -1, -1)], 4) \n",
    ")\n",
    "print(\"{+,-,-}:\", \n",
    "      round(counter[(-1, -1, 1)], 4) \n",
    ")\n",
    "print(\"{+,+,-}:\", \n",
    "      round(counter[(-1, 1, 1)], 4) \n",
    ")\n",
    "print(\"{+,+,+}:\", \n",
    "      round(counter[(1, 1, 1)], 4) \n",
    ")\n",
    "\n",
    "print(\"Balanced:\", round(counter[(-1, -1, 1)] + counter[(1, 1, 1)], 4) )"
   ]
  },
  {
   "cell_type": "markdown",
   "id": "97e6f9f0",
   "metadata": {},
   "source": [
    "**2.4** To observe how triangle configurations would be distributed under a random null model, do the following:\n",
    "- Create a new column `VOT_RND` in the dataframe, where RfA votes (i.e., edge signs in the graph) are shuffled, i.e., permuted randomly.  For shuffling, use `numpy.random`, without replacement and with the seed 32 (see code provided below).\n",
    "- Create a new edge attribute with the values of `VOT_RND` in the graph you created in task **1.4**. You can do this easily using the  [`set_edge_attributes`](https://networkx.org/documentation/stable/reference/generated/networkx.classes.function.set_edge_attributes.html) function.\n",
    "- Considering the shuffled edge signs,  compute the fraction of triangles in each configuration ($\\{+,+,+\\}$,  $\\{-,-,-\\}$,  $\\{+,+,-\\}$, $\\{+,-,-\\}$). Moreover, compute the fraction of triangles that are \"balanced\" according to structural balance theory. (Reminder: consider only the RfAs of 2004.)\n"
   ]
  },
  {
   "cell_type": "code",
   "execution_count": 10,
   "id": "8b4cba61",
   "metadata": {},
   "outputs": [],
   "source": [
    "# PROVIDED STUB FOR 2.4\n",
    "import numpy as np\n",
    "np.random.seed(32)\n",
    "df_2004 = df[df.YEA == 2004].copy(deep=True)\n",
    "df_2004[\"VOT_RND\"] = np.random.choice(df_2004[\"VOT\"].values, size=len(df_2004), replace=False)"
   ]
  },
  {
   "cell_type": "code",
   "execution_count": 11,
   "id": "49cf240b",
   "metadata": {},
   "outputs": [
    {
     "name": "stdout",
     "output_type": "stream",
     "text": [
      "{-,-,-}: 0.0052 / Null:  0.0019\n",
      "{+,-,-}: 0.0627 / Null:  0.0344\n",
      "{+,+,-}: 0.1394 / Null:  0.2779\n",
      "{+,+,+}: 0.7926 / Null:  0.6857\n"
     ]
    },
    {
     "data": {
      "text/plain": [
       "('Balanced, ', 0.7202)"
      ]
     },
     "execution_count": 11,
     "metadata": {},
     "output_type": "execute_result"
    }
   ],
   "source": [
    "# 2.4\n",
    "\n",
    "import numpy as np\n",
    "\n",
    "attrs_to_add = dict(df_2004.set_index([\"SRC\", \"TGT\"]).VOT_RND)\n",
    "\n",
    "\n",
    "nx.set_edge_attributes(G, name=\"VOT_RND\", values=attrs_to_add)\n",
    "\n",
    "counter2 = {\n",
    "    (-1, -1, -1): 0, \n",
    "    (-1, -1, 1):  0, \n",
    "    (-1, 1, 1):   0, \n",
    "    (1, 1, 1):    0  \n",
    "}\n",
    "\n",
    "for tmp_ in tmp:\n",
    "    x = nx.get_edge_attributes(G.subgraph(tmp_), \"VOT_RND\")\n",
    "    x = tuple(sorted([sign for (u, v), sign in x.items()]))\n",
    "    counter2[x] +=1\n",
    "\n",
    "# normalizes it\n",
    "for k in counter2:\n",
    "    counter2[k] /= len(tmp) \n",
    "\n",
    "print(\"{-,-,-}:\", \n",
    "      round(counter[(-1, -1, -1)], 4), \"/ Null: \",\n",
    "      round(counter2[(-1, -1, -1)], 4),\n",
    ")\n",
    "print(\"{+,-,-}:\", \n",
    "      round(counter[(-1, -1, 1)], 4),  \"/ Null: \",\n",
    "      round(counter2[(-1, -1, 1)], 4) \n",
    ")\n",
    "print(\"{+,+,-}:\", \n",
    "      round(counter[(-1, 1, 1)], 4), \"/ Null: \",\n",
    "      round(counter2[(-1, 1, 1)], 4)\n",
    ")\n",
    "print(\"{+,+,+}:\", \n",
    "      round(counter[(1, 1, 1)], 4), \"/ Null: \",\n",
    "      round(counter2[(1, 1, 1)], 4) \n",
    ")\n",
    "\n",
    "\"Balanced, \", round(counter2[(-1, -1, 1)] + counter2[(1, 1, 1)], 4) "
   ]
  },
  {
   "cell_type": "markdown",
   "id": "f055a145",
   "metadata": {},
   "source": [
    "**2.5** **/Discuss:/** Do the results of tasks **2.3** and **2.4** suggest that structural balance theory is correct? What kind of subsequent analysis would make you trust that the results are not obtained simply by chance? (No need to actually perform that subsequent analysis here.) Justify your answer."
   ]
  },
  {
   "cell_type": "markdown",
   "id": "dcd070a6",
   "metadata": {},
   "source": [
    "**A2.5** The fraction of balanced triangles of the original (real) graph is higher than that of the random shuffled (null) graph, which suggests that Structural Balance Theory is correct, since balanced patterns are more frequently observed than random. To show the results are not obtained simply by chance, one could use bootstrap to obtain confidence intervals."
   ]
  },
  {
   "cell_type": "markdown",
   "id": "d5252ffb",
   "metadata": {},
   "source": [
    "### Interlude: Additional data\n",
    "\n",
    "In the data provided in the file `wiki-RfA.csv.gz` (with which you’ve worked up to now), each column corresponds to a vote from a user $u$ to a user $v$ at a time $t$. \n",
    "\n",
    "In **Task 2**, we did not consider the temporal aspect of this network. For the next task, you are provided with a complimentary dataset (`data/wiki-RfA_extra.csv.gz`) containing, for each vote (uniquely determined by `SRC` and `TGT`), a variety of features. **Importantly, these features were calculated considering only data that was already available at the time when the respective vote was cast.** The features are described as follows.\n",
    "\n",
    "- `PP`, `NN`, `PN` — Each vote (signed edge) is part of zero or more triangles, and we computed the number of triangles in which the two remaining edges were both positive (`PP`), both negative (`NN`) and of different signs (i.e., one positive and one negative, `PN`). This considers only the votes that the target (denoted by `TGT`) has received before the current vote. \n",
    "\n",
    "- `P`, `N` — The number of positive (`P`) and negative (`N`) votes that the target `TGT` received before the current vote.\n",
    "\n",
    "- `TXT_PROCESSED` — The text in the original dataset, processed so 1) it is entirely lower-case, 2) it does not contain non-alphanumeric characters, and 3) it does not contain words starting with “supp” or “opp” (since words such as \"support\" and \"oppose\"  are obvious give-away signals of the vote).\n",
    "\n",
    "### Interlude: Predicting edge signs with structural balance theory\n",
    "\n",
    "We can use structural balance theory to predict edge signs. \n",
    "\n",
    "Consider an edge whose sign we do not know, as well as the fractions `PP`, `NN`, and `PN` associated with the edge, as defined above. \n",
    "\n",
    "According to structural balance theory, if `PP` + `NN` $\\geq$ `PN`, the vote is predicted to be positive, as this will create more balanced triangles in the graph. Otherwise, it is predicted to be negative. \n",
    "\n",
    "According to the weak structural balance theory, if `PP` $\\geq$ `PN`, the vote is predicted to be positive, as this will create more balanced triangles in the graph. Otherwise, it is predicted to be negative. \n",
    "\n",
    "Note that in both cases we use “$\\geq$” rather than “<”, i.e., when both sides of the equation are equal, we break ties in favor of positive edges. We do so because there are more positive edges in the graph."
   ]
  },
  {
   "cell_type": "markdown",
   "id": "e2f20eed",
   "metadata": {},
   "source": [
    "### Task 3: Predict it!\n",
    "\n",
    "In the final part of the exam, you will leverage your machine learning and regression skills.\n",
    "\n",
    "**3.1** Merge the new dataset with the original dataframe from task **1** using the columns `SRC` and `TGT`. You may drop the old `TXT` column if you want to. \n"
   ]
  },
  {
   "cell_type": "code",
   "execution_count": 12,
   "id": "a2272113",
   "metadata": {},
   "outputs": [
    {
     "data": {
      "text/html": [
       "<div>\n",
       "<style scoped>\n",
       "    .dataframe tbody tr th:only-of-type {\n",
       "        vertical-align: middle;\n",
       "    }\n",
       "\n",
       "    .dataframe tbody tr th {\n",
       "        vertical-align: top;\n",
       "    }\n",
       "\n",
       "    .dataframe thead th {\n",
       "        text-align: right;\n",
       "    }\n",
       "</style>\n",
       "<table border=\"1\" class=\"dataframe\">\n",
       "  <thead>\n",
       "    <tr style=\"text-align: right;\">\n",
       "      <th></th>\n",
       "      <th>index</th>\n",
       "      <th>SRC</th>\n",
       "      <th>TGT</th>\n",
       "      <th>VOT</th>\n",
       "      <th>RES</th>\n",
       "      <th>YEA</th>\n",
       "      <th>DAT</th>\n",
       "      <th>TXT</th>\n",
       "      <th>PP</th>\n",
       "      <th>NN</th>\n",
       "      <th>PN</th>\n",
       "      <th>N</th>\n",
       "      <th>P</th>\n",
       "      <th>TXT_PROCESSED</th>\n",
       "    </tr>\n",
       "  </thead>\n",
       "  <tbody>\n",
       "    <tr>\n",
       "      <th>0</th>\n",
       "      <td>7449</td>\n",
       "      <td>5943</td>\n",
       "      <td>9966</td>\n",
       "      <td>-1</td>\n",
       "      <td>-1</td>\n",
       "      <td>2012</td>\n",
       "      <td>2012-12-30 22:27:00</td>\n",
       "      <td>—</td>\n",
       "      <td>2</td>\n",
       "      <td>0</td>\n",
       "      <td>4</td>\n",
       "      <td>12</td>\n",
       "      <td>0</td>\n",
       "      <td></td>\n",
       "    </tr>\n",
       "    <tr>\n",
       "      <th>1</th>\n",
       "      <td>7448</td>\n",
       "      <td>9153</td>\n",
       "      <td>9966</td>\n",
       "      <td>-1</td>\n",
       "      <td>-1</td>\n",
       "      <td>2012</td>\n",
       "      <td>2012-12-30 22:25:00</td>\n",
       "      <td>'''Oppose'''. This joke really isn't funny, no...</td>\n",
       "      <td>2</td>\n",
       "      <td>1</td>\n",
       "      <td>3</td>\n",
       "      <td>11</td>\n",
       "      <td>0</td>\n",
       "      <td>this joke really isn t funny not even if you ...</td>\n",
       "    </tr>\n",
       "    <tr>\n",
       "      <th>2</th>\n",
       "      <td>7447</td>\n",
       "      <td>4189</td>\n",
       "      <td>9966</td>\n",
       "      <td>-1</td>\n",
       "      <td>-1</td>\n",
       "      <td>2012</td>\n",
       "      <td>2012-12-30 22:17:00</td>\n",
       "      <td>'''Oppose''' as per nomination and answers. --...</td>\n",
       "      <td>0</td>\n",
       "      <td>0</td>\n",
       "      <td>2</td>\n",
       "      <td>10</td>\n",
       "      <td>0</td>\n",
       "      <td>as per nomination and answers</td>\n",
       "    </tr>\n",
       "    <tr>\n",
       "      <th>3</th>\n",
       "      <td>7446</td>\n",
       "      <td>3750</td>\n",
       "      <td>9966</td>\n",
       "      <td>-1</td>\n",
       "      <td>-1</td>\n",
       "      <td>2012</td>\n",
       "      <td>2012-12-30 22:14:00</td>\n",
       "      <td>'''Oppose''' and '''speeedy close''' this as [...</td>\n",
       "      <td>0</td>\n",
       "      <td>0</td>\n",
       "      <td>0</td>\n",
       "      <td>9</td>\n",
       "      <td>0</td>\n",
       "      <td>and speeedy close this as wp snow as it s cle...</td>\n",
       "    </tr>\n",
       "    <tr>\n",
       "      <th>4</th>\n",
       "      <td>7445</td>\n",
       "      <td>4225</td>\n",
       "      <td>9966</td>\n",
       "      <td>-1</td>\n",
       "      <td>-1</td>\n",
       "      <td>2012</td>\n",
       "      <td>2012-12-30 22:08:00</td>\n",
       "      <td>'''Oppose''' per nomination and answers. I am ...</td>\n",
       "      <td>0</td>\n",
       "      <td>0</td>\n",
       "      <td>1</td>\n",
       "      <td>8</td>\n",
       "      <td>0</td>\n",
       "      <td>per nomination and answers i am particularly ...</td>\n",
       "    </tr>\n",
       "    <tr>\n",
       "      <th>...</th>\n",
       "      <td>...</td>\n",
       "      <td>...</td>\n",
       "      <td>...</td>\n",
       "      <td>...</td>\n",
       "      <td>...</td>\n",
       "      <td>...</td>\n",
       "      <td>...</td>\n",
       "      <td>...</td>\n",
       "      <td>...</td>\n",
       "      <td>...</td>\n",
       "      <td>...</td>\n",
       "      <td>...</td>\n",
       "      <td>...</td>\n",
       "      <td>...</td>\n",
       "    </tr>\n",
       "    <tr>\n",
       "      <th>166998</th>\n",
       "      <td>198176</td>\n",
       "      <td>3867</td>\n",
       "      <td>2762</td>\n",
       "      <td>1</td>\n",
       "      <td>1</td>\n",
       "      <td>2003</td>\n",
       "      <td>2003-08-23 03:34:00</td>\n",
       "      <td>Also support; Llywrch has been here for ages a...</td>\n",
       "      <td>0</td>\n",
       "      <td>0</td>\n",
       "      <td>0</td>\n",
       "      <td>0</td>\n",
       "      <td>0</td>\n",
       "      <td>also llywrch has been here for ages and done n...</td>\n",
       "    </tr>\n",
       "    <tr>\n",
       "      <th>166999</th>\n",
       "      <td>198172</td>\n",
       "      <td>8091</td>\n",
       "      <td>8486</td>\n",
       "      <td>1</td>\n",
       "      <td>1</td>\n",
       "      <td>2003</td>\n",
       "      <td>2003-08-21 11:47:00</td>\n",
       "      <td>Support. [[User_talk:Fantasy#Thanks!]] and oth...</td>\n",
       "      <td>0</td>\n",
       "      <td>0</td>\n",
       "      <td>0</td>\n",
       "      <td>0</td>\n",
       "      <td>0</td>\n",
       "      <td>user talk fantasy thanks and other of his act...</td>\n",
       "    </tr>\n",
       "    <tr>\n",
       "      <th>167000</th>\n",
       "      <td>198204</td>\n",
       "      <td>1581</td>\n",
       "      <td>8767</td>\n",
       "      <td>1</td>\n",
       "      <td>1</td>\n",
       "      <td>2003</td>\n",
       "      <td>2003-08-18 23:16:00</td>\n",
       "      <td>Support for WikiQuote, but I haven't seen enou...</td>\n",
       "      <td>0</td>\n",
       "      <td>0</td>\n",
       "      <td>0</td>\n",
       "      <td>0</td>\n",
       "      <td>0</td>\n",
       "      <td>for wikiquote but i haven t seen enough evide...</td>\n",
       "    </tr>\n",
       "    <tr>\n",
       "      <th>167001</th>\n",
       "      <td>198079</td>\n",
       "      <td>1011</td>\n",
       "      <td>8056</td>\n",
       "      <td>1</td>\n",
       "      <td>1</td>\n",
       "      <td>2003</td>\n",
       "      <td>2003-08-16 01:25:00</td>\n",
       "      <td>Support. Does good things with maps. --</td>\n",
       "      <td>0</td>\n",
       "      <td>0</td>\n",
       "      <td>0</td>\n",
       "      <td>0</td>\n",
       "      <td>0</td>\n",
       "      <td>does good things with maps</td>\n",
       "    </tr>\n",
       "    <tr>\n",
       "      <th>167002</th>\n",
       "      <td>198219</td>\n",
       "      <td>1011</td>\n",
       "      <td>7238</td>\n",
       "      <td>1</td>\n",
       "      <td>1</td>\n",
       "      <td>2003</td>\n",
       "      <td>2003-08-16 01:25:00</td>\n",
       "      <td>Support. --</td>\n",
       "      <td>0</td>\n",
       "      <td>0</td>\n",
       "      <td>0</td>\n",
       "      <td>0</td>\n",
       "      <td>0</td>\n",
       "      <td></td>\n",
       "    </tr>\n",
       "  </tbody>\n",
       "</table>\n",
       "<p>167003 rows × 14 columns</p>\n",
       "</div>"
      ],
      "text/plain": [
       "         index   SRC   TGT  VOT  RES   YEA                  DAT  \\\n",
       "0         7449  5943  9966   -1   -1  2012  2012-12-30 22:27:00   \n",
       "1         7448  9153  9966   -1   -1  2012  2012-12-30 22:25:00   \n",
       "2         7447  4189  9966   -1   -1  2012  2012-12-30 22:17:00   \n",
       "3         7446  3750  9966   -1   -1  2012  2012-12-30 22:14:00   \n",
       "4         7445  4225  9966   -1   -1  2012  2012-12-30 22:08:00   \n",
       "...        ...   ...   ...  ...  ...   ...                  ...   \n",
       "166998  198176  3867  2762    1    1  2003  2003-08-23 03:34:00   \n",
       "166999  198172  8091  8486    1    1  2003  2003-08-21 11:47:00   \n",
       "167000  198204  1581  8767    1    1  2003  2003-08-18 23:16:00   \n",
       "167001  198079  1011  8056    1    1  2003  2003-08-16 01:25:00   \n",
       "167002  198219  1011  7238    1    1  2003  2003-08-16 01:25:00   \n",
       "\n",
       "                                                      TXT  PP  NN  PN   N  P  \\\n",
       "0                                                       —   2   0   4  12  0   \n",
       "1       '''Oppose'''. This joke really isn't funny, no...   2   1   3  11  0   \n",
       "2       '''Oppose''' as per nomination and answers. --...   0   0   2  10  0   \n",
       "3       '''Oppose''' and '''speeedy close''' this as [...   0   0   0   9  0   \n",
       "4       '''Oppose''' per nomination and answers. I am ...   0   0   1   8  0   \n",
       "...                                                   ...  ..  ..  ..  .. ..   \n",
       "166998  Also support; Llywrch has been here for ages a...   0   0   0   0  0   \n",
       "166999  Support. [[User_talk:Fantasy#Thanks!]] and oth...   0   0   0   0  0   \n",
       "167000  Support for WikiQuote, but I haven't seen enou...   0   0   0   0  0   \n",
       "167001            Support. Does good things with maps. --   0   0   0   0  0   \n",
       "167002                                        Support. --   0   0   0   0  0   \n",
       "\n",
       "                                            TXT_PROCESSED  \n",
       "0                                                          \n",
       "1        this joke really isn t funny not even if you ...  \n",
       "2                          as per nomination and answers   \n",
       "3        and speeedy close this as wp snow as it s cle...  \n",
       "4        per nomination and answers i am particularly ...  \n",
       "...                                                   ...  \n",
       "166998  also llywrch has been here for ages and done n...  \n",
       "166999   user talk fantasy thanks and other of his act...  \n",
       "167000   for wikiquote but i haven t seen enough evide...  \n",
       "167001                        does good things with maps   \n",
       "167002                                                     \n",
       "\n",
       "[167003 rows x 14 columns]"
      ]
     },
     "execution_count": 12,
     "metadata": {},
     "output_type": "execute_result"
    }
   ],
   "source": [
    "new_df = pd.read_csv(\"wiki-RfA_extra.csv.gz\")\n",
    "merged_df = merged = pd.merge(df, new_df, how='inner', on=[\"SRC\", \"TGT\", \"YEA\"])\n",
    "\n",
    "merged_df"
   ]
  },
  {
   "cell_type": "markdown",
   "id": "c5d42a2d",
   "metadata": {},
   "source": [
    "**3.2**  Create the following two rule-based classifiers, and for each, estimate its area under the ROC curve (a.k.a. “AUC/ROC”) on the entire dataset:\n",
    "\n",
    "- **A)** a classifier inspired by structural balance theory. The classifier should predict a positive vote if  `PP` + `NN` $\\geq$ `PN`, and a negative vote otherwise.\n",
    "- **B)** a classifier inspired by weak structural balance theory. The classifier should predict a positive vote if `PP`  $\\geq$ `PN` and a negative vote otherwise."
   ]
  },
  {
   "cell_type": "code",
   "execution_count": 13,
   "id": "44643421",
   "metadata": {},
   "outputs": [
    {
     "name": "stdout",
     "output_type": "stream",
     "text": [
      "A) roc score 0.525390127858417\n",
      "B) roc score 0.528036104766419\n"
     ]
    }
   ],
   "source": [
    "# 3.2\n",
    "from sklearn.metrics import roc_auc_score\n",
    "\n",
    "# A)\n",
    "y = (merged_df.VOT.values == 1).astype(int)\n",
    "y_pred = (merged_df.PP + merged_df.NN >= merged_df.PN).astype(int)\n",
    "print(\"A) roc score\", roc_auc_score(y, y_pred))\n",
    "\n",
    "# B)\n",
    "y = (merged_df.VOT.values == 1).astype(int)\n",
    "y_pred = (merged_df.PP >= merged_df.PN).astype(int)\n",
    "print(\"B) roc score\", roc_auc_score(y, y_pred))\n",
    "\n"
   ]
  },
  {
   "cell_type": "markdown",
   "id": "0161ec09",
   "metadata": {},
   "source": [
    "**3.3** To determine if the differences in the classifiers from task **3.2** occur solely due to chance, follow the following bootstrap procedure, using 200 iterations:\n",
    "\n",
    "- **A)** Randomly sample the entire dataset (i.e., votes from the dataframe constructed in task **3.1**) with replacement;\n",
    "- **B)** Compute the difference of the AUC/ROC for the two classifiers on the entire dataset.\n",
    "\n",
    "Then use the distribution of AUC/ROC differences (one difference per bootstrap iteration) to estimate the 95% confidence interval for the AUC/ROC difference."
   ]
  },
  {
   "cell_type": "code",
   "execution_count": 14,
   "id": "817ee28f",
   "metadata": {},
   "outputs": [
    {
     "name": "stdout",
     "output_type": "stream",
     "text": [
      "95% CI: [-0.00303181 -0.00230568]\n"
     ]
    }
   ],
   "source": [
    "# 3.3 \n",
    "\n",
    "BF = []\n",
    "\n",
    "for i in range(200):\n",
    "    df_sample = merged_df.sample(frac=1, replace=True)\n",
    "    # A)\n",
    "    y = (df_sample.VOT.values == 1).astype(int)\n",
    "    y_pred = (df_sample.PP + df_sample.NN >= df_sample.PN).astype(int)\n",
    "    \n",
    "    BF1 = roc_auc_score(y, y_pred)\n",
    "\n",
    "    # B)\n",
    "    y = (df_sample.VOT.values == 1).astype(int)\n",
    "    y_pred = (df_sample.PP >= df_sample.PN).astype(int)\n",
    "    BF2 = roc_auc_score(y, y_pred)\n",
    "    \n",
    "    BF.append(BF1 - BF2)\n",
    "\n",
    "print(\"95% CI:\", np.quantile( np.array(BF), q=[0.025, 0.975]))"
   ]
  },
  {
   "cell_type": "markdown",
   "id": "4d0e1569",
   "metadata": {},
   "source": [
    "**3.4 ** **/Discuss:**/ According to the results in tasks **3.2** and **3.3**, which theory better predicts actual edge signs, structural balance theory or the weak structural balance theory? \n"
   ]
  },
  {
   "cell_type": "markdown",
   "id": "94b39801",
   "metadata": {},
   "source": [
    "**A3.4** The weak social balance theory makes the better predictions, since its AUC ROC score is significantly (according to the bootstrapped CIs) higher.\n",
    "\n"
   ]
  },
  {
   "cell_type": "markdown",
   "id": "28d37dc1",
   "metadata": {},
   "source": [
    "**3.5** How accurately can we predict the vote with more sophisticated features and algorithms?\n",
    "\n",
    "- Create a TF-IDF representation of the text of each vote  using `sklearn`'s vectorizer ([`sklearn.feature_extraction.text.TfidfVectorizer`](https://scikit-learn.org/stable/modules/generated/sklearn.feature_extraction.text.TfidfVectorizer.html)) with the parameters `max_features=150` and `stop_words='english'`.\n",
    "- Split the  dataset into training and test sets using sklearn [`sklearn.model_selection.train_test_split`](https://scikit-learn.org/stable/modules/generated/sklearn.model_selection.train_test_split.html) using parameters `test_size=0.1` and  `random_state=42`.\n",
    "\n",
    "- Then, train two logistic regression models ([`sklearn.linear_model.SGDClassifier`](https://scikit-learn.org/stable/modules/generated/sklearn.linear_model.SGDClassifier.html)) using parameters `loss='log_loss'` and `max_iter=2000` considering:\n",
    "\n",
    "    - **1)** the TF-IDF feature vector\n",
    "\n",
    "    - **2)** the TF-IDF feature vector and the features `PP`, `NN`, `PN`, `P`, and `N` related to the graph.\n",
    "\n",
    "- Last, report the AUC/ROC of each model in the test set."
   ]
  },
  {
   "cell_type": "code",
   "execution_count": 22,
   "id": "764a00f3",
   "metadata": {},
   "outputs": [
    {
     "name": "stdout",
     "output_type": "stream",
     "text": [
      "\n",
      "loss hinge / df_type: fillna\n",
      "Before split / roc_auc_score (without extra features) 0.6737970421479251\n",
      "Before split / roc_auc_score  (with extra features) 0.7255085037258748\n",
      "After split / roc_auc_score (without extra features) 0.674124579121076\n",
      "After split / roc_auc_score (without extra features) 0.8072730770455273\n",
      "\n",
      "loss hinge / df_type: dropna\n",
      "Before split / roc_auc_score (without extra features) 0.6845838723418747\n",
      "Before split / roc_auc_score  (with extra features) 0.7959449312904007\n",
      "After split / roc_auc_score (without extra features) 0.6849575312219962\n",
      "After split / roc_auc_score (without extra features) 0.7896094743222035\n",
      "\n",
      "loss log_loss / df_type: fillna\n",
      "Before split / roc_auc_score (without extra features) 0.7004806878973522\n",
      "(with predict_proba) 0.8563128457210444\n",
      "Before split / roc_auc_score  (with extra features) 0.7411868301857975\n",
      "(with predict_proba) 0.8785897609035239\n",
      "After split / roc_auc_score (without extra features) 0.6990490909056859\n",
      "(with predict_proba) 0.8553744425649702\n",
      "After split / roc_auc_score (without extra features) 0.7415174260157225\n",
      "(with predict_proba) 0.8792683485107425\n",
      "\n",
      "loss log_loss / df_type: dropna\n",
      "Before split / roc_auc_score (without extra features) 0.6963453413680117\n",
      "(with predict_proba) 0.8591929512532477\n",
      "Before split / roc_auc_score  (with extra features) 0.7714919939322726\n",
      "(with predict_proba) 0.9053510690767915\n",
      "After split / roc_auc_score (without extra features) 0.6966016616486942\n",
      "(with predict_proba) 0.8592956252494725\n",
      "After split / roc_auc_score (without extra features) 0.7719256829698732\n",
      "(with predict_proba) 0.9053396814190615\n"
     ]
    }
   ],
   "source": [
    "# 3.5 Note, we considered several variations here: \n",
    "# - dropna vs. fillna \n",
    "# - hinge loss vs. log_loss\n",
    "# - predict vs. predict_proba\n",
    "# Other small variations were taken into account!\n",
    "\n",
    "from sklearn.feature_extraction.text import TfidfVectorizer\n",
    "from sklearn.linear_model import SGDClassifier\n",
    "from sklearn.model_selection import train_test_split\n",
    "\n",
    "# These are all the combinations of different things you could have done!\n",
    "for loss_v, merged_df_, df_type in zip(\n",
    "        [\"hinge\", \"hinge\", \"log_loss\", \"log_loss\"],\n",
    "        [merged_df.fillna(\"\"), merged_df.dropna(), merged_df.fillna(\"\"), merged_df.dropna()],\n",
    "        [\"fillna\", \"dropna\", \"fillna\", \"dropna\"]\n",
    "):\n",
    "    print(\"\\nloss\", loss_v, \"/ df_type:\", df_type)\n",
    "    \n",
    "    # SOLUTION 1: Using the TFIDF before the split, wrong but we accepted it, because instructions were confusing\n",
    "    vectorizer = TfidfVectorizer( max_features=150, stop_words=\"english\")\n",
    "    X = vectorizer.fit_transform(merged_df_.TXT_PROCESSED.values).toarray()\n",
    "    X2 = np.hstack((X, merged_df_[[\"PP\", \"NN\", \"PN\", \"N\", \"P\"]].values))\n",
    "    y =  (merged_df_.VOT == 1).values.astype(int)\n",
    "\n",
    "    X_train, X_test, y_train, y_test = train_test_split(X, y, test_size=0.1, random_state=42)\n",
    "    clf = SGDClassifier(random_state=0, loss=loss_v).fit(X_train, y_train)\n",
    "    y_pred = clf.predict(X_test)\n",
    "    print(\"Before split / roc_auc_score (without extra features)\", roc_auc_score(y_test, y_pred))\n",
    "    if loss_v != \"hinge\":\n",
    "        y_pred = clf.predict_proba(X_test)[:,1]\n",
    "        print(\"(with predict_proba)\", roc_auc_score(y_test, y_pred))\n",
    "\n",
    "    \n",
    "    X_train, X_test, y_train, y_test = train_test_split(X2, y, test_size=0.1, random_state=42)\n",
    "    clf = SGDClassifier(random_state=0, loss=loss_v).fit(X_train, y_train)\n",
    "    y_pred = clf.predict(X_test)\n",
    "    print(\"Before split / roc_auc_score  (with extra features)\", roc_auc_score(y_test, y_pred))\n",
    "    if loss_v != \"hinge\":\n",
    "        y_pred = clf.predict_proba(X_test)[:,1]\n",
    "        print(\"(with predict_proba)\", roc_auc_score(y_test, y_pred))\n",
    "\n",
    "        #SOLUTION 2: Using the TFIDF after the split\n",
    "    X_train, X_test, _, _ = train_test_split(merged_df_[\"TXT_PROCESSED\"].values, \n",
    "                                                        y, test_size=0.1, random_state=42)\n",
    "    X_train = vectorizer.fit_transform(X_train).toarray()\n",
    "    X_test = vectorizer.transform(X_test).toarray()\n",
    "    clf = SGDClassifier(random_state=0, loss=loss_v).fit(X_train, y_train)\n",
    "    y_pred = clf.predict(X_test)\n",
    "    print(\"After split / roc_auc_score (without extra features)\", roc_auc_score(y_test, y_pred))\n",
    "    if loss_v != \"hinge\":\n",
    "        y_pred = clf.predict_proba(X_test)[:,1]\n",
    "        print(\"(with predict_proba)\", roc_auc_score(y_test, y_pred))\n",
    "        \n",
    "    X2_train, X2_test, _, _ = train_test_split(merged_df_[[\"PP\", \"NN\", \"PN\", \"N\", \"P\"]].values,\n",
    "                                                        y, test_size=0.1, random_state=42)\n",
    "\n",
    "    X_train = np.hstack((X_train, X2_train))\n",
    "    X_test = np.hstack((X_test, X2_test))\n",
    "\n",
    "    clf = SGDClassifier(random_state=0, loss=loss_v).fit(X_train, y_train)\n",
    "    y_pred = clf.predict(X_test)\n",
    "    print(\"After split / roc_auc_score (without extra features)\", roc_auc_score(y_test, y_pred))\n",
    "    if loss_v != \"hinge\":\n",
    "        y_pred = clf.predict_proba(X_test)[:,1]\n",
    "        print(\"(with predict_proba)\", roc_auc_score(y_test, y_pred))"
   ]
  },
  {
   "cell_type": "markdown",
   "id": "898cbdd1",
   "metadata": {},
   "source": [
    "**3.6** **/Discuss:**/  According to the results in task **3.5**, does information from the graph help in the task of predicting the vote even when using the text?  What kind of subsequent analysis would make you trust that the results are not obtained simply by chance? (No need to actually perform that subsequent analysis here.) "
   ]
  },
  {
   "cell_type": "markdown",
   "id": "6b6767ad",
   "metadata": {},
   "source": [
    "**A3.6** Yes, because we get an increase in the performance of the model. To obtain confidence intervals we could bootstrap the difference between the classifier with and without the extra information from the graph."
   ]
  },
  {
   "cell_type": "markdown",
   "id": "7f51071d",
   "metadata": {},
   "source": [
    "**3.7** Putting on your observational studies hat, run two logistic regressions using `statsmodels`.\n",
    "- In the first regression, the vote is the outcome, and `PP`, `NN` and `PN` are the predictors.\n",
    "- In the second regression, the vote is the outcome, and `PP`, `NN`, `PN`, and `N` are the predictors."
   ]
  },
  {
   "cell_type": "code",
   "execution_count": 23,
   "id": "9f8df411",
   "metadata": {},
   "outputs": [
    {
     "name": "stdout",
     "output_type": "stream",
     "text": [
      "Optimization terminated successfully.\n",
      "         Current function value: 0.514594\n",
      "         Iterations 7\n"
     ]
    },
    {
     "data": {
      "text/html": [
       "<table class=\"simpletable\">\n",
       "<caption>Logit Regression Results</caption>\n",
       "<tr>\n",
       "  <th>Dep. Variable:</th>         <td>VOT2</td>       <th>  No. Observations:  </th>  <td>167003</td> \n",
       "</tr>\n",
       "<tr>\n",
       "  <th>Model:</th>                 <td>Logit</td>      <th>  Df Residuals:      </th>  <td>166999</td> \n",
       "</tr>\n",
       "<tr>\n",
       "  <th>Method:</th>                 <td>MLE</td>       <th>  Df Model:          </th>  <td>     3</td> \n",
       "</tr>\n",
       "<tr>\n",
       "  <th>Date:</th>            <td>Fri, 27 Jan 2023</td> <th>  Pseudo R-squ.:     </th>  <td>0.01804</td>\n",
       "</tr>\n",
       "<tr>\n",
       "  <th>Time:</th>                <td>13:20:43</td>     <th>  Log-Likelihood:    </th> <td> -85939.</td>\n",
       "</tr>\n",
       "<tr>\n",
       "  <th>converged:</th>             <td>True</td>       <th>  LL-Null:           </th> <td> -87517.</td>\n",
       "</tr>\n",
       "<tr>\n",
       "  <th>Covariance Type:</th>     <td>nonrobust</td>    <th>  LLR p-value:       </th>  <td> 0.000</td> \n",
       "</tr>\n",
       "</table>\n",
       "<table class=\"simpletable\">\n",
       "<tr>\n",
       "      <td></td>         <th>coef</th>     <th>std err</th>      <th>z</th>      <th>P>|z|</th>  <th>[0.025</th>    <th>0.975]</th>  \n",
       "</tr>\n",
       "<tr>\n",
       "  <th>Intercept</th> <td>    1.2781</td> <td>    0.006</td> <td>  206.255</td> <td> 0.000</td> <td>    1.266</td> <td>    1.290</td>\n",
       "</tr>\n",
       "<tr>\n",
       "  <th>PP</th>        <td>    0.2493</td> <td>    0.007</td> <td>   34.272</td> <td> 0.000</td> <td>    0.235</td> <td>    0.264</td>\n",
       "</tr>\n",
       "<tr>\n",
       "  <th>NN</th>        <td>   -0.6765</td> <td>    0.040</td> <td>  -16.946</td> <td> 0.000</td> <td>   -0.755</td> <td>   -0.598</td>\n",
       "</tr>\n",
       "<tr>\n",
       "  <th>PN</th>        <td>   -0.5509</td> <td>    0.014</td> <td>  -40.304</td> <td> 0.000</td> <td>   -0.578</td> <td>   -0.524</td>\n",
       "</tr>\n",
       "</table>"
      ],
      "text/plain": [
       "<class 'statsmodels.iolib.summary.Summary'>\n",
       "\"\"\"\n",
       "                           Logit Regression Results                           \n",
       "==============================================================================\n",
       "Dep. Variable:                   VOT2   No. Observations:               167003\n",
       "Model:                          Logit   Df Residuals:                   166999\n",
       "Method:                           MLE   Df Model:                            3\n",
       "Date:                Fri, 27 Jan 2023   Pseudo R-squ.:                 0.01804\n",
       "Time:                        13:20:43   Log-Likelihood:                -85939.\n",
       "converged:                       True   LL-Null:                       -87517.\n",
       "Covariance Type:            nonrobust   LLR p-value:                     0.000\n",
       "==============================================================================\n",
       "                 coef    std err          z      P>|z|      [0.025      0.975]\n",
       "------------------------------------------------------------------------------\n",
       "Intercept      1.2781      0.006    206.255      0.000       1.266       1.290\n",
       "PP             0.2493      0.007     34.272      0.000       0.235       0.264\n",
       "NN            -0.6765      0.040    -16.946      0.000      -0.755      -0.598\n",
       "PN            -0.5509      0.014    -40.304      0.000      -0.578      -0.524\n",
       "==============================================================================\n",
       "\"\"\""
      ]
     },
     "execution_count": 23,
     "metadata": {},
     "output_type": "execute_result"
    }
   ],
   "source": [
    "# 3.7\n",
    "\n",
    "import statsmodels.formula.api as smf\n",
    "merged_df[\"VOT2\"] = (merged_df.VOT == 1).values.astype(int)\n",
    "smf.logit(\"VOT2 ~ PP + NN +PN\" , data=merged_df).fit().summary()"
   ]
  },
  {
   "cell_type": "code",
   "execution_count": 24,
   "id": "25bb2dbc",
   "metadata": {},
   "outputs": [
    {
     "name": "stdout",
     "output_type": "stream",
     "text": [
      "Optimization terminated successfully.\n",
      "         Current function value: 0.487994\n",
      "         Iterations 7\n"
     ]
    },
    {
     "data": {
      "text/html": [
       "<table class=\"simpletable\">\n",
       "<caption>Logit Regression Results</caption>\n",
       "<tr>\n",
       "  <th>Dep. Variable:</th>         <td>VOT2</td>       <th>  No. Observations:  </th>  <td>167003</td> \n",
       "</tr>\n",
       "<tr>\n",
       "  <th>Model:</th>                 <td>Logit</td>      <th>  Df Residuals:      </th>  <td>166998</td> \n",
       "</tr>\n",
       "<tr>\n",
       "  <th>Method:</th>                 <td>MLE</td>       <th>  Df Model:          </th>  <td>     4</td> \n",
       "</tr>\n",
       "<tr>\n",
       "  <th>Date:</th>            <td>Fri, 27 Jan 2023</td> <th>  Pseudo R-squ.:     </th>  <td>0.06880</td>\n",
       "</tr>\n",
       "<tr>\n",
       "  <th>Time:</th>                <td>13:20:43</td>     <th>  Log-Likelihood:    </th> <td> -81496.</td>\n",
       "</tr>\n",
       "<tr>\n",
       "  <th>converged:</th>             <td>True</td>       <th>  LL-Null:           </th> <td> -87517.</td>\n",
       "</tr>\n",
       "<tr>\n",
       "  <th>Covariance Type:</th>     <td>nonrobust</td>    <th>  LLR p-value:       </th>  <td> 0.000</td> \n",
       "</tr>\n",
       "</table>\n",
       "<table class=\"simpletable\">\n",
       "<tr>\n",
       "      <td></td>         <th>coef</th>     <th>std err</th>      <th>z</th>      <th>P>|z|</th>  <th>[0.025</th>    <th>0.975]</th>  \n",
       "</tr>\n",
       "<tr>\n",
       "  <th>Intercept</th> <td>    1.6227</td> <td>    0.008</td> <td>  212.945</td> <td> 0.000</td> <td>    1.608</td> <td>    1.638</td>\n",
       "</tr>\n",
       "<tr>\n",
       "  <th>PP</th>        <td>    0.2535</td> <td>    0.008</td> <td>   33.344</td> <td> 0.000</td> <td>    0.239</td> <td>    0.268</td>\n",
       "</tr>\n",
       "<tr>\n",
       "  <th>NN</th>        <td>   -0.5466</td> <td>    0.040</td> <td>  -13.631</td> <td> 0.000</td> <td>   -0.625</td> <td>   -0.468</td>\n",
       "</tr>\n",
       "<tr>\n",
       "  <th>PN</th>        <td>   -0.4561</td> <td>    0.014</td> <td>  -33.013</td> <td> 0.000</td> <td>   -0.483</td> <td>   -0.429</td>\n",
       "</tr>\n",
       "<tr>\n",
       "  <th>N</th>         <td>   -0.0438</td> <td>    0.000</td> <td>  -89.263</td> <td> 0.000</td> <td>   -0.045</td> <td>   -0.043</td>\n",
       "</tr>\n",
       "</table>"
      ],
      "text/plain": [
       "<class 'statsmodels.iolib.summary.Summary'>\n",
       "\"\"\"\n",
       "                           Logit Regression Results                           \n",
       "==============================================================================\n",
       "Dep. Variable:                   VOT2   No. Observations:               167003\n",
       "Model:                          Logit   Df Residuals:                   166998\n",
       "Method:                           MLE   Df Model:                            4\n",
       "Date:                Fri, 27 Jan 2023   Pseudo R-squ.:                 0.06880\n",
       "Time:                        13:20:43   Log-Likelihood:                -81496.\n",
       "converged:                       True   LL-Null:                       -87517.\n",
       "Covariance Type:            nonrobust   LLR p-value:                     0.000\n",
       "==============================================================================\n",
       "                 coef    std err          z      P>|z|      [0.025      0.975]\n",
       "------------------------------------------------------------------------------\n",
       "Intercept      1.6227      0.008    212.945      0.000       1.608       1.638\n",
       "PP             0.2535      0.008     33.344      0.000       0.239       0.268\n",
       "NN            -0.5466      0.040    -13.631      0.000      -0.625      -0.468\n",
       "PN            -0.4561      0.014    -33.013      0.000      -0.483      -0.429\n",
       "N             -0.0438      0.000    -89.263      0.000      -0.045      -0.043\n",
       "==============================================================================\n",
       "\"\"\""
      ]
     },
     "execution_count": 24,
     "metadata": {},
     "output_type": "execute_result"
    }
   ],
   "source": [
    "import statsmodels.formula.api as smf\n",
    "merged_df[\"VOT2\"] = (merged_df.VOT == 1).values.astype(int)\n",
    "smf.logit(\"VOT2 ~ PP + NN +PN + N\" , data=merged_df).fit().summary()"
   ]
  },
  {
   "cell_type": "markdown",
   "id": "db15d090",
   "metadata": {},
   "source": [
    "**3.8** **/Discuss:**/   Explain what the coefficient associated with `PP` means in the first regression. Is it in accordance with structural balance theory?"
   ]
  },
  {
   "cell_type": "markdown",
   "id": "48845787",
   "metadata": {},
   "source": [
    "**A3.8** Having two other positive edges in the triangle increase the log odds of a positive edge by around 0.25. This is in accordance with the balance theory; the friend of a friend is a friend."
   ]
  },
  {
   "cell_type": "markdown",
   "id": "49752dbb",
   "metadata": {},
   "source": [
    "**3.9** **/Discuss:**/   Compare the coefficients associated with `PN` and `NN` in the first vs. the second regression. Present a reason that may explain this difference."
   ]
  },
  {
   "cell_type": "markdown",
   "id": "8ab7612b",
   "metadata": {},
   "source": [
    "**A3.9** \n",
    "The coefficients associated with `PN` and `NN` increase if you account for the number of negative votes previously received (`N`).\n",
    "\n",
    "A possible explanation:\n",
    "- Previous negative votes tell something about the quality of the candidate, decreasing the log odds that they receive positive votes (this can be seen in the second regression).\n",
    "- When we do not control directly for previous negative votes, the coefficients `NN` and `PN` partially capture previous negative votes."
   ]
  },
  {
   "cell_type": "markdown",
   "id": "207c9147",
   "metadata": {},
   "source": [
    "---"
   ]
  },
  {
   "cell_type": "markdown",
   "id": "5afc841a",
   "metadata": {},
   "source": [
    "# ADA final exam (Fall 2021)\n",
    "\n",
    "This exam consists of 2 parts.\n",
    "The first part has 3 tasks.\n",
    "The second part has 2 tasks.\n",
    "The two parts are completely independent of each other.\n",
    "\n",
    " Important: The data used for this exam **is not entirely real.** A great deal of it has been artificially created or modified. Conclusions drawn from this data have no real link to reality!"
   ]
  },
  {
   "cell_type": "code",
   "execution_count": 1,
   "id": "c2301e2a",
   "metadata": {
    "pycharm": {
     "name": "#%%\n"
    }
   },
   "outputs": [],
   "source": [
    "%matplotlib inline\n",
    "\n",
    "# General\n",
    "import pandas as pd\n",
    "import numpy as np\n",
    "\n",
    "# For plotting\n",
    "import matplotlib.pyplot as plt\n",
    "import seaborn as sns\n",
    "\n",
    "# For graph-related stuff\n",
    "import networkx as nx\n",
    "\n",
    "# For regression analyses and statistical tests\n",
    "import scipy.stats as stats\n",
    "import statsmodels.stats\n",
    "import statsmodels.formula.api as smf\n",
    "\n",
    "# For classification\n",
    "from sklearn import linear_model as lm\n",
    "from sklearn.model_selection import train_test_split\n",
    "from sklearn.metrics import accuracy_score"
   ]
  },
  {
   "cell_type": "markdown",
   "id": "8d5513bd",
   "metadata": {},
   "source": [
    "\n",
    "## Part 1 — Faculty hiring network\n",
    "\n",
    "For the first part of the exam, you will analyze data from a faculty hiring network. After completing their Ph.D., researchers who want to pursue an academic career must compete for relatively few permanent positions (as “faculty”, i.e., professors) in a highly competitive job market. You will analyze a directed graph that captures the dynamics of this hiring process in the United States:\n",
    "\n",
    "\n",
    "- Each node $u$ in this graph represents a different American university.\n",
    "- For each university, we also provide a score that captures how highly  this university is ranked (e.g., Stanford University is ranked more highly than the University of Alabama). The higher the score, the more highly ranked the university.\n",
    "- Each directed edge $(u,v)$ in this graph represents a hiring decision where someone who did their Ph.D. at university $u$ subsequently was hired by university $v$. Each edge is also associated with a gender label, which specifies if the person hired was a man (M) or a woman (F).\n",
    "- Note that, when multiple researchers were trained at a given university $u$ and subsequently hired by university $v$, there will be multiple edges pointing from $u$ to $v$, each of which corresponds to a different person.\n",
    "\n",
    "\n",
    "## Files (in the `./data/part-1/` folder)\n",
    "\n",
    "- `nodelist.tsv` a tab-separated file containing the nodes of the graph. Recall that each node represents a different university. The file has these columns:\n",
    "    - `u` — the node index;\n",
    "    - `score` — the rank of the university (the higher the better);\n",
    "    - `name` — the name of the university.\n",
    "\n",
    "- `edgelist.tsv` a tab-separated file containing the edges of the graph. Recall that each edge represents a hiring decision. The file has columns:\n",
    "    - `u` — the source university, where the person got their Ph.D.;\n",
    "    - `v` — the target university, where the person was hired;\n",
    "    - `gender` — the gender of the person.\n",
    "\n",
    "\n",
    "### Task 1 — (20 points)\n",
    "\n",
    "1. Using the above files, create the directed graph representing the hiring network using `networkx`.\n",
    "Each node should contain the attributes `score` and `name`, and each edge should contain the attribute `gender`.\n",
    "Print the total numbers of nodes and edges in the graph.\n",
    "\n",
    "2. Create a plot that allows you to easily visualize **(a)** what fraction of all researchers in the graph are hired by the $N$ universities that hire the most; and  **(b)** what fraction of all researchers in the graph are trained by the $N$ universities whose students get hired the most.\n",
    "Here, $N$ could be any number between 1 and the number of universities.\n",
    "\n",
    "3. **/Multiple choice:/** Which centrality metric(s) is/are illustrated in the plot you made for the previous subtask? Select all that apply from the list below and **justify your answer.**\n",
    "    1. Betweenness centrality\n",
    "    2. In-degree centrality\n",
    "    3. Out-degree centrality\n",
    "    4. PageRank centrality\n",
    "\n",
    "\n"
   ]
  },
  {
   "cell_type": "markdown",
   "id": "ad0e7b66",
   "metadata": {},
   "source": []
  },
  {
   "cell_type": "code",
   "execution_count": 2,
   "id": "1688d4d9",
   "metadata": {
    "pycharm": {
     "name": "#%%\n"
    }
   },
   "outputs": [
    {
     "name": "stdout",
     "output_type": "stream",
     "text": [
      "Number of nodes 205\n",
      "Number of edges 4388\n"
     ]
    }
   ],
   "source": [
    "# 1.1\n",
    "\n",
    "import networkx as nx\n",
    "import pandas as pd\n",
    "\n",
    "# Loads the graph\n",
    "\n",
    "# Comment: This graph should have been loaded as a multigraph, this is because there may be multiple edges between\n",
    "# the same two nodes. Loading this as a DiGraph colapsed these multiple edges. We choose not to penalize students\n",
    "# that loaded the graph as a DiGraph, even though results differed sligthtly!\n",
    "G = nx.MultiDiGraph()\n",
    "edge_list = pd.read_csv(\"./data/part-1/edgelist.tsv\", sep=\"\\t\")\n",
    "node_list = pd.read_csv(\"./data/part-1/nodelist.tsv\", sep=\"\\t\")\n",
    "\n",
    "# Creates node attributes\n",
    "for _, node in node_list.iterrows():\n",
    "    node = dict(node)\n",
    "    G.add_node(node['u'], score=node['score'], name=node['name'])\n",
    "\n",
    "# Creates edge attributes\n",
    "for _, edge in edge_list.iterrows():\n",
    "    edge = dict(edge)\n",
    "    G.add_edge(edge['u'], edge['v'], gender=edge['gender'])\n",
    "    \n",
    "# Print number of edges\n",
    "print(\"Number of nodes\", len(G.nodes))\n",
    "print(\"Number of edges\", len(G.edges))"
   ]
  },
  {
   "cell_type": "code",
   "execution_count": 3,
   "id": "1a8780b7",
   "metadata": {},
   "outputs": [
    {
     "data": {
      "image/png": "[encoded data removed]",
      "text/plain": [
       "<Figure size 432x288 with 1 Axes>"
      ]
     },
     "metadata": {
      "needs_background": "light"
     },
     "output_type": "display_data"
    }
   ],
   "source": [
    "# 1.2\n",
    "\n",
    "import matplotlib.pyplot as plt\n",
    "import seaborn as sns\n",
    "import numpy as np\n",
    "\n",
    "# Get indegree and outdegree distributions\n",
    "indegree = []\n",
    "outdegree = []\n",
    "for node in G.nodes:\n",
    "    indegree.append(len(list(G.predecessors(node))))\n",
    "    outdegree.append(len(list(G.successors(node))))\n",
    "indegree = np.array(indegree)\n",
    "outdegree = np.array(outdegree)\n",
    "\n",
    "indegree = np.array(sorted(indegree/sum(indegree), reverse=True)).cumsum()\n",
    "outdegree = np.array(sorted(outdegree/sum(outdegree), reverse=True)).cumsum()\n",
    "\n",
    "# Makes ecfplot\n",
    "plt.plot(indegree, label=\"% Ph.D. students hired\\nby the top $N$ universities\")\n",
    "plt.plot(outdegree, label=\"% Ph.D. students trained\\nby the top $N$ universities\")\n",
    "plt.xlabel(\"$N$\")\n",
    "plt.legend()\n",
    "plt.show();"
   ]
  },
  {
   "cell_type": "markdown",
   "id": "229a57cd",
   "metadata": {},
   "source": [
    "**Task 1.3** B and C\n",
    "\n",
    "The centrality metrics illustrated in the plot in 2.1 capture the indegree and the outdegree distribution of the graph we just created:\n",
    "\n",
    "- When we look at the \"percentage of all Ph.D. students hired by the top $N$ universities\" we are looking at the indegree distribution.\n",
    "- When we look at the \"percentage of all hired Ph.D. students trained by the top $N$ universities\" we are looking at the outdegree distribution."
   ]
  },
  {
   "cell_type": "markdown",
   "id": "dd78b7fa",
   "metadata": {},
   "source": [
    "**Task 1.4** False\n",
    "\n",
    "Universities are prestigious not because they hire people, but because people who are trained there are hired elsewhere. Thus, a directed edge (u,v) in this graph cannot be understood as an \"endorsement\" which is what is captured by the pagerank centrality metric."
   ]
  },
  {
   "cell_type": "markdown",
   "id": "b31635ce",
   "metadata": {},
   "source": [
    "### Task 2 — (15 points)\n",
    "\n",
    "Each hiring decision $(u,v)$ connects two different universities with different scores.\n",
    "\n",
    "1. Divide the universities into quintiles according to their scores ($Q_1$ to $Q_5$, where $Q_5$ contains the highest-ranked universities, i.e., those with the highest scores). Create a succinct plot that captures, for each pair of quintiles ($Q_i$, $Q_j$), what fraction of people in the dataset who got their Ph.D. from a university in $Q_i$ were hired by a university in $Q_j$.\n",
    "\n",
    "\n",
    "2. **/Multiple choice:/** What does the plot made in the previous subtask reveal about the faculty hiring process? Select one of the following options and justify your answer.\n",
    "    1. Ph.D. graduates who are hired as professors usually go to universities that are better than the universities where they were trained.\n",
    "    2. Ph.D. graduates who are hired as professors usually go to universities that are around the same or worse than the universities where they were trained.\n",
    "\n",
    "3. **/True or false:/** Let $E$ be the set of edges from the hiring network, and let $X$ be defined as follows:\n",
    "$$X = \\frac{|(u,v) \\in E : u \\in Q_1 \\text{ and } v \\in Q_5 |}{{|(u,v) \\in E : u \\in Q_1|}}$$\n",
    " *Thinking critically about the data that was given to you,* is the following statement **true** or **false**? Justify your answer. **\"If I get my Ph.D. in a 1st-quintile university, I have a chance of around X * 100%  of getting a job in a 5th-quintile university.\"**\n",
    "\n",
    "\n",
    "---\n",
    "**Hints:**\n",
    "- [pandas.qcut](https://pandas.pydata.org/docs/reference/api/pandas.qcut.html) makes splitting data into quantiles easy!\n"
   ]
  },
  {
   "cell_type": "code",
   "execution_count": 4,
   "id": "e7683904",
   "metadata": {
    "pycharm": {
     "name": "#%%\n"
    }
   },
   "outputs": [
    {
     "data": {
      "image/png": "[encoded data removed]",
      "text/plain": [
       "<Figure size 432x288 with 2 Axes>"
      ]
     },
     "metadata": {
      "needs_background": "light"
     },
     "output_type": "display_data"
    }
   ],
   "source": [
    "# 2.1\n",
    "\n",
    "import pandas as pd\n",
    "\n",
    "arr = np.zeros(shape=(5,5))\n",
    "diff = []\n",
    "scores_dict = nx.get_node_attributes(G, \"score\")\n",
    "\n",
    "quintiles = pd.qcut([v for _, v in sorted(scores_dict.items())], q=5, labels=False)\n",
    "keys = [k for k, _ in sorted(scores_dict.items())]\n",
    "quintiles_dict = {k: v for k, v in zip(keys, quintiles)}\n",
    "\n",
    "for u, v, k in G.edges:\n",
    "    arr[quintiles_dict[u], quintiles_dict[v]] += 1\n",
    "\n",
    "    diff.append(scores_dict[v] - scores_dict[u])\n",
    "\n",
    "\n",
    "arr = arr.T / arr.sum(axis=1)\n",
    "sns.heatmap(arr.T, annot=True)\n",
    "plt.ylabel(\"Q where person was trained\")\n",
    "plt.xlabel(\"Q where person was hired\")\n",
    "plt.title(\"Confusion matrix — rows sum to 1\")\n",
    "plt.show();\n",
    "\n",
    "# A heatmap is a good plot for this scenario because it allows to easily and succintly visualize all the \n",
    "# 25 quintile combinations. Different quintiles are positioned conveniently positioned in a easy-to-read\n",
    "# way. This would not be the case with other plots (e.g., a simple point-plot)"
   ]
  },
  {
   "cell_type": "markdown",
   "id": "eee05f51",
   "metadata": {},
   "source": [
    "**2.2** B  \n",
    "\n",
    "The plot reveals that there is little upwards mobility in the academic hiring process. For example, very few people that were trained in a university in Q4 go on to be hired in a university in Q0"
   ]
  },
  {
   "cell_type": "markdown",
   "id": "4e0bafb6",
   "metadata": {},
   "source": [
    "**2.3** False\n",
    "\n",
    "One shortcomming of the data at hand is that we do not get any information about individuals trained at a given (american) university that never go on to get hired by another (american) university. It could be that all universities train the same amount of Ph.D. students but that those in the worse universities almost never get hired."
   ]
  },
  {
   "cell_type": "markdown",
   "id": "98df4d02",
   "metadata": {},
   "source": [
    "### Task 3 — (25 points)\n",
    "\n",
    "Let the \"source university\" of a person be the university at which the person got their Ph.D., and let their \"target university\" be the university at which they were hired after their Ph.D.\n",
    "\n",
    "1. For each hiring decision $(u, v)$, let the score gain ($d$) be defined as the difference between the scores of the target university and the source university (target university score minus source university score; see hint for example). Calculate the average difference for men ($\\bar{d_{M}}$) and for women ($\\bar{d_{F}}$) in the dataset. Determine whether the difference between these two averages ($\\bar{d_{M}}$ and $\\bar{d_{F}}$) is statistically significant.\n",
    "\n",
    "2. **/True or false:/** Is the following statement **true** or **false**? Justify your answer. \"The results you obtained in Task 3.1 do not refute the hypothesis that women are disadvantaged in the faculty hiring process.\"\n",
    "\n",
    "3. For each quintile $Q$ from Task 2.1, calculate the following: **(a)** the percentage of women among hiring decisions $(u, v)$ with $u \\in Q$ ; and **b)** the average score gain for hiring decisions $(u, v)$ with $u \\in Q$.\n",
    "\n",
    "4. **/Discuss:/** Considering the results obtained in Task 3.3, why is comparing the average score gain for men ($\\bar{d_{M}}$) and women ($\\bar{d_{F}}$) insufficient for determining the causal effect of gender on score gain?\n",
    "\n",
    "5. Use `statsmodels` to run a linear regression where hiring decisions (edges of the hiring network) are the data points, gender and source-university score are the predictors, and score gain is the outcome. Report the summary of your model.\n",
    "\n",
    "6. **/True or false:/** Considering the following statement, answer **true** or **false** and justify your answer. **\"The results you obtained in Task 3.5 suggest that academic hiring decisions are unfair to women.\"**\n",
    "\n",
    "---\n",
    "**Hint** — The university with the best score is Stanford University (score 100), and the university with the 10th best score is the University of Washington (score 95.26). If someone was trained at Stanford and then got a job at the University of Washington, their score gain is $95.26 - 100 = -4.74$."
   ]
  },
  {
   "cell_type": "code",
   "execution_count": 5,
   "id": "f2d7a490",
   "metadata": {
    "pycharm": {
     "name": "#%%\n"
    }
   },
   "outputs": [
    {
     "name": "stdout",
     "output_type": "stream",
     "text": [
      "-23.255170534459346 -25.20198837639484\n"
     ]
    },
    {
     "data": {
      "text/plain": [
       "Ttest_indResult(statistic=2.5097073505441556, pvalue=0.01211886846683103)"
      ]
     },
     "execution_count": 5,
     "metadata": {},
     "output_type": "execute_result"
    }
   ],
   "source": [
    "# 3.1\n",
    "\n",
    "import pandas as pd\n",
    "import scipy.stats as stats\n",
    "\n",
    "gender_dict = nx.get_edge_attributes(G, \"gender\")\n",
    "diff_m = []\n",
    "diff_w = []\n",
    "\n",
    "# Calculate score gains\n",
    "for u, v, k in G.edges:\n",
    "    arr[quintiles_dict[u], quintiles_dict[v]] += 1\n",
    "    if gender_dict[(u,v, k)] == \"M\":\n",
    "        diff_m.append(scores_dict[v] - scores_dict[u])\n",
    "    else:\n",
    "        diff_w.append(scores_dict[v] - scores_dict[u])\n",
    "\n",
    "# Print mean score gains for men and women\n",
    "print(np.mean(diff_m), np.mean(diff_w))\n",
    "\n",
    "# ttest\n",
    "stats.ttest_ind(diff_m, diff_w)"
   ]
  },
  {
   "cell_type": "markdown",
   "id": "13e84d04",
   "metadata": {},
   "source": [
    "**3.2** True\n",
    "\n",
    "$\\hat{d_M}$ is bigger than $\\hat{d_F}$ and this difference is statistically significant. \n",
    "In case there is no other confounder, this would indicate that men in the data are, in average, decreasing their institutional score less than women as they go from PhD students to faculty.\n",
    "In that context, it can't be said that the results refute the statement."
   ]
  },
  {
   "cell_type": "code",
   "execution_count": 6,
   "id": "cc7be56d",
   "metadata": {},
   "outputs": [
    {
     "name": "stdout",
     "output_type": "stream",
     "text": [
      "Q1: 10.96% of women\n",
      "Q2: 20.0% of women\n",
      "Q3: 29.92% of women\n",
      "Q4: 40.22% of women\n",
      "Q5: 51.12% of women\n",
      "---\n",
      "Q1: avg score diff 2.22\n",
      "Q2: avg score diff -1.69\n",
      "Q3: avg score diff -14.24\n",
      "Q4: avg score diff -23.43\n",
      "Q5: avg score diff -27.27\n"
     ]
    }
   ],
   "source": [
    "# 3.3\n",
    "\n",
    "arr = np.zeros(shape=(5,5))\n",
    "gender_dict = nx.get_edge_attributes(G, \"gender\")\n",
    "man_q = np.zeros(5)\n",
    "wmn_q = np.zeros(5)\n",
    "diff_q = np.zeros(5)\n",
    "diff_c = np.zeros(5)\n",
    "\n",
    "for u, v, k in G.edges:\n",
    "    q = quintiles_dict[u]\n",
    "    diff_q[q] += scores_dict[v] - scores_dict[u]\n",
    "    diff_c[q] += 1\n",
    "    if gender_dict[(u,v,k)] == \"M\":\n",
    "        man_q[quintiles_dict[u]] += 1\n",
    "    else:\n",
    "        wmn_q[quintiles_dict[u]] += 1\n",
    "    \n",
    "        \n",
    "_ = [print(\"Q{}: {}% of women\".format(idx + 1, round(q * 100, 2))) for idx, q in enumerate(wmn_q /(man_q + wmn_q))]\n",
    "\n",
    "print(\"---\")\n",
    "_ = [print(\"Q{}: avg score diff {}\".format(idx + 1, round(q, 2))) for idx, q in enumerate(diff_q / diff_c)]"
   ]
  },
  {
   "cell_type": "markdown",
   "id": "ba4a0015",
   "metadata": {},
   "source": [
    "**3.4** It is not appropriate because the score of the source university is a confounder. Better ranked universities have more women *and* have, in average, lower score gain."
   ]
  },
  {
   "cell_type": "code",
   "execution_count": 7,
   "id": "f0e2f59b",
   "metadata": {},
   "outputs": [
    {
     "data": {
      "text/html": [
       "<table class=\"simpletable\">\n",
       "<caption>OLS Regression Results</caption>\n",
       "<tr>\n",
       "  <th>Dep. Variable:</th>            <td>d</td>        <th>  R-squared:         </th> <td>   0.049</td> \n",
       "</tr>\n",
       "<tr>\n",
       "  <th>Model:</th>                   <td>OLS</td>       <th>  Adj. R-squared:    </th> <td>   0.048</td> \n",
       "</tr>\n",
       "<tr>\n",
       "  <th>Method:</th>             <td>Least Squares</td>  <th>  F-statistic:       </th> <td>   112.4</td> \n",
       "</tr>\n",
       "<tr>\n",
       "  <th>Date:</th>             <td>Sat, 12 Feb 2022</td> <th>  Prob (F-statistic):</th> <td>2.48e-48</td> \n",
       "</tr>\n",
       "<tr>\n",
       "  <th>Time:</th>                 <td>14:33:50</td>     <th>  Log-Likelihood:    </th> <td> -20347.</td> \n",
       "</tr>\n",
       "<tr>\n",
       "  <th>No. Observations:</th>      <td>  4388</td>      <th>  AIC:               </th> <td>4.070e+04</td>\n",
       "</tr>\n",
       "<tr>\n",
       "  <th>Df Residuals:</th>          <td>  4385</td>      <th>  BIC:               </th> <td>4.072e+04</td>\n",
       "</tr>\n",
       "<tr>\n",
       "  <th>Df Model:</th>              <td>     2</td>      <th>                     </th>     <td> </td>    \n",
       "</tr>\n",
       "<tr>\n",
       "  <th>Covariance Type:</th>      <td>nonrobust</td>    <th>                     </th>     <td> </td>    \n",
       "</tr>\n",
       "</table>\n",
       "<table class=\"simpletable\">\n",
       "<tr>\n",
       "         <td></td>           <th>coef</th>     <th>std err</th>      <th>t</th>      <th>P>|t|</th>  <th>[0.025</th>    <th>0.975]</th>  \n",
       "</tr>\n",
       "<tr>\n",
       "  <th>Intercept</th>      <td>   -3.4502</td> <td>    1.435</td> <td>   -2.404</td> <td> 0.016</td> <td>   -6.264</td> <td>   -0.636</td>\n",
       "</tr>\n",
       "<tr>\n",
       "  <th>gender[T.True]</th> <td>    0.1501</td> <td>    0.770</td> <td>    0.195</td> <td> 0.845</td> <td>   -1.360</td> <td>    1.660</td>\n",
       "</tr>\n",
       "<tr>\n",
       "  <th>q</th>              <td>   -0.2613</td> <td>    0.018</td> <td>  -14.771</td> <td> 0.000</td> <td>   -0.296</td> <td>   -0.227</td>\n",
       "</tr>\n",
       "</table>\n",
       "<table class=\"simpletable\">\n",
       "<tr>\n",
       "  <th>Omnibus:</th>       <td>237.344</td> <th>  Durbin-Watson:     </th> <td>   0.322</td>\n",
       "</tr>\n",
       "<tr>\n",
       "  <th>Prob(Omnibus):</th> <td> 0.000</td>  <th>  Jarque-Bera (JB):  </th> <td> 191.048</td>\n",
       "</tr>\n",
       "<tr>\n",
       "  <th>Skew:</th>          <td>-0.428</td>  <th>  Prob(JB):          </th> <td>3.27e-42</td>\n",
       "</tr>\n",
       "<tr>\n",
       "  <th>Kurtosis:</th>      <td> 2.442</td>  <th>  Cond. No.          </th> <td>    314.</td>\n",
       "</tr>\n",
       "</table><br/><br/>Warnings:<br/>[1] Standard Errors assume that the covariance matrix of the errors is correctly specified."
      ],
      "text/plain": [
       "<class 'statsmodels.iolib.summary.Summary'>\n",
       "\"\"\"\n",
       "                            OLS Regression Results                            \n",
       "==============================================================================\n",
       "Dep. Variable:                      d   R-squared:                       0.049\n",
       "Model:                            OLS   Adj. R-squared:                  0.048\n",
       "Method:                 Least Squares   F-statistic:                     112.4\n",
       "Date:                Sat, 12 Feb 2022   Prob (F-statistic):           2.48e-48\n",
       "Time:                        14:33:50   Log-Likelihood:                -20347.\n",
       "No. Observations:                4388   AIC:                         4.070e+04\n",
       "Df Residuals:                    4385   BIC:                         4.072e+04\n",
       "Df Model:                           2                                         \n",
       "Covariance Type:            nonrobust                                         \n",
       "==================================================================================\n",
       "                     coef    std err          t      P>|t|      [0.025      0.975]\n",
       "----------------------------------------------------------------------------------\n",
       "Intercept         -3.4502      1.435     -2.404      0.016      -6.264      -0.636\n",
       "gender[T.True]     0.1501      0.770      0.195      0.845      -1.360       1.660\n",
       "q                 -0.2613      0.018    -14.771      0.000      -0.296      -0.227\n",
       "==============================================================================\n",
       "Omnibus:                      237.344   Durbin-Watson:                   0.322\n",
       "Prob(Omnibus):                  0.000   Jarque-Bera (JB):              191.048\n",
       "Skew:                          -0.428   Prob(JB):                     3.27e-42\n",
       "Kurtosis:                       2.442   Cond. No.                         314.\n",
       "==============================================================================\n",
       "\n",
       "Warnings:\n",
       "[1] Standard Errors assume that the covariance matrix of the errors is correctly specified.\n",
       "\"\"\""
      ]
     },
     "execution_count": 7,
     "metadata": {},
     "output_type": "execute_result"
    }
   ],
   "source": [
    "# 3.5\n",
    "\n",
    "# Build a dataframe\n",
    "\n",
    "gender_dict = nx.get_edge_attributes(G, \"gender\")\n",
    "df = []\n",
    "\n",
    "for u, v, k in G.edges:\n",
    "    df.append(\n",
    "    {   \n",
    "        \"gender\": gender_dict[(u,v,k)] == \"F\",\n",
    "        \"d\": scores_dict[v] - scores_dict[u],\n",
    "        \"q\": scores_dict[u],\n",
    "    }\n",
    "    )\n",
    "\n",
    "df = pd.DataFrame(df)\n",
    "\n",
    "import statsmodels.formula.api as smf\n",
    "df\n",
    "model = smf.ols(\"d ~ gender + q\", data=df.reset_index()).fit()\n",
    "model.summary()"
   ]
  },
  {
   "cell_type": "markdown",
   "id": "a871f1c6",
   "metadata": {},
   "source": [
    "**3.6** False, because after we controlled for the score of the university where people did their Ph.D. at, we find that gender is not significant!"
   ]
  },
  {
   "cell_type": "markdown",
   "id": "26b26f70",
   "metadata": {},
   "source": [
    "## Part 2 — Tennis interviews\n",
    "\n",
    "For the second part of the exam, you will work with text data extracted from questions asked during post-match tennis interviews and from\n",
    "TV commentary done during the tennis match.\n",
    "\n",
    "\n",
    "Examples of interview questions:\n",
    "\n",
    "> That last set seemed like a faultless performance. Is that the way you saw it?\n",
    "\n",
    "> How disappointing is that loss for you?\n",
    "\n",
    "> As a spectator, would you rather watch a guy with big aces or a match with lots of rallies?\n",
    "\n",
    "Example of commentary text:\n",
    "\n",
    ">  Serena is desperate to shake herself into action. She lets out an almighty shriek when she goes 30-15 up, but Azarenka responds with a brilliant forehand. The level of Williams' scream goes up and up during the next point, and she lets out another roar when she belts a forehand cross court win the point. She wraps the game up next time round, and she looked something like back to her best there!\n",
    "\n",
    "\n",
    "## Files (in the `data` folder)\n",
    "\n",
    "- `questions.tsv.gz` a tab-separated compressed file containing interview questions\n",
    "and some metadata. We refer to this dataset as the \"questions dataset.\"\n",
    "Each row contains a question made to a specific player after a match.\n",
    "The file has the following columns:\n",
    "    - `questions` — the text of the question asked; **Note that you will never be asked to use this row; it is merely meant to help you understand the data better**.\n",
    "    - `gender` — the gender of the player;\n",
    "    - `ranking` — the ranking of the player at the time;\n",
    "    - `similarity` — this column will be explained later in the exam.\n",
    "\n",
    "- `commentary.tsv.gz` a tab-separated compressed file containing TV commentary done during\n",
    "the tennis match. We refer to this dataset as the \"commentary dataset.\" Each line contains\n",
    "a piece of commentary done in a tennis match.\n",
    "The file has the following columns:\n",
    "    - `commentary` — the text of the commentary; **Note that you will never be asked to use this row; it is merely meant to help you understand the data better**.\n",
    "    - `gender` — the gender of the players in the match;\n",
    "\n",
    "- `TFIDF.npz`, a file containing 2D numpy arrays saved in the `.npz` format that\n",
    "will be used in Task 4.\n",
    "\n",
    "Both datasets are **balanced regarding gender,** i.e., they have the same number of rows about men as about women.\n",
    "\n",
    "\n",
    "Commentary text, as well as interview questions, have been preprocessed to make your life easier, as follows:\n",
    "\n",
    "- We replaced all words starting with upper-case letters with the special string `'--ENT--'`. This was done to remove personal names (e.g., Alice, Bob), which could help predict whether the text is associated with a male or a female tennis player.\n",
    "- We removed the first word in each sentence. This was done because, for the first word of each sentence, it is difficult to know whether it is a personal name or simply a regular word.\n",
    "- We replaced all gendered pronouns in the text (he/him/his and she/her/hers) with the special string `'--PRON--'`. This, too, was done because these words would make it easy to predict whether the text is associated with a male or a female tennis player.\n",
    "- We removed punctuation and stop words (to reduce the dimensionality of the data).\n",
    "\n",
    "The above example commentary text thus appears as follows in the data provided to you:\n",
    "\n",
    "> desperate shake action lets almighty shriek --PRON-- goes 30 15 --ENT-- responds brilliant forehand level --ENT-- scream goes point --PRON-- lets roar --PRON-- belts forehand cross court win point wraps game time round --PRON-- looked like --PRON-- best\n",
    "\n",
    "We also provide some code for loading and displaying the dataset:"
   ]
  },
  {
   "cell_type": "code",
   "execution_count": 8,
   "id": "40a99d7a",
   "metadata": {
    "pycharm": {
     "name": "#%%\n"
    }
   },
   "outputs": [],
   "source": [
    "#  Part 2 ! PROVIDED CODE !\n",
    "\n",
    "questions = pd.read_csv(\"./data/part-2/questions.tsv.gz\", sep=\"\\t\", compression=\"infer\")\n",
    "commentary = pd.read_csv(\"./data/part-2/commentary.tsv.gz\", sep=\"\\t\", compression=\"infer\")"
   ]
  },
  {
   "cell_type": "markdown",
   "id": "a66b7c90",
   "metadata": {},
   "source": [
    "### Task 4  (20 points)\n",
    "\n",
    "Your goal now is to investigate whether there is gender bias in the questions being asked to female vs. male players, i.e., whether men vs. women are asked different questions on average. You start your analysis with a classification framing.\n",
    "\n",
    "\n",
    "To make your life easier, we already provided a TF-IDF matrix for each dataset (`commentary.tsv.gz` and `questions.tsv.gz`) and with code to load these matrices (which are numpy arrays).\n",
    "\n",
    "- Each row in each matrix $M$ corresponds to a row in the corresponding dataframe, i.e., each row corresponds to a different question or a different piece of TV commentary.\n",
    "- Each column in each matrix corresponds to a different word from the vocabulary.\n",
    "- Each position $(i,j)$ in the matrix contains the TF-IDF score for word $j$ from the vocabulary in question or commentary $i$. That is, each term $M[i,j]$ corresponds to the term frequency (TF) of word $j$ in text $i$, multiplied by the inverse document frequency (IDF) of word $j$:\n",
    "\n",
    "\n",
    "$$M[i,j] = \\text{TF}(i,j) * \\text{IDF}(j)$$\n",
    "\n",
    "\n",
    "1. **/Multiple Choice:/** Which of the following is the correct way to calculate the term frequency and the inverse document frequency? Justify your answer, explaining what each of the two components should capture.\n",
    "    - Option A:\n",
    "\n",
    "    $$\\text{TF}(i,j) = \\text{number of times the $j$-th word occurs in all documents} $$\n",
    "\n",
    "    $$\\text{IDF}(j) =  \\log \\frac{\\text{number of documents the $j$-th word occurs in}}{\\text{number of documents}}$$\n",
    "\n",
    "    - Option B:\n",
    "\n",
    "    $$ \\text{TF}(i,j) = \\text{number of times the $j$-th word occurs in the $i$-th document} $$\n",
    "\n",
    "    $$\\text{IDF}(j) =  \\log \\frac{\\text{number of documents the $j$-th word occurs in}}{\\text{number of documents}}$$\n",
    "\n",
    "    - Option C:\n",
    "\n",
    "    $$ \\text{TF}(i,j) = \\text{number of times the $j$-th word occurs in all documents} $$\n",
    "\n",
    "    $$\\text{IDF}(j) =  \\log \\frac{\\text{number of documents}}{\\text{number of documents the $j$-th word occurs in}}$$\n",
    "\n",
    "    - Option D:\n",
    "\n",
    "    $$ \\text{TF}(i,j) = \\text{number of times the $j$-th word occurs in the $i$-th document} $$\n",
    "\n",
    "    $$\\text{IDF}(j) =  \\log \\frac{\\text{number of documents}}{\\text{number of documents the $j$-th word occurs in}}$$\n",
    "\n",
    "\n",
    "\n",
    "2. Leveraging the matrices described above, train two logistic regression classifiers (one for interview questions, the other for TV commentary) that use the TF-IDF vectors as features to predict the gender of the athletes. You should split each dataset into training and test sets using sklearn (see [sklearn.model_selection.train_test_split](https://scikit-learn.org/stable/modules/generated/sklearn.model_selection.train_test_split.html)) using parameters `test_size=0.4` and `random_state=42`. You should use sklearn's logistic regression model (see [here](https://scikit-learn.org/stable/modules/generated/sklearn.linear_model.LogisticRegression.html#sklearn.linear_model.LogisticRegression)) using parameters `C=10` (which controls regularization) and `max_iter=2000`. For each dataset, train the model on the training set (with 60% of the data) and report the accuracy on the test set (with 40% of the data).\n",
    "\n",
    "3. **/True or false:/** Considering the following statement, answer **true** or **false** and justify your answer. \"Based on the outcome of Task 4.2, the text from tennis commentary text is more gender-biased than post-match questions.\"\n",
    "\n",
    "4. The parameter `C` above controls a regularization penalty. The lower `C`, the stronger the regularization penalty (caveat: sklearn’s convention is the reverse of the convention you saw in class, where a *higher* $\\lambda$ parameter meant a stronger regularization penalty ). For the questions dataset, re-run the classification task using the same setup as in Task 4.2, but now with `C=2000`. Report the accuracy.\n",
    "\n",
    "5. **/Discuss:/** Explain why increasing `C` changed the results.\n"
   ]
  },
  {
   "cell_type": "markdown",
   "id": "f34f8fdb",
   "metadata": {},
   "source": [
    "**4.1** D\n",
    "\n",
    "- TF should capture the occurrence of a word in a given document — so A and C are ruled out.\n",
    "- IDF should increase as the word becomes rarer across documents — so B is ruled out."
   ]
  },
  {
   "cell_type": "code",
   "execution_count": 9,
   "id": "d88b0d0b",
   "metadata": {
    "pycharm": {
     "name": "#%%\n"
    }
   },
   "outputs": [
    {
     "data": {
      "text/plain": [
       "(3000, 5497)"
      ]
     },
     "execution_count": 9,
     "metadata": {},
     "output_type": "execute_result"
    }
   ],
   "source": [
    "# 4.2 ! PROVIDED CODE !\n",
    "tmp = np.load(\"./data/part-2/TFIDF.npz\")\n",
    "TFIDF_commentary = tmp['commentary']\n",
    "TFIDF_questions = tmp['questions']\n",
    "\n",
    "TFIDF_questions.shape"
   ]
  },
  {
   "cell_type": "code",
   "execution_count": 10,
   "id": "aafda1de",
   "metadata": {
    "pycharm": {
     "name": "#%%\n"
    }
   },
   "outputs": [
    {
     "name": "stdout",
     "output_type": "stream",
     "text": [
      "questions dataset : accuracy 0.7108333333333333\n",
      "commentary dataset : accuracy 0.5133333333333333\n"
     ]
    }
   ],
   "source": [
    "# 4.2\n",
    "from sklearn import linear_model as lm\n",
    "from sklearn.model_selection import train_test_split\n",
    "from sklearn.metrics import accuracy_score\n",
    "\n",
    "model = lm.LogisticRegression(C=10, max_iter=2000)\n",
    "\n",
    "for df, TFIDF, s in zip([questions, commentary], \n",
    "                       [TFIDF_questions, TFIDF_commentary],\n",
    "                       [\"questions dataset\", \"commentary dataset\"]):\n",
    "    is_woman_questions = (df[\"gender\"] == \"F\").astype(\"int\").values\n",
    "\n",
    "    X_train, X_test, y_train, y_test = train_test_split(TFIDF, \n",
    "                                                        is_woman_questions,\n",
    "                                                        test_size=0.4, random_state=42)\n",
    "\n",
    "\n",
    "\n",
    "    model.fit(X_train, y_train)\n",
    "\n",
    "    y_pred = model.predict(X_test)\n",
    "\n",
    "    print(s, \":\", \"accuracy\", accuracy_score(y_test, y_pred))"
   ]
  },
  {
   "cell_type": "markdown",
   "id": "27ee5f7c",
   "metadata": {},
   "source": [
    "**4.3** False. On the contrary, the above results suggest that questions are more gender biased than commentary. It is easier to discern men from women from questions than it is from commentary."
   ]
  },
  {
   "cell_type": "code",
   "execution_count": 11,
   "id": "773e31a1",
   "metadata": {},
   "outputs": [
    {
     "name": "stdout",
     "output_type": "stream",
     "text": [
      "C=10 : accuracy 0.7108333333333333\n",
      "C=2000 : accuracy 0.69\n"
     ]
    }
   ],
   "source": [
    "# 4.4\n",
    "for df, C, s in zip([questions, questions], \n",
    "                       [10, 2000],\n",
    "                       [\"C=10\", \"C=2000\"]):\n",
    "    \n",
    "    model = lm.LogisticRegression(C=C, max_iter=2000)\n",
    "\n",
    "    is_woman_questions = (df[\"gender\"] == \"F\").astype(\"int\").values\n",
    "\n",
    "    X_train, X_test, y_train, y_test = train_test_split(TFIDF_questions, \n",
    "                                                        is_woman_questions,\n",
    "                                                        test_size=0.4, random_state=42)\n",
    "\n",
    "\n",
    "\n",
    "    model.fit(X_train, y_train)\n",
    "\n",
    "    y_pred = model.predict(X_test)\n",
    "\n",
    "    print(s, \":\", \"accuracy\", accuracy_score(y_test, y_pred))"
   ]
  },
  {
   "cell_type": "markdown",
   "id": "b2d9e86f",
   "metadata": {},
   "source": [
    "**4.5** We are performing classification tasks in spase matrices where the number of features outnumber the number of datapoints. Thus, the lack of regularization can lead to overfitting. When we increase C we decrease the regularization penalty and thus increase overfitting."
   ]
  },
  {
   "cell_type": "markdown",
   "id": "ec7a0f5e",
   "metadata": {},
   "source": [
    "### Task 5 — (20 pts)\n",
    "\n",
    "You will now further inspect whether there is gender bias in the interview questions using an observational study framing. For this task, you will use the column `similarity` provided in the questions dataframe. This column captures how similar each question is to tennis-related text, i.e., a higher score indicates that the question is more about the topic of tennis. In contrast, a lower score means that the question may be personal or about other subjects.\n",
    "\n",
    "1. Using `statsmodels`, run a linear regression with `similarity` as the outcome and `gender` as the predictor. Report the summary of your model.\n",
    "\n",
    "2. **/True or false:/** According to the previous analysis, determine if the following statement is **true** or **false** and justify your answer. \"Men are asked questions unrelated to tennis more often than women.\"\n",
    "\n",
    "3. The ranking of players is a potential confounder here. We do not know whether the male and female players in the dataset have similar rankings. In that context, compute the average ranking for men and women. Determine if the difference is statistically significant. Additionally, create a scatter plot showing the relationship between ranking (on the y-axis) and similarity (in the x-axis) and compute Spearman's rank-correlation coefficient between `ranking` and `similarity`.\n",
    "\n",
    "4. **/True or false:/** Assume that no variable other than `gender` and `ranking` can have any influence on the `similarity` of each question. Based on the analysis of the previous question, is the following statement **true** or **false**? Justify your answer. **\"Ranking is not a worrisome confounder for the regression of Task 5.1.\"**"
   ]
  },
  {
   "cell_type": "code",
   "execution_count": 12,
   "id": "33a6f77b",
   "metadata": {
    "pycharm": {
     "name": "#%%\n"
    }
   },
   "outputs": [
    {
     "data": {
      "text/html": [
       "<table class=\"simpletable\">\n",
       "<caption>OLS Regression Results</caption>\n",
       "<tr>\n",
       "  <th>Dep. Variable:</th>       <td>similarity</td>    <th>  R-squared:         </th> <td>   0.219</td> \n",
       "</tr>\n",
       "<tr>\n",
       "  <th>Model:</th>                   <td>OLS</td>       <th>  Adj. R-squared:    </th> <td>   0.219</td> \n",
       "</tr>\n",
       "<tr>\n",
       "  <th>Method:</th>             <td>Least Squares</td>  <th>  F-statistic:       </th> <td>   841.1</td> \n",
       "</tr>\n",
       "<tr>\n",
       "  <th>Date:</th>             <td>Sat, 12 Feb 2022</td> <th>  Prob (F-statistic):</th> <td>3.16e-163</td>\n",
       "</tr>\n",
       "<tr>\n",
       "  <th>Time:</th>                 <td>14:33:57</td>     <th>  Log-Likelihood:    </th> <td>  77.527</td> \n",
       "</tr>\n",
       "<tr>\n",
       "  <th>No. Observations:</th>      <td>  3000</td>      <th>  AIC:               </th> <td>  -151.1</td> \n",
       "</tr>\n",
       "<tr>\n",
       "  <th>Df Residuals:</th>          <td>  2998</td>      <th>  BIC:               </th> <td>  -139.0</td> \n",
       "</tr>\n",
       "<tr>\n",
       "  <th>Df Model:</th>              <td>     1</td>      <th>                     </th>     <td> </td>    \n",
       "</tr>\n",
       "<tr>\n",
       "  <th>Covariance Type:</th>      <td>nonrobust</td>    <th>                     </th>     <td> </td>    \n",
       "</tr>\n",
       "</table>\n",
       "<table class=\"simpletable\">\n",
       "<tr>\n",
       "       <td></td>          <th>coef</th>     <th>std err</th>      <th>t</th>      <th>P>|t|</th>  <th>[0.025</th>    <th>0.975]</th>  \n",
       "</tr>\n",
       "<tr>\n",
       "  <th>Intercept</th>   <td>    0.3750</td> <td>    0.006</td> <td>   60.804</td> <td> 0.000</td> <td>    0.363</td> <td>    0.387</td>\n",
       "</tr>\n",
       "<tr>\n",
       "  <th>gender[T.M]</th> <td>    0.2499</td> <td>    0.009</td> <td>   29.002</td> <td> 0.000</td> <td>    0.233</td> <td>    0.267</td>\n",
       "</tr>\n",
       "</table>\n",
       "<table class=\"simpletable\">\n",
       "<tr>\n",
       "  <th>Omnibus:</th>       <td>134.873</td> <th>  Durbin-Watson:     </th> <td>   1.920</td>\n",
       "</tr>\n",
       "<tr>\n",
       "  <th>Prob(Omnibus):</th> <td> 0.000</td>  <th>  Jarque-Bera (JB):  </th> <td>  59.331</td>\n",
       "</tr>\n",
       "<tr>\n",
       "  <th>Skew:</th>          <td>-0.095</td>  <th>  Prob(JB):          </th> <td>1.31e-13</td>\n",
       "</tr>\n",
       "<tr>\n",
       "  <th>Kurtosis:</th>      <td> 2.338</td>  <th>  Cond. No.          </th> <td>    2.65</td>\n",
       "</tr>\n",
       "</table><br/><br/>Warnings:<br/>[1] Standard Errors assume that the covariance matrix of the errors is correctly specified."
      ],
      "text/plain": [
       "<class 'statsmodels.iolib.summary.Summary'>\n",
       "\"\"\"\n",
       "                            OLS Regression Results                            \n",
       "==============================================================================\n",
       "Dep. Variable:             similarity   R-squared:                       0.219\n",
       "Model:                            OLS   Adj. R-squared:                  0.219\n",
       "Method:                 Least Squares   F-statistic:                     841.1\n",
       "Date:                Sat, 12 Feb 2022   Prob (F-statistic):          3.16e-163\n",
       "Time:                        14:33:57   Log-Likelihood:                 77.527\n",
       "No. Observations:                3000   AIC:                            -151.1\n",
       "Df Residuals:                    2998   BIC:                            -139.0\n",
       "Df Model:                           1                                         \n",
       "Covariance Type:            nonrobust                                         \n",
       "===============================================================================\n",
       "                  coef    std err          t      P>|t|      [0.025      0.975]\n",
       "-------------------------------------------------------------------------------\n",
       "Intercept       0.3750      0.006     60.804      0.000       0.363       0.387\n",
       "gender[T.M]     0.2499      0.009     29.002      0.000       0.233       0.267\n",
       "==============================================================================\n",
       "Omnibus:                      134.873   Durbin-Watson:                   1.920\n",
       "Prob(Omnibus):                  0.000   Jarque-Bera (JB):               59.331\n",
       "Skew:                          -0.095   Prob(JB):                     1.31e-13\n",
       "Kurtosis:                       2.338   Cond. No.                         2.65\n",
       "==============================================================================\n",
       "\n",
       "Warnings:\n",
       "[1] Standard Errors assume that the covariance matrix of the errors is correctly specified.\n",
       "\"\"\""
      ]
     },
     "execution_count": 12,
     "metadata": {},
     "output_type": "execute_result"
    }
   ],
   "source": [
    "# 5.1\n",
    "import statsmodels.formula.api as smf\n",
    "\n",
    "smf.ols(\"similarity ~ gender\", data=questions).fit().summary()"
   ]
  },
  {
   "cell_type": "markdown",
   "id": "2368e881",
   "metadata": {},
   "source": [
    "**5.2** False. The results of the above regression suggest that women are asked unrelated question the most. \n",
    "Note that being a men increases your similarity score by roughly 0.25, which means their questions \n",
    "are more closely related to the tennis-related text."
   ]
  },
  {
   "cell_type": "code",
   "execution_count": 13,
   "id": "d0578467",
   "metadata": {},
   "outputs": [
    {
     "data": {
      "text/html": [
       "<div>\n",
       "<style scoped>\n",
       "    .dataframe tbody tr th:only-of-type {\n",
       "        vertical-align: middle;\n",
       "    }\n",
       "\n",
       "    .dataframe tbody tr th {\n",
       "        vertical-align: top;\n",
       "    }\n",
       "\n",
       "    .dataframe thead tr th {\n",
       "        text-align: left;\n",
       "    }\n",
       "\n",
       "    .dataframe thead tr:last-of-type th {\n",
       "        text-align: right;\n",
       "    }\n",
       "</style>\n",
       "<table border=\"1\" class=\"dataframe\">\n",
       "  <thead>\n",
       "    <tr>\n",
       "      <th></th>\n",
       "      <th colspan=\"2\" halign=\"left\">ranking</th>\n",
       "    </tr>\n",
       "    <tr>\n",
       "      <th></th>\n",
       "      <th>mean</th>\n",
       "      <th>sem</th>\n",
       "    </tr>\n",
       "    <tr>\n",
       "      <th>gender</th>\n",
       "      <th></th>\n",
       "      <th></th>\n",
       "    </tr>\n",
       "  </thead>\n",
       "  <tbody>\n",
       "    <tr>\n",
       "      <th>F</th>\n",
       "      <td>503.617908</td>\n",
       "      <td>7.564823</td>\n",
       "    </tr>\n",
       "    <tr>\n",
       "      <th>M</th>\n",
       "      <td>495.202342</td>\n",
       "      <td>7.386279</td>\n",
       "    </tr>\n",
       "  </tbody>\n",
       "</table>\n",
       "</div>"
      ],
      "text/plain": [
       "           ranking          \n",
       "              mean       sem\n",
       "gender                      \n",
       "F       503.617908  7.564823\n",
       "M       495.202342  7.386279"
      ]
     },
     "metadata": {},
     "output_type": "display_data"
    },
    {
     "data": {
      "text/plain": [
       "SpearmanrResult(correlation=-0.00793480965681015, pvalue=0.663973935968952)"
      ]
     },
     "execution_count": 13,
     "metadata": {},
     "output_type": "execute_result"
    },
    {
     "data": {
      "image/png": "[encoded data removed]",
      "text/plain": [
       "<Figure size 432x288 with 1 Axes>"
      ]
     },
     "metadata": {
      "needs_background": "light"
     },
     "output_type": "display_data"
    }
   ],
   "source": [
    "# 5.3\n",
    "import statsmodels.stats\n",
    "\n",
    "display(questions.groupby(\"gender\").agg({\"ranking\": [\"mean\", \"sem\"]}))\n",
    "plt.scatter(questions[questions.gender == \"F\"].similarity, questions[questions.gender == \"F\"].ranking, alpha=0.2)\n",
    "stats.spearmanr(questions.similarity, questions.ranking)"
   ]
  },
  {
   "cell_type": "markdown",
   "id": "42bbbe7c",
   "metadata": {},
   "source": [
    "**6.4** True — under the assumptions that no variable other than `gender` and `ranking` can have any\n",
    "influence on `similarity`, we can rule out ranking as a confounder because it is completely\n",
    "uncorrelated with the similarity."
   ]
  },
  {
   "cell_type": "markdown",
   "id": "7a860b4c",
   "metadata": {},
   "source": [
    "# 2020 Welcome to the first-ever (and hopefully last-ever) remote ADA final exam (Fall 2020)"
   ]
  },
  {
   "cell_type": "markdown",
   "id": "57e0e7ec",
   "metadata": {},
   "source": [
    "In this exam, you will analyze data from Wikipedia and from the [Wikispeedia](https://dlab.epfl.ch/wikispeedia/play/) game, which you have already encountered in lecture 12 on [“Handling networks”](https://docs.google.com/presentation/d/1h6cIINJ9cNZ-Rtb7SskXrl9Xet5zPUoX2oJlNM0loHQ/edit#slide=id.g464f30ace1_0_92). The rules of the Wikispeedia game are simple:\n",
    "1. Players are given two Wikipedia articles: a *source* and a *target*.\n",
    "2. Starting from the source article, the goal is to reach the target, exclusively by following links in the articles encountered along the path."
   ]
  },
  {
   "cell_type": "markdown",
   "id": "c47c6335",
   "metadata": {},
   "source": [
    "### The data\n",
    "\n",
    "The Wikispeedia data comprises ~76K games by human players, thereby capturing human navigation behavior on a very small subset of English Wikipedia comprising ~4.5K articles with a total of ~120K links between them.\n",
    "\n",
    "The dataset is available in the `data` directory pushed to the same GitHub repo as the exam. Inside the data directory, you will find four files:\n",
    "\n",
    "####  1. `article_df_task-A.tsv.gz`: A tab-separated file with the following information about Wikipedia articles\n",
    "- *name*: The name of the Wikipedia article\n",
    "- *topic*: The top-level topic label for the article (each article is assigned exactly one topic label)\n",
    "- *content*: The cleaned text of the article (having removed punctuations, stopwords, numbers, and letter casing). It is stored as a space-separated string.\n",
    "\n",
    "#### 2. `links_task-B.tsv.gz`: A tab-separated file containing Wikipedia links\n",
    "- *linkSource*: The name of the source Wikipedia article from which the link originates\n",
    "- *linkTarget*: The name of the target Wikipedia article to which the link points\n",
    "\n",
    "#### 3.  `paths_df_task-B.tsv.gz`: A tab-separated file with the following information about the played games\n",
    "- *hashed_ip_address*: Anonymized IP address of the player\n",
    "- *source*: The name of the Wikipedia article from where the game started\n",
    "- *target*: The name of the target article that the player was supposed to reach \n",
    "- *finished*: Whether the game was successfully finished (whether the player reached the target article)\n",
    "- *human_path_length*: The number of clicks made by the player, before they either reached the target (in *finished* games) or gave up (in *unfinished* games)\n",
    "- *shortest_path_length*: The minimum number of clicks required to reach the target article from the source article. Disconnected source-target article pairs have a shortest_path_length of *-1*.\n",
    "- *duration_in_sec*: The duration of the game in seconds\n",
    "\n",
    "#### 4.  `paths_df_task-C.tsv.gz`: In continuation to the task-B paths dataframe, this tab-separated file has the following additional information\n",
    "- *in_degree_target*: In-degree of the target article, that is the number of incoming links that lead to the target article\n",
    "\n",
    "*Note: In all the aforementioned files, the first line contains the header information. Additionally, article names are URL-encoded. For example, 'Antonín_Dvořák' is stored as 'Anton%C3%ADn_Dvo%C5%99%C3%A1k'. If needed, you can decode the article names using this code: `from urllib.parse import unquote; unquote('article-name')`.*"
   ]
  },
  {
   "cell_type": "code",
   "execution_count": 1,
   "id": "51495c5a",
   "metadata": {},
   "outputs": [],
   "source": [
    "''' Some minimalistic imports '''\n",
    "import pandas as pd\n",
    "import random\n",
    "import gzip\n",
    "import operator\n",
    "import time\n",
    "from urllib.parse import unquote\n",
    "\n",
    "import numpy as np\n",
    "import scipy.stats as stats\n",
    "from sklearn.feature_extraction.text import CountVectorizer, TfidfTransformer\n",
    "from sklearn.model_selection import train_test_split, GridSearchCV\n",
    "from sklearn.linear_model import SGDClassifier\n",
    "from sklearn.pipeline import Pipeline\n",
    "from sklearn.metrics import classification_report, confusion_matrix, roc_auc_score, average_precision_score, balanced_accuracy_score\n",
    "\n",
    "import networkx as nx\n",
    "\n",
    "from IPython.display import Image\n",
    "%matplotlib inline\n",
    "import matplotlib.pyplot as plt\n",
    "import seaborn as sns"
   ]
  },
  {
   "cell_type": "markdown",
   "id": "425140f9",
   "metadata": {},
   "source": [
    "## Task A. Can we predict article topic using textual content?\n",
    "\n",
    "*Note-1: For the entire Task A, we will use logistic regression for its scalability and simplicity. Specifically, we will use [SGDClassifier](https://scikit-learn.org/stable/modules/generated/sklearn.linear_model.SGDClassifier.html) available in `sklearn` with 'log' loss and '5' epochs for training a logistic regression classifier.*\n",
    "\n",
    "*Note-2: In all the cases where random number generation is required (train-test split, fitting the model, etc.), make sure to use 42 as the random seed.*"
   ]
  },
  {
   "cell_type": "markdown",
   "id": "4da69849",
   "metadata": {},
   "source": [
    "### A1. Load the text data and analyze the topic distribution\n",
    "1. Load `data/article_df_task-A.tsv.gz` as a pandas dataframe.   \n",
    "   *Note: we have already cleaned the text for you!*\n",
    "2. Print the total number of unique topics. Additionally, using a plot of appropriate type, analyze the article topic distribution.   \n",
    "   **/Discuss:/** What do you observe? Are different topics equally likely? If not, is there a large disparity between certain highly popular and very rare topics?"
   ]
  },
  {
   "cell_type": "code",
   "execution_count": 2,
   "id": "7e3eeddb",
   "metadata": {},
   "outputs": [],
   "source": [
    "'''your code here''';\n",
    "articles_content = pd.read_csv('data/article_df_task-A.tsv.gz', sep=\"\\t\", compression='gzip')"
   ]
  },
  {
   "cell_type": "code",
   "execution_count": 3,
   "id": "65eaf72a",
   "metadata": {},
   "outputs": [
    {
     "name": "stdout",
     "output_type": "stream",
     "text": [
      "Total number of unique topics are:  14\n"
     ]
    },
    {
     "data": {
      "image/png": "[encoded data removed]",
      "text/plain": [
       "<Figure size 432x288 with 1 Axes>"
      ]
     },
     "metadata": {
      "needs_background": "light"
     },
     "output_type": "display_data"
    }
   ],
   "source": [
    "topic_dist = articles_content['topic'].value_counts()\n",
    "print(\"Total number of unique topics are: \", len(topic_dist))\n",
    "topic_dist.plot(kind='bar')\n",
    "plt.show()"
   ]
  },
  {
   "cell_type": "markdown",
   "id": "0f2a4d55",
   "metadata": {},
   "source": [
    "**Answering A1.2:**   \n",
    "There is a substantial disparity in topic frequency of different topics. Certain topics such as 'Science' and 'Geography' are highly frequent, while others such as 'Mathematics' and 'Art' are super rare."
   ]
  },
  {
   "cell_type": "markdown",
   "id": "39dbf3f2",
   "metadata": {},
   "source": [
    "### A2. Topic classification (multi-class): Articles from 5 most frequent topics\n",
    "\n",
    "#### A2.1 Prepping the data for ML\n",
    "1. Restrict the data to articles corresponding to the top-5 topics based on topic frequency.\n",
    "2. Construct a TF-IDF representation of textual content.\n",
    "3. Classes are defined by the topic labels, which are given as *strings*. However, for training classifiers via `sklearn` the class labels need to be encoded as ordinals. Perform this encoding and add a new column of ordinal class labels in the current dataframe.\n",
    "4. Create two numpy arrays: X (TF-IDF representation of each article) and y (class-label of each article).\n",
    "\n",
    "#### A2.2 Train and evaluate a multi-class classifier\n",
    "1. Perform a train-test split with 70% as the training portion and the remainder as the testing portion. Use `random_state=42` for fixing the seed to 42.\n",
    "2. Train a logistic regression classifier with L2 regularization using the `SGDClassifier()` method of `sklearn`. Use `SGDClassifier(loss='log', max_iter=5, tol=None, alpha=1e-4, random_state=42)` to initialize the classifier object. Do not modify the settings for any other parameter, let them be set to their default values.   \n",
    "   **Important heads-up**: *Depending on the configuration of your computer, training the model could take up to 1 minute of compute time.*\n",
    "3. Report the classifier performance on the test data using accuracy as the metric.\n",
    "4. **/Discuss:/** Are you satisfied with the model performance? Qualitatively discuss the performance of the model by comparing it to a random baseline and justify your response.\n",
    "\n",
    "**Important note:** *Based on the discussion in the class, logistic regression is a binary classification technique. A simple heuristic to perform multi-class classification using a binary classifier is to use the [one-vs.-rest (OVR)](https://en.wikipedia.org/wiki/Multiclass_classification#One-vs.-rest) strategy. In this strategy, a binary classifier is trained for each class with the capability to differentiate it from all the other classes, and thus, $k$ binary classifiers are trained for a $k$-class classification. Internally, `SGDClassifier()` uses the [OVR](https://scikit-learn.org/stable/modules/generated/sklearn.multiclass.OneVsRestClassifier.html) strategy of `sklearn` whenever it sees the number of unique values in the **y** vector to be greater than 2. Thus, you can simply use it as a black-box! The only important point for this part is to make sure that the **y** vector of class-labels should have **5** unique values, one corresponding to each class-label.*"
   ]
  },
  {
   "cell_type": "code",
   "execution_count": 4,
   "id": "348fc943",
   "metadata": {},
   "outputs": [
    {
     "name": "stdout",
     "output_type": "stream",
     "text": [
      "Index(['People', 'Geography', 'History', 'Science', 'Everyday_life'], dtype='object')\n"
     ]
    },
    {
     "data": {
      "text/html": [
       "<div>\n",
       "<style scoped>\n",
       "    .dataframe tbody tr th:only-of-type {\n",
       "        vertical-align: middle;\n",
       "    }\n",
       "\n",
       "    .dataframe tbody tr th {\n",
       "        vertical-align: top;\n",
       "    }\n",
       "\n",
       "    .dataframe thead th {\n",
       "        text-align: right;\n",
       "    }\n",
       "</style>\n",
       "<table border=\"1\" class=\"dataframe\">\n",
       "  <thead>\n",
       "    <tr style=\"text-align: right;\">\n",
       "      <th></th>\n",
       "      <th>name</th>\n",
       "      <th>topic</th>\n",
       "      <th>content</th>\n",
       "      <th>labels</th>\n",
       "    </tr>\n",
       "  </thead>\n",
       "  <tbody>\n",
       "    <tr>\n",
       "      <th>0</th>\n",
       "      <td>%C3%81ed%C3%A1n_mac_Gabr%C3%A1in</td>\n",
       "      <td>People</td>\n",
       "      <td>copyright aedan mac gabrain schools wikipedia ...</td>\n",
       "      <td>0</td>\n",
       "    </tr>\n",
       "    <tr>\n",
       "      <th>1</th>\n",
       "      <td>%C3%85land</td>\n",
       "      <td>Geography</td>\n",
       "      <td>copyright aland schools wikipedia selection re...</td>\n",
       "      <td>1</td>\n",
       "    </tr>\n",
       "    <tr>\n",
       "      <th>2</th>\n",
       "      <td>%C3%89douard_Manet</td>\n",
       "      <td>People</td>\n",
       "      <td>copyright edouard manet schools wikipedia sele...</td>\n",
       "      <td>0</td>\n",
       "    </tr>\n",
       "    <tr>\n",
       "      <th>3</th>\n",
       "      <td>%C3%89ire</td>\n",
       "      <td>Geography</td>\n",
       "      <td>copyright eire schools wikipedia selection rel...</td>\n",
       "      <td>1</td>\n",
       "    </tr>\n",
       "    <tr>\n",
       "      <th>4</th>\n",
       "      <td>%C3%93engus_I_of_the_Picts</td>\n",
       "      <td>People</td>\n",
       "      <td>copyright oengus picts schools wikipedia selec...</td>\n",
       "      <td>0</td>\n",
       "    </tr>\n",
       "  </tbody>\n",
       "</table>\n",
       "</div>"
      ],
      "text/plain": [
       "                               name      topic  \\\n",
       "0  %C3%81ed%C3%A1n_mac_Gabr%C3%A1in     People   \n",
       "1                        %C3%85land  Geography   \n",
       "2                %C3%89douard_Manet     People   \n",
       "3                         %C3%89ire  Geography   \n",
       "4        %C3%93engus_I_of_the_Picts     People   \n",
       "\n",
       "                                             content  labels  \n",
       "0  copyright aedan mac gabrain schools wikipedia ...       0  \n",
       "1  copyright aland schools wikipedia selection re...       1  \n",
       "2  copyright edouard manet schools wikipedia sele...       0  \n",
       "3  copyright eire schools wikipedia selection rel...       1  \n",
       "4  copyright oengus picts schools wikipedia selec...       0  "
      ]
     },
     "execution_count": 4,
     "metadata": {},
     "output_type": "execute_result"
    }
   ],
   "source": [
    "'''your answer/code here''';\n",
    "top5 = list(topic_dist.index)[0:5]\n",
    "top5_articles_content = articles_content.loc[articles_content['topic'].apply(lambda x: x in top5)].copy()\n",
    "'''\n",
    "another way\n",
    "top5_articles_content = articles_content.loc[articles_content['topic'].isin(top5)].copy()\n",
    "'''\n",
    "factor = pd.factorize(top5_articles_content['topic'])\n",
    "top5_articles_content['labels'] = factor[0]\n",
    "top5_definitions = factor[1]\n",
    "print(top5_definitions)\n",
    "top5_articles_content.head()"
   ]
  },
  {
   "cell_type": "code",
   "execution_count": 5,
   "id": "0041a4a6",
   "metadata": {},
   "outputs": [],
   "source": [
    "X = top5_articles_content['content'].to_numpy()\n",
    "y = top5_articles_content['labels'].to_numpy()"
   ]
  },
  {
   "cell_type": "code",
   "execution_count": 6,
   "id": "d5f913ac",
   "metadata": {},
   "outputs": [
    {
     "name": "stdout",
     "output_type": "stream",
     "text": [
      "31.59963583946228\n"
     ]
    }
   ],
   "source": [
    "X_train, X_test, y_train, y_test = train_test_split(X, y, test_size=0.3, random_state=42)\n",
    "\n",
    "parameters = {\n",
    "    'clf__alpha': [1e-4],    \n",
    "}\n",
    "\n",
    "text_clf = Pipeline([\n",
    "    ('vect', CountVectorizer()),\n",
    "    ('tfidf', TfidfTransformer()),\n",
    "    ('clf', SGDClassifier(penalty='l2', loss='log', max_iter=5, tol=None, random_state=42))\n",
    "])\n",
    "\n",
    "tstart = time.time()\n",
    "gs_clf = GridSearchCV(text_clf, parameters, cv=5)\n",
    "gs_clf = gs_clf.fit(X_train, y_train)\n",
    "tend = time.time()\n",
    "print(tend-tstart)"
   ]
  },
  {
   "cell_type": "code",
   "execution_count": 7,
   "id": "e6f9e637",
   "metadata": {},
   "outputs": [
    {
     "name": "stdout",
     "output_type": "stream",
     "text": [
      "0.8778912294932049\n",
      "clf__alpha: 0.0001\n"
     ]
    }
   ],
   "source": [
    "print(gs_clf.best_score_)\n",
    "for param_name in sorted(parameters.keys()):\n",
    "    print(\"%s: %r\" % (param_name, gs_clf.best_params_[param_name]))"
   ]
  },
  {
   "cell_type": "code",
   "execution_count": 8,
   "id": "2a35865d",
   "metadata": {},
   "outputs": [
    {
     "name": "stdout",
     "output_type": "stream",
     "text": [
      "Accuracy on Test Data:  0.88268156424581\n"
     ]
    }
   ],
   "source": [
    "predicted = gs_clf.predict(X_test)\n",
    "print(\"Accuracy on Test Data: \", np.mean(predicted == y_test))"
   ]
  },
  {
   "cell_type": "markdown",
   "id": "cb99a0e4",
   "metadata": {},
   "source": [
    "**Answering A2.2.4:**   \n",
    "In a 5-class classification a random model obtains an accuracy of 20% in expectation. Thus, obtaining an accuracy in high 80s is a strong outcome."
   ]
  },
  {
   "cell_type": "markdown",
   "id": "85748b4b",
   "metadata": {},
   "source": [
    "### A3. Topic classification (binary): Articles from the most and least frequent topics\n",
    "\n",
    "#### A3.1 Train and evaluate a binary classifier\n",
    "1. Restrict the data to articles belonging to the most frequent or to the least frequent topic.\n",
    "2. Create two numpy arrays: X (TF-IDF representation of each article) and y (class-label of each article).\n",
    "3. Perform a train-test split with 70% as the training portion and the remainder as the testing portion. Use `random_state=42` for fixing the seed to 42.\n",
    "4. Train a logistic regression classifier with L2 regularization using the `SGDClassifier()` method of `sklearn`. Use `SGDClassifier(loss='log', max_iter=5, tol=None, alpha=1e-4, random_state=42)` to initialize the classifier object. Do not modify the settings for any other parameter, let them be set to their default values.\n",
    "5. Report the classifier performance on the test data using accuracy as the metric."
   ]
  },
  {
   "cell_type": "code",
   "execution_count": 9,
   "id": "4a217259",
   "metadata": {},
   "outputs": [
    {
     "name": "stdout",
     "output_type": "stream",
     "text": [
      "Index(['Science', 'Art'], dtype='object')\n"
     ]
    },
    {
     "data": {
      "text/html": [
       "<div>\n",
       "<style scoped>\n",
       "    .dataframe tbody tr th:only-of-type {\n",
       "        vertical-align: middle;\n",
       "    }\n",
       "\n",
       "    .dataframe tbody tr th {\n",
       "        vertical-align: top;\n",
       "    }\n",
       "\n",
       "    .dataframe thead th {\n",
       "        text-align: right;\n",
       "    }\n",
       "</style>\n",
       "<table border=\"1\" class=\"dataframe\">\n",
       "  <thead>\n",
       "    <tr style=\"text-align: right;\">\n",
       "      <th></th>\n",
       "      <th>name</th>\n",
       "      <th>topic</th>\n",
       "      <th>content</th>\n",
       "      <th>labels</th>\n",
       "    </tr>\n",
       "  </thead>\n",
       "  <tbody>\n",
       "    <tr>\n",
       "      <th>13</th>\n",
       "      <td>16_Cygni</td>\n",
       "      <td>Science</td>\n",
       "      <td>copyright cygni schools wikipedia selection re...</td>\n",
       "      <td>0</td>\n",
       "    </tr>\n",
       "    <tr>\n",
       "      <th>14</th>\n",
       "      <td>16_Cygni_Bb</td>\n",
       "      <td>Science</td>\n",
       "      <td>copyright cygni bb schools wikipedia selection...</td>\n",
       "      <td>0</td>\n",
       "    </tr>\n",
       "    <tr>\n",
       "      <th>25</th>\n",
       "      <td>1_Ceres</td>\n",
       "      <td>Science</td>\n",
       "      <td>copyright ceres dwarf planet schools wikipedia...</td>\n",
       "      <td>0</td>\n",
       "    </tr>\n",
       "    <tr>\n",
       "      <th>41</th>\n",
       "      <td>3_Juno</td>\n",
       "      <td>Science</td>\n",
       "      <td>copyright juno schools wikipedia selection rel...</td>\n",
       "      <td>0</td>\n",
       "    </tr>\n",
       "    <tr>\n",
       "      <th>46</th>\n",
       "      <td>47_Ursae_Majoris</td>\n",
       "      <td>Science</td>\n",
       "      <td>copyright ursae majoris schools wikipedia sele...</td>\n",
       "      <td>0</td>\n",
       "    </tr>\n",
       "  </tbody>\n",
       "</table>\n",
       "</div>"
      ],
      "text/plain": [
       "                name    topic  \\\n",
       "13          16_Cygni  Science   \n",
       "14       16_Cygni_Bb  Science   \n",
       "25           1_Ceres  Science   \n",
       "41            3_Juno  Science   \n",
       "46  47_Ursae_Majoris  Science   \n",
       "\n",
       "                                              content  labels  \n",
       "13  copyright cygni schools wikipedia selection re...       0  \n",
       "14  copyright cygni bb schools wikipedia selection...       0  \n",
       "25  copyright ceres dwarf planet schools wikipedia...       0  \n",
       "41  copyright juno schools wikipedia selection rel...       0  \n",
       "46  copyright ursae majoris schools wikipedia sele...       0  "
      ]
     },
     "execution_count": 9,
     "metadata": {},
     "output_type": "execute_result"
    }
   ],
   "source": [
    "'''your answer/code here''';\n",
    "top_and_bottom = list(topic_dist.index)[::len(list(topic_dist.index))-1]\n",
    "top_and_bottom_articles_content = articles_content.loc[articles_content['topic'].apply(lambda x: x in top_and_bottom)].copy()\n",
    "'''\n",
    "another way\n",
    "top_and_bottom_articles_content = articles_content.loc[articles_content['topic'].isin(top_and_bottom)].copy()\n",
    "'''\n",
    "factor = pd.factorize(top_and_bottom_articles_content['topic'])\n",
    "top_and_bottom_articles_content['labels'] = factor[0]\n",
    "top_and_bottom_definitions = factor[1]\n",
    "print(top_and_bottom_definitions)\n",
    "top_and_bottom_articles_content.head()"
   ]
  },
  {
   "cell_type": "code",
   "execution_count": 10,
   "id": "0934447c",
   "metadata": {},
   "outputs": [],
   "source": [
    "X_small = top_and_bottom_articles_content['content'].to_numpy()\n",
    "y_small = top_and_bottom_articles_content['labels'].to_numpy()"
   ]
  },
  {
   "cell_type": "code",
   "execution_count": 11,
   "id": "25ea7869",
   "metadata": {},
   "outputs": [
    {
     "name": "stdout",
     "output_type": "stream",
     "text": [
      "6.040582895278931\n"
     ]
    }
   ],
   "source": [
    "X_train_small, X_test_small, y_train_small, y_test_small = train_test_split(X_small, y_small, test_size=0.3, random_state=42)\n",
    "\n",
    "parameters = {\n",
    "    'clf__alpha': [1e-4],\n",
    "}\n",
    "\n",
    "text_clf_small = Pipeline([\n",
    "    ('vect', CountVectorizer()),\n",
    "    ('tfidf', TfidfTransformer()),\n",
    "    ('clf', SGDClassifier(penalty='l2', loss='log', max_iter=5, tol=None, random_state=42))\n",
    "])\n",
    "\n",
    "tstart = time.time()\n",
    "gs_clf_small = GridSearchCV(text_clf_small, parameters, cv=5)\n",
    "gs_clf_small = gs_clf_small.fit(X_train_small, y_train_small)\n",
    "tend = time.time()\n",
    "print(tend-tstart)"
   ]
  },
  {
   "cell_type": "code",
   "execution_count": 12,
   "id": "e3d0f845",
   "metadata": {},
   "outputs": [
    {
     "name": "stdout",
     "output_type": "stream",
     "text": [
      "0.9824056603773584\n",
      "clf__alpha: 0.0001\n"
     ]
    }
   ],
   "source": [
    "print(gs_clf_small.best_score_)\n",
    "for param_name in sorted(parameters.keys()):\n",
    "    print(\"%s: %r\" % (param_name, gs_clf_small.best_params_[param_name]))"
   ]
  },
  {
   "cell_type": "code",
   "execution_count": 13,
   "id": "a26f3825",
   "metadata": {},
   "outputs": [
    {
     "name": "stdout",
     "output_type": "stream",
     "text": [
      "Accuracy on Test Data:  0.9707602339181286\n"
     ]
    }
   ],
   "source": [
    "predicted_small = gs_clf_small.predict(X_test_small)\n",
    "print(\"Accuracy on Test Data: \", np.mean(predicted_small == y_test_small))"
   ]
  },
  {
   "cell_type": "markdown",
   "id": "330963d4",
   "metadata": {},
   "source": [
    "#### A3.2 Assessing the evaluation metric\n",
    "1. **/Discuss:/** What is your take on the accuracy obtained in A3.1? Do you think accuracy is the correct evaluation metric for this task? If yes, justify! If not, why not, and what else can be used?\n",
    "2. If you included additional evaluation metrics in A3.2.1, then perform an empirical analysis of the performance using these metrics.   \n",
    "   **/Discuss:/** Additionally, discuss what you observe. Is it harder to predict the topic labels of certain articles? Why, or why not? Please elaborate!"
   ]
  },
  {
   "cell_type": "markdown",
   "id": "1d8a0665",
   "metadata": {},
   "source": [
    "**Answering A3.2.1**   \n",
    "There is a huge class imbalance, thus, accuracy is not a good metric. It is very easy for accuracy to be biased. If you label everything as the majority class, the accuracy would still be very high (in the high 90s), but the performance on the minority class would be terrible.\n",
    "\n",
    "In such cases, one can use the either of the following for evaluation.\n",
    "1. confusion matrix, \n",
    "2. balanced accuracy score (sklearn), or \n",
    "3. (un)weighted micro/macro averaged F1 scores"
   ]
  },
  {
   "cell_type": "markdown",
   "id": "59737304",
   "metadata": {},
   "source": [
    "**Answering A3.2.2**   \n",
    "It is hard to correctly predict the topic labels of the articles in the minority class. This could be because of the following reasons:\n",
    "1. The model didn't see enough training data from the minority class to learn to classify/discriminate it.\n",
    "2. The loss function treats each training sample as equally important. Thus, trying to minimize the overall loss would  guide the model to focus more on the majority class."
   ]
  },
  {
   "cell_type": "markdown",
   "id": "cc8d8cb7",
   "metadata": {},
   "source": [
    "#### At least one of the following should be be used to report the performance. If a reasonable alternate metric is suggested, judge based on it's correctness!"
   ]
  },
  {
   "cell_type": "code",
   "execution_count": 14,
   "id": "b5d2be1f",
   "metadata": {
    "scrolled": true
   },
   "outputs": [
    {
     "name": "stdout",
     "output_type": "stream",
     "text": [
      "[[329   1]\n",
      " [  9   3]]\n"
     ]
    }
   ],
   "source": [
    "print(confusion_matrix(y_test_small, predicted_small))"
   ]
  },
  {
   "cell_type": "code",
   "execution_count": 15,
   "id": "4310d984",
   "metadata": {},
   "outputs": [
    {
     "name": "stdout",
     "output_type": "stream",
     "text": [
      "0.6234848484848485\n"
     ]
    }
   ],
   "source": [
    "print(balanced_accuracy_score(y_test_small, predicted_small))"
   ]
  },
  {
   "cell_type": "code",
   "execution_count": 16,
   "id": "7a7a141f",
   "metadata": {},
   "outputs": [
    {
     "name": "stdout",
     "output_type": "stream",
     "text": [
      "              precision    recall  f1-score   support\n",
      "\n",
      "           0      0.973     0.997     0.985       330\n",
      "           1      0.750     0.250     0.375        12\n",
      "\n",
      "    accuracy                          0.971       342\n",
      "   macro avg      0.862     0.623     0.680       342\n",
      "weighted avg      0.966     0.971     0.964       342\n",
      "\n"
     ]
    }
   ],
   "source": [
    "print(classification_report(y_test_small, predicted_small, digits=3))"
   ]
  },
  {
   "cell_type": "markdown",
   "id": "03ecc726",
   "metadata": {},
   "source": [
    "#### A3.3 Class proportions\n",
    "1. **/Discuss:/** Does the disparity in class proportions hurt the model? If yes, how can you fix it? If not, justify the reasons behind your choice.   \n",
    "   *Hint: The learning objective of a classifier can be modified by altering the importance of each class in the computation of the loss function.*\n",
    "2. If your answer to the aforementioned question is a \"yes\", please do the following. If not, move to **Task A4**.\n",
    "    * Implement the fix you proposed in A3.3.1, and repeat the classification task performed in Step A3.1 using the fixed model.\n",
    "    * Vary the regularization parameter `alpha` in the range [1e-6, 1e-5, 1e-4, 1e-3, 1e-2, 1e-1], and using accuracy as the metric find and report its optimal value using 5-fold cross validation on the training set.   \n",
    "       **Important heads-up**: *Depending on the configuration of your computer, grid search for the optimal value of `alpha` could take up to 1 minute of compute time.*\n",
    "    * Lastly, redo the evaluations proposed in A3.2.   \n",
    "       **/Discuss:/** Do you observe any differences from the results obtained in A3.2? Why, or why not? Please elaborate!"
   ]
  },
  {
   "cell_type": "markdown",
   "id": "33448624",
   "metadata": {},
   "source": [
    "**Answering A3.3.1**   \n",
    "As evident from the confusion matrix, the disparity in class proportions does indeed hurt the model. Almost all (99%) of the examples are classified as class 0. What's more, 75% of the articles in class 1, are predicted to belong to class 0.\n",
    "\n",
    "One way to address this is to employ cost-sensitive learning, i.e., using `class-weight`='balanced' while training the model. Another way could be up/down sampling minority/majority class. 'SMOTE' is a very popular technique of oversampling the minority class that can be employed here.\n",
    "\n",
    "The solution described below uses `class-weight`='balanced', however, if someone uses 'SMOTE' that's acceptable as well."
   ]
  },
  {
   "cell_type": "markdown",
   "id": "df14b0f4",
   "metadata": {},
   "source": [
    "**A3.3.2**"
   ]
  },
  {
   "cell_type": "code",
   "execution_count": 17,
   "id": "daebd2bf",
   "metadata": {},
   "outputs": [
    {
     "name": "stdout",
     "output_type": "stream",
     "text": [
      "29.97704792022705\n"
     ]
    }
   ],
   "source": [
    "parameters = {\n",
    "    'clf__alpha': [1e-1, 1e-2, 1e-3, 1e-4, 1e-5, 1e-6],\n",
    "}\n",
    "\n",
    "text_clf_small = Pipeline([\n",
    "    ('vect', CountVectorizer()),\n",
    "    ('tfidf', TfidfTransformer()),\n",
    "    ('clf', SGDClassifier(penalty='l2', loss='log', max_iter=5, tol=None, random_state=42, class_weight='balanced'))\n",
    "])\n",
    "\n",
    "tstart = time.time()\n",
    "gs_clf_small = GridSearchCV(text_clf_small, parameters, cv=5)\n",
    "gs_clf_small = gs_clf_small.fit(X_train_small, y_train_small)\n",
    "tend = time.time()\n",
    "print(tend-tstart)"
   ]
  },
  {
   "cell_type": "code",
   "execution_count": 18,
   "id": "48c921d8",
   "metadata": {},
   "outputs": [
    {
     "name": "stdout",
     "output_type": "stream",
     "text": [
      "0.9987421383647799\n",
      "The optimal clf__alpha is: 0.01\n"
     ]
    }
   ],
   "source": [
    "print(gs_clf_small.best_score_)\n",
    "for param_name in sorted(parameters.keys()):\n",
    "    print(\"The optimal %s is: %r\" % (param_name, gs_clf_small.best_params_[param_name]))"
   ]
  },
  {
   "cell_type": "code",
   "execution_count": 19,
   "id": "130fbe63",
   "metadata": {},
   "outputs": [
    {
     "name": "stdout",
     "output_type": "stream",
     "text": [
      "Accuracy on Test Data:  0.9941520467836257\n"
     ]
    }
   ],
   "source": [
    "predicted_small = gs_clf_small.predict(X_test_small)\n",
    "print(\"Accuracy on Test Data: \", np.mean(predicted_small == y_test_small))"
   ]
  },
  {
   "cell_type": "markdown",
   "id": "f6512730",
   "metadata": {},
   "source": [
    "#### Similar to A3.2, at least one of the following should be be used to report the performance. If a reasonable alternate metric is suggested, judge based on it's correctness!"
   ]
  },
  {
   "cell_type": "code",
   "execution_count": 20,
   "id": "01f3395f",
   "metadata": {},
   "outputs": [
    {
     "name": "stdout",
     "output_type": "stream",
     "text": [
      "[[329   1]\n",
      " [  1  11]]\n"
     ]
    }
   ],
   "source": [
    "print(confusion_matrix(y_test_small, predicted_small))"
   ]
  },
  {
   "cell_type": "code",
   "execution_count": 21,
   "id": "a6e29908",
   "metadata": {},
   "outputs": [
    {
     "name": "stdout",
     "output_type": "stream",
     "text": [
      "0.9568181818181818\n"
     ]
    }
   ],
   "source": [
    "print(balanced_accuracy_score(y_test_small, predicted_small))"
   ]
  },
  {
   "cell_type": "code",
   "execution_count": 22,
   "id": "7e7fbb28",
   "metadata": {
    "scrolled": true
   },
   "outputs": [
    {
     "name": "stdout",
     "output_type": "stream",
     "text": [
      "              precision    recall  f1-score   support\n",
      "\n",
      "           0      0.997     0.997     0.997       330\n",
      "           1      0.917     0.917     0.917        12\n",
      "\n",
      "    accuracy                          0.994       342\n",
      "   macro avg      0.957     0.957     0.957       342\n",
      "weighted avg      0.994     0.994     0.994       342\n",
      "\n"
     ]
    }
   ],
   "source": [
    "print(classification_report(y_test_small, predicted_small, digits=3))"
   ]
  },
  {
   "cell_type": "markdown",
   "id": "b15b33b8",
   "metadata": {},
   "source": [
    "**Ansering A3.3.2**   \n",
    "The results are much better now as both the minority and majoirty classes are properly classified. This is evident from the confusion matrix, balanced accuracy score, or macro averaged f1-score.\n",
    "\n",
    "Using 'balanced' class weights while training the model forces the loss function to give higher relative importance to training samples corresponding to the minority class. Actually, the training samples are weighted as inverse of the class proportions."
   ]
  },
  {
   "cell_type": "markdown",
   "id": "773093a6",
   "metadata": {},
   "source": [
    "### A4. Revisiting Multi-class classifier of A2.2\n",
    "\n",
    "1. Print and analyze the confusion matrix for the multi-class model trained in A2.2. **/Discuss:/** What do you observe?\n",
    "2. **/Discuss:/** Similar to A3.3, does the disparity in class proportions hurt the model? If yes, how can you fix it? If not, justify the reasons behind your choice.\n",
    "3. If your answer to the aforementioned question is a \"yes\", please do the following. If not, move to **Task A5**.\n",
    "    * Implement the fix you proposed in A4.2, and repeat the classification task performed in Step A2.2 using the fixed model.\n",
    "    * Vary the regularization parameter `alpha` in the range [1e-6, 1e-5, 1e-4, 1e-3], and using accuracy as the metric find and report its optimal value using 5-fold cross validation on the training set.   \n",
    "       **Important heads-up**: *Depending on the configuration of your computer, grid search for the optimal value of `alpha` could take up to 2 minutes of compute time.*\n",
    "    * Lastly, obtain the accuracy and confusion matrix.\n",
    "4. **/Discuss:/** Contrast the confusion matrix obtained in A4.1 with the one obtained in A4.3. Do you observe any differences? Why, or why not? Please elaborate!"
   ]
  },
  {
   "cell_type": "code",
   "execution_count": 23,
   "id": "1eb9f423",
   "metadata": {},
   "outputs": [
    {
     "name": "stdout",
     "output_type": "stream",
     "text": [
      "[[182   3  11   3   1]\n",
      " [  1 297   2  17   0]\n",
      " [ 26  14  86   3   0]\n",
      " [  3   0   0 327   0]\n",
      " [ 13   5   1  23  56]]\n"
     ]
    }
   ],
   "source": [
    "'''your answer/code here''';\n",
    "print(confusion_matrix(y_test, predicted))"
   ]
  },
  {
   "cell_type": "markdown",
   "id": "58dba8e9",
   "metadata": {},
   "source": [
    "#### The following two metrics are not required/mandatory per the question!"
   ]
  },
  {
   "cell_type": "code",
   "execution_count": 24,
   "id": "3eda4ab2",
   "metadata": {},
   "outputs": [
    {
     "name": "stdout",
     "output_type": "stream",
     "text": [
      "0.8151825692708974\n"
     ]
    }
   ],
   "source": [
    "print(balanced_accuracy_score(y_test, predicted))"
   ]
  },
  {
   "cell_type": "code",
   "execution_count": 25,
   "id": "72567c44",
   "metadata": {
    "scrolled": true
   },
   "outputs": [
    {
     "name": "stdout",
     "output_type": "stream",
     "text": [
      "              precision    recall  f1-score   support\n",
      "\n",
      "           0      0.809     0.910     0.856       200\n",
      "           1      0.931     0.937     0.934       317\n",
      "           2      0.860     0.667     0.751       129\n",
      "           3      0.877     0.991     0.930       330\n",
      "           4      0.982     0.571     0.723        98\n",
      "\n",
      "    accuracy                          0.883      1074\n",
      "   macro avg      0.892     0.815     0.839      1074\n",
      "weighted avg      0.888     0.883     0.877      1074\n",
      "\n"
     ]
    }
   ],
   "source": [
    "print(classification_report(y_test, predicted, digits=3))"
   ]
  },
  {
   "cell_type": "markdown",
   "id": "1d9a73de",
   "metadata": {},
   "source": [
    "**Answering A4.1**   \n",
    "The two least frequent classes have a much higher error than the other three more frequent classes. In fact, the error is somewhat inversely correlated with the frequency of the class. The higher the frequency the lesser the error."
   ]
  },
  {
   "cell_type": "markdown",
   "id": "5191030f",
   "metadata": {},
   "source": [
    "**Answering A4.2**   \n",
    "As evident from the confusion matrix, the disparity in class proportions does indeed hurt the model.\n",
    "\n",
    "One way to address this is to employ cost-sensitive learning, i.e., using `class-weight`='balanced' while training the model. Another way could be up/down sampling minority/majority class. 'SMOTE' is a very popular technique of oversampling the minority class that can be employed here.\n",
    "\n",
    "The solution described below uses `class-weight`='balanced', however, if someone uses 'SMOTE' that's acceptable as well."
   ]
  },
  {
   "cell_type": "code",
   "execution_count": 26,
   "id": "3d7dd41b",
   "metadata": {},
   "outputs": [
    {
     "name": "stdout",
     "output_type": "stream",
     "text": [
      "97.61493825912476\n"
     ]
    }
   ],
   "source": [
    "parameters = {\n",
    "    'clf__alpha': [1e-3, 1e-4, 1e-5, 1e-6],\n",
    "}\n",
    "\n",
    "text_clf = Pipeline([\n",
    "    ('vect', CountVectorizer()),\n",
    "    ('tfidf', TfidfTransformer()),\n",
    "    ('clf', SGDClassifier(penalty='l2', loss='log', max_iter=5, tol=None, random_state=42, class_weight='balanced'))\n",
    "])\n",
    "\n",
    "tstart = time.time()\n",
    "gs_clf = GridSearchCV(text_clf, parameters, cv=5)\n",
    "gs_clf = gs_clf.fit(X_train, y_train)\n",
    "tend = time.time()\n",
    "print(tend-tstart)"
   ]
  },
  {
   "cell_type": "code",
   "execution_count": 27,
   "id": "b6b4c984",
   "metadata": {},
   "outputs": [
    {
     "name": "stdout",
     "output_type": "stream",
     "text": [
      "0.8946497443360292\n",
      "The optimal clf__alpha is: 1e-05\n"
     ]
    }
   ],
   "source": [
    "print(gs_clf.best_score_)\n",
    "for param_name in sorted(parameters.keys()):\n",
    "    print(\"The optimal %s is: %r\" % (param_name, gs_clf.best_params_[param_name]))"
   ]
  },
  {
   "cell_type": "code",
   "execution_count": 28,
   "id": "a7199bf1",
   "metadata": {},
   "outputs": [
    {
     "name": "stdout",
     "output_type": "stream",
     "text": [
      "Accuracy on Test Data:  0.8966480446927374\n"
     ]
    }
   ],
   "source": [
    "predicted = gs_clf.predict(X_test)\n",
    "print(\"Accuracy on Test Data: \", np.mean(predicted == y_test))"
   ]
  },
  {
   "cell_type": "code",
   "execution_count": 29,
   "id": "2c469f98",
   "metadata": {},
   "outputs": [
    {
     "name": "stdout",
     "output_type": "stream",
     "text": [
      "[[178   1  16   3   2]\n",
      " [  2 295   5  14   1]\n",
      " [ 25   7  96   1   0]\n",
      " [  5   1   0 322   2]\n",
      " [  7   4   1  14  72]]\n"
     ]
    }
   ],
   "source": [
    "print(confusion_matrix(y_test, predicted))"
   ]
  },
  {
   "cell_type": "markdown",
   "id": "95cd06f2",
   "metadata": {},
   "source": [
    "#### The following two metrics are not required/mandatory per the question!"
   ]
  },
  {
   "cell_type": "code",
   "execution_count": 30,
   "id": "8e14ca3c",
   "metadata": {},
   "outputs": [
    {
     "name": "stdout",
     "output_type": "stream",
     "text": [
      "0.8550473737810795\n"
     ]
    }
   ],
   "source": [
    "print(balanced_accuracy_score(y_test, predicted))"
   ]
  },
  {
   "cell_type": "code",
   "execution_count": 31,
   "id": "87d3d5bb",
   "metadata": {
    "scrolled": true
   },
   "outputs": [
    {
     "name": "stdout",
     "output_type": "stream",
     "text": [
      "              precision    recall  f1-score   support\n",
      "\n",
      "           0      0.820     0.890     0.854       200\n",
      "           1      0.958     0.931     0.944       317\n",
      "           2      0.814     0.744     0.777       129\n",
      "           3      0.910     0.976     0.942       330\n",
      "           4      0.935     0.735     0.823        98\n",
      "\n",
      "    accuracy                          0.897      1074\n",
      "   macro avg      0.887     0.855     0.868      1074\n",
      "weighted avg      0.898     0.897     0.895      1074\n",
      "\n"
     ]
    }
   ],
   "source": [
    "print(classification_report(y_test, predicted, digits=3))"
   ]
  },
  {
   "cell_type": "markdown",
   "id": "7eb05972",
   "metadata": {},
   "source": [
    "**Answering A4.4**   \n",
    "The results are much better now: the two low frequency classes are now better classified. This is evident from the confusion matrix, balanced accuracy score, or macro averaged f1-score.\n",
    "\n",
    "Using 'balanced' class weights while training the model forces the loss function to give higher relative importance to training samples corresponding to the classes with lower frequency. Actually, the training samples are weighted as inverse of the class proportions."
   ]
  },
  {
   "cell_type": "markdown",
   "id": "59ba2e16",
   "metadata": {},
   "source": [
    "### A5. Interpretability\n",
    "1. For each of the 5-classes considered in **A4**, obtain a list of top-10 words (sorted in descending order of their importance) based on the feature weights learned by the classifier.\n",
    "\n",
    "2. **/Discuss:/** Qualitatively discuss the relevance of the identified words and their association with the respective class-labels. Is the classifier correct to assign them high weights? Are they truly discriminative/predictive of the respective class-labels? Justify your responses with clear and crisp reasons!"
   ]
  },
  {
   "cell_type": "code",
   "execution_count": 62,
   "id": "6d02c774",
   "metadata": {},
   "outputs": [
    {
     "name": "stdout",
     "output_type": "stream",
     "text": [
      "Index(['People', 'Geography', 'History', 'Science', 'Everyday_life'], dtype='object')\n"
     ]
    },
    {
     "data": {
      "text/plain": [
       "array([['career', 'born', 'father', 'died', 'work', 'life', 'death',\n",
       "        'married', 'son', 'later'],\n",
       "       ['city', 'population', 'river', 'area', 'island', 'geography',\n",
       "        'sea', 'country', 'islands', 'capital'],\n",
       "       ['war', 'bc', 'empire', 'century', 'battle', 'gladstone',\n",
       "        'history', 'burnside', 'roman', 'odysseus'],\n",
       "       ['species', 'genus', 'classification', 'birds', 'scientific',\n",
       "        'moon', 'orbit', 'disease', 'energy', 'mol'],\n",
       "       ['game', 'sleep', 'asparagus', 'dance', 'garden', 'astrology',\n",
       "        'love', 'lego', 'apricot', 'wrestling']], dtype='<U57')"
      ]
     },
     "execution_count": 62,
     "metadata": {},
     "output_type": "execute_result"
    }
   ],
   "source": [
    "'''your answer/code here''';\n",
    "top5_coeff_indices = np.argsort(gs_clf.best_estimator_.named_steps['clf'].coef_)[:,-10:][:,::-1]\n",
    "print(top5_definitions)\n",
    "np.array(gs_clf.best_estimator_.named_steps['vect'].get_feature_names())[top5_coeff_indices]"
   ]
  },
  {
   "cell_type": "markdown",
   "id": "1c80b7a3",
   "metadata": {},
   "source": [
    "**Answering A5.2**   \n",
    "It is quite clear that the top-10 words are discriminative/predictive of the corresponding class-labels.   \n",
    "For example, 'life', 'death', 'work', 'born', 'career' are quite highly associated with the 'people' class, which is intuitive.   \n",
    "Similarly, 'roman', 'war', 'empire', 'century' being associated with 'history' class is also quite intuitive.   \n",
    "Also, similar points can be said about the other classes as well!"
   ]
  },
  {
   "cell_type": "markdown",
   "id": "873703d9",
   "metadata": {},
   "source": [
    "## Task B. The Wikipedia link network"
   ]
  },
  {
   "cell_type": "markdown",
   "id": "ac54d2f0",
   "metadata": {},
   "source": [
    "### B1. Wikipedia network: reveal your shape!\n",
    "#### B1.1 Load the Wikipedia link network (`data/links_task-B.tsv.gz`) into memory as a directed graph using `NetworkX`.\n",
    "1. Compute the following from the loaded graph object:\n",
    "    * the number of nodes,\n",
    "    * the number of edges, and\n",
    "    * the average degree.\n",
    "2. **/Discuss:/** In order to summarize the degree distribution in a single number, would you recommend using the average degree? Why, or why not? If not, what alternatives can you think of? Please elaborate!"
   ]
  },
  {
   "cell_type": "code",
   "execution_count": 33,
   "id": "39bd3dae",
   "metadata": {},
   "outputs": [
    {
     "name": "stdout",
     "output_type": "stream",
     "text": [
      "4592 119882 26.10670731707317\n"
     ]
    }
   ],
   "source": [
    "'''your answer/code here''';\n",
    "flinks = gzip.open(\"data/links_task-B.tsv.gz\")\n",
    "edgeList = []; nodes = {}; edges = {}\n",
    "idx = 0\n",
    "for line in flinks:\n",
    "    line = line.decode('utf-8').strip()\n",
    "    if idx==0 or '#' in line or len(line)==0:\n",
    "        idx+=1\n",
    "        continue\n",
    "    line = line.split(\"\\t\")\n",
    "    source = line[0]; target = line[1]\n",
    "    nodes[source] = True; nodes[target] = True\n",
    "    edges[(source,target)] = True\n",
    "    edgeList.append((source,target))\n",
    "    idx+=1\n",
    "    \n",
    "G = nx.DiGraph()\n",
    "G.add_edges_from(edgeList)\n",
    "print(len(G.nodes()), len(G.edges()), len(G.edges())/len(G.nodes()))"
   ]
  },
  {
   "cell_type": "markdown",
   "id": "0bcd81ba",
   "metadata": {},
   "source": [
    "**Answering B1.1.2**   \n",
    "Average degree is not recommended as the degree distribution of real-world networks usually follows a powerlaw. Summarizing powerlaws with average values is not a good idea, as there is a long tail, and there are many nodes that have very high degree. Instead, median is a better choice."
   ]
  },
  {
   "cell_type": "markdown",
   "id": "8efa60e0",
   "metadata": {},
   "source": [
    "#### B1.2 Using the appropriate plot type, plot the in-degree and out-degree distributions of the Wikipedia link network and analyze it. \n",
    "1. **/Discuss:/** What is the appropriate scale of the axes?\n",
    "2. **/Discuss:/** Does the distribution (roughly) follow a particular distribution, and if yes, which one? Additionally, explain how you arrived at your conclusion."
   ]
  },
  {
   "cell_type": "code",
   "execution_count": 34,
   "id": "cc370f92",
   "metadata": {},
   "outputs": [],
   "source": [
    "'''your answer/code here''';\n",
    "def degree_histogram_directed(G, in_degree=False, out_degree=False):\n",
    "    nodes = G.nodes()\n",
    "    if in_degree:\n",
    "        in_degree = dict(G.in_degree())\n",
    "        degseq=[in_degree.get(k,0) for k in nodes]\n",
    "    elif out_degree:\n",
    "        out_degree = dict(G.out_degree())\n",
    "        degseq=[out_degree.get(k,0) for k in nodes]\n",
    "    else:\n",
    "        degseq=[v for k, v in G.degree()]\n",
    "    dmax=max(degseq)+1\n",
    "    freq= [ 0 for d in range(dmax) ]\n",
    "    for d in degseq:\n",
    "        freq[d] += 1\n",
    "    return freq"
   ]
  },
  {
   "cell_type": "code",
   "execution_count": 35,
   "id": "894a4e93",
   "metadata": {
    "scrolled": false
   },
   "outputs": [
    {
     "data": {
      "image/png": "[encoded data removed]",
      "text/plain": [
       "<Figure size 1080x720 with 4 Axes>"
      ]
     },
     "metadata": {
      "needs_background": "light"
     },
     "output_type": "display_data"
    }
   ],
   "source": [
    "in_degree_freq = degree_histogram_directed(G, in_degree=True)\n",
    "out_degree_freq = degree_histogram_directed(G, out_degree=True)\n",
    "degrees = range(len(in_degree_freq))\n",
    "fig, axes = plt.subplots(2, 2, figsize = (15,10),gridspec_kw={'hspace': 0.4, 'wspace': 0.2})\n",
    "fig.suptitle(\"In and out degree distribution of the Wikispeedia Network (Left: linear axes, Right: Log axes)\", fontsize=20)\n",
    "axes[0][0].plot(range(len(in_degree_freq)), in_degree_freq, 'go-', label='In-degree')\n",
    "axes[0][1].loglog(range(len(in_degree_freq)), in_degree_freq, 'go-', label='In-degree') \n",
    "axes[1][0].plot(range(len(out_degree_freq)), out_degree_freq, 'bo-', label='Out-degree')\n",
    "axes[1][1].loglog(range(len(out_degree_freq)), out_degree_freq, 'bo-', label='Out-degree')\n",
    "for x in range(0,axes.shape[0]):\n",
    "    for y in range(0,axes.shape[1]):\n",
    "        axes[x,y].set_xlabel('Degree', fontsize = 20)\n",
    "        axes[x,y].set_ylabel('Frequency', fontsize = 20)\n",
    "        axes[x,y].legend(fontsize=15)\n",
    "fig.subplots_adjust(top=0.94)\n",
    "plt.show()"
   ]
  },
  {
   "cell_type": "markdown",
   "id": "ed4cfaa0",
   "metadata": {},
   "source": [
    "**B1.2.1** Appropriate scale is log-log.   \n",
    "**B1.2.2** distribution follows powerlaw, linear in the log-log plot."
   ]
  },
  {
   "cell_type": "markdown",
   "id": "317514ed",
   "metadata": {},
   "source": [
    "#### B1.3 Connectedness of the Wikipedia link network\n",
    "\n",
    "**Definition-1:** An undirected graph $G$ is said to be connected if, for every pair of vertices $(u, v)$, it contains a path that connects the two vertices.\n",
    "\n",
    "**Definition-2:** A directed graph $G_{dir}$ is **weakly connected** (or simply connected) if the underlying undirected graph obtained by replacing all directed edges of the graph with undirected edges is a connected graph (cf. Definition-1). \n",
    "\n",
    "**Definition-3:** A directed graph $G_{dir}$ is **strongly connected** if, for every pair of vertices $(u, v)$, it contains a directed path from $u$ to $v$ and a directed path from $v$ to $u$.\n",
    "\n",
    "Given these definitions, what can you say about the connectedness of the Wikipedia link network? Specifically, answer the following:\n",
    "1. Is the Wikipedia link network weakly connected? If not, print the number of weakly connected components. Additionally, print the number of nodes and edges of the subgraph corresponding to the largest weakly connected component.\n",
    "2. Is the Wikipedia link network strongly connected? If not, print the number of strongly connected components. Additionally, print the number of nodes and edges of the subgraph corresponding to the largest strongly connected component."
   ]
  },
  {
   "cell_type": "code",
   "execution_count": 36,
   "id": "64586fbb",
   "metadata": {},
   "outputs": [
    {
     "name": "stdout",
     "output_type": "stream",
     "text": [
      "Weakly connected:  False\n",
      "There are 2 weakly connected components\n",
      "Strongly connected:  False\n",
      "There are 519 strongly connected components\n"
     ]
    }
   ],
   "source": [
    "'''your answer/code here''';\n",
    "print(\"Weakly connected: \", nx.is_weakly_connected(G))\n",
    "print(f\"There are {len(list(nx.weakly_connected_components(G)))} weakly connected components\")\n",
    "print(\"Strongly connected: \", nx.is_strongly_connected(G))\n",
    "print(f\"There are {len(list(nx.strongly_connected_components(G)))} strongly connected components\")"
   ]
  },
  {
   "cell_type": "code",
   "execution_count": 37,
   "id": "34b7eb3f",
   "metadata": {},
   "outputs": [
    {
     "name": "stdout",
     "output_type": "stream",
     "text": [
      "4589 119879 26.123120505556766\n"
     ]
    }
   ],
   "source": [
    "largest_cc = max(nx.weakly_connected_components(G), key=len)\n",
    "H = G.subgraph(list(largest_cc))\n",
    "print(len(H.nodes()), len(H.edges()), len(H.edges())/len(H.nodes()))"
   ]
  },
  {
   "cell_type": "code",
   "execution_count": 38,
   "id": "dcf327fa",
   "metadata": {},
   "outputs": [
    {
     "name": "stdout",
     "output_type": "stream",
     "text": [
      "4051 111900 27.6228091829178\n"
     ]
    }
   ],
   "source": [
    "largest_scc = max(nx.strongly_connected_components(G), key=len)\n",
    "H = G.subgraph(list(largest_scc))\n",
    "print(len(H.nodes()), len(H.edges()), len(H.edges())/len(H.nodes()))"
   ]
  },
  {
   "cell_type": "markdown",
   "id": "c0007036",
   "metadata": {},
   "source": [
    "### B2. The interplay between human navigation behavior and Wikipedia network structure\n",
    "\n",
    "#### B2.1 Loading and analyzing the game data (3 points)\n",
    "1. Load `data/paths_df_task-B.tsv.gz` as a pandas dataframe.\n",
    "2. Some games were successfully finished (*finished=True*) while others were unsuccessful (i.e., the player gave up before reaching the target article). However, not all unsuccessful games are infeasible; the player might simply not have been good enough at the game to reach the target from the source. **/Discuss:/** Clearly state the reasons why there may be games that are *truly infeasible*.   \n",
    "3. List all unsuccessful games that are *truly infeasible* and remove them from the dataframe."
   ]
  },
  {
   "cell_type": "markdown",
   "id": "109b70b4",
   "metadata": {},
   "source": [
    "**Answering B2.1.2**   \n",
    "It's impossible to reach a target for games where there is no path existent between the source and the target in the underlying graph, indicated by the shortest_path_length of -1"
   ]
  },
  {
   "cell_type": "code",
   "execution_count": 39,
   "id": "543faa21",
   "metadata": {},
   "outputs": [
    {
     "data": {
      "text/html": [
       "<div>\n",
       "<style scoped>\n",
       "    .dataframe tbody tr th:only-of-type {\n",
       "        vertical-align: middle;\n",
       "    }\n",
       "\n",
       "    .dataframe tbody tr th {\n",
       "        vertical-align: top;\n",
       "    }\n",
       "\n",
       "    .dataframe thead th {\n",
       "        text-align: right;\n",
       "    }\n",
       "</style>\n",
       "<table border=\"1\" class=\"dataframe\">\n",
       "  <thead>\n",
       "    <tr style=\"text-align: right;\">\n",
       "      <th></th>\n",
       "      <th>hashed_ip_address</th>\n",
       "      <th>source</th>\n",
       "      <th>target</th>\n",
       "      <th>finished</th>\n",
       "      <th>human_path_length</th>\n",
       "      <th>shortest_path_length</th>\n",
       "      <th>duration_in_sec</th>\n",
       "    </tr>\n",
       "  </thead>\n",
       "  <tbody>\n",
       "    <tr>\n",
       "      <th>53533</th>\n",
       "      <td>4c03b8fb18fc9752</td>\n",
       "      <td>Oasis_%28band%29</td>\n",
       "      <td>Final_Fantasy_%28video_game%29</td>\n",
       "      <td>False</td>\n",
       "      <td>1</td>\n",
       "      <td>-1</td>\n",
       "      <td>13</td>\n",
       "    </tr>\n",
       "    <tr>\n",
       "      <th>56880</th>\n",
       "      <td>3af13b307343dec9</td>\n",
       "      <td>Adolf_Hitler</td>\n",
       "      <td>The_Frogs</td>\n",
       "      <td>False</td>\n",
       "      <td>6</td>\n",
       "      <td>-1</td>\n",
       "      <td>1874</td>\n",
       "    </tr>\n",
       "    <tr>\n",
       "      <th>63647</th>\n",
       "      <td>093e40d06992b8dc</td>\n",
       "      <td>Anne_Frank</td>\n",
       "      <td>Final_Fantasy_%28video_game%29</td>\n",
       "      <td>False</td>\n",
       "      <td>21</td>\n",
       "      <td>-1</td>\n",
       "      <td>519</td>\n",
       "    </tr>\n",
       "    <tr>\n",
       "      <th>63648</th>\n",
       "      <td>093e42416992ba4d</td>\n",
       "      <td>Anne_Frank</td>\n",
       "      <td>Final_Fantasy_%28video_game%29</td>\n",
       "      <td>False</td>\n",
       "      <td>21</td>\n",
       "      <td>-1</td>\n",
       "      <td>542</td>\n",
       "    </tr>\n",
       "    <tr>\n",
       "      <th>64511</th>\n",
       "      <td>17ef27577d43939d</td>\n",
       "      <td>Toy</td>\n",
       "      <td>Lego</td>\n",
       "      <td>False</td>\n",
       "      <td>1</td>\n",
       "      <td>-1</td>\n",
       "      <td>1807</td>\n",
       "    </tr>\n",
       "    <tr>\n",
       "      <th>66654</th>\n",
       "      <td>5e55877267bd6864</td>\n",
       "      <td>Hymenoptera</td>\n",
       "      <td>Portuguese_Communist_Party</td>\n",
       "      <td>False</td>\n",
       "      <td>8</td>\n",
       "      <td>-1</td>\n",
       "      <td>264</td>\n",
       "    </tr>\n",
       "    <tr>\n",
       "      <th>71566</th>\n",
       "      <td>3d9b105c56bcf38a</td>\n",
       "      <td>Private_Peaceful</td>\n",
       "      <td>Unix</td>\n",
       "      <td>False</td>\n",
       "      <td>1</td>\n",
       "      <td>-1</td>\n",
       "      <td>1804</td>\n",
       "    </tr>\n",
       "    <tr>\n",
       "      <th>75567</th>\n",
       "      <td>360d256e3fd2a746</td>\n",
       "      <td>Quantum_mechanics</td>\n",
       "      <td>Blue_Tit</td>\n",
       "      <td>False</td>\n",
       "      <td>15</td>\n",
       "      <td>-1</td>\n",
       "      <td>2464</td>\n",
       "    </tr>\n",
       "  </tbody>\n",
       "</table>\n",
       "</div>"
      ],
      "text/plain": [
       "      hashed_ip_address             source                          target  \\\n",
       "53533  4c03b8fb18fc9752   Oasis_%28band%29  Final_Fantasy_%28video_game%29   \n",
       "56880  3af13b307343dec9       Adolf_Hitler                       The_Frogs   \n",
       "63647  093e40d06992b8dc         Anne_Frank  Final_Fantasy_%28video_game%29   \n",
       "63648  093e42416992ba4d         Anne_Frank  Final_Fantasy_%28video_game%29   \n",
       "64511  17ef27577d43939d                Toy                            Lego   \n",
       "66654  5e55877267bd6864        Hymenoptera      Portuguese_Communist_Party   \n",
       "71566  3d9b105c56bcf38a   Private_Peaceful                            Unix   \n",
       "75567  360d256e3fd2a746  Quantum_mechanics                        Blue_Tit   \n",
       "\n",
       "       finished  human_path_length  shortest_path_length  duration_in_sec  \n",
       "53533     False                  1                    -1               13  \n",
       "56880     False                  6                    -1             1874  \n",
       "63647     False                 21                    -1              519  \n",
       "63648     False                 21                    -1              542  \n",
       "64511     False                  1                    -1             1807  \n",
       "66654     False                  8                    -1              264  \n",
       "71566     False                  1                    -1             1804  \n",
       "75567     False                 15                    -1             2464  "
      ]
     },
     "execution_count": 39,
     "metadata": {},
     "output_type": "execute_result"
    }
   ],
   "source": [
    "'''your answer/code here''';\n",
    "paths = pd.read_csv('data/paths_df_task-B.tsv.gz', sep=\"\\t\", compression='gzip')\n",
    "paths[paths['shortest_path_length'] == -1]"
   ]
  },
  {
   "cell_type": "code",
   "execution_count": 40,
   "id": "08928a7a",
   "metadata": {},
   "outputs": [],
   "source": [
    "paths = paths.loc[paths['shortest_path_length'] != -1]"
   ]
  },
  {
   "cell_type": "markdown",
   "id": "27f040fd",
   "metadata": {},
   "source": [
    "#### B2.2 Wikispeedia => Wikislowia?\n",
    "1. Compute and report the average and median path lengths for games that were successfully finished (*finished=True*). You should compute and report path length in two ways: (1) with respect to the number of clicks needed by *human players*, (2) with respect to the *minimum* number clicks an *optimal player* would need.   \n",
    "   **/Discuss:/** What can you say about the navigability of the Wikipedia link network?   \n",
    "   *Hint: Think about [Milgram's experiment](https://docs.google.com/presentation/d/1h6cIINJ9cNZ-Rtb7SskXrl9Xet5zPUoX2oJlNM0loHQ/edit#slide=id.g464f30ace1_0_261) and relate your findings with his findings!*\n",
    "2. **/Discuss:/** Suppose you want to maliciously decrease Wikipedia's navigability. You are allowed to remove certain edges in the network. What criterion would you use to decide which edges should be removed? Additionally, discuss why these edges are critical for Wikipedia's navigability. Justify your answer with clear and substantive reasoning!   \n",
    "   _Hint: Navigability of a network depends on the existence of short paths in the network._\n",
    "3. **/Discuss:/** In continuation to B2.2.2, assume you are given a budget of $k<<n$ edges to be removed. Design the algorithm that you would employ, provide its pseudocode (as a list of steps), and justify your algorithm design choice.   \n",
    "   *Note: You don't have to describe the steps for computing the criterion you identified in Step B.2.2. Instead, using the identified criterion as a blackbox, you have to provide the steps required to remove $k>1$ edges.*"
   ]
  },
  {
   "cell_type": "code",
   "execution_count": 41,
   "id": "e96f98bb",
   "metadata": {},
   "outputs": [
    {
     "data": {
      "text/html": [
       "<div>\n",
       "<style scoped>\n",
       "    .dataframe tbody tr th:only-of-type {\n",
       "        vertical-align: middle;\n",
       "    }\n",
       "\n",
       "    .dataframe tbody tr th {\n",
       "        vertical-align: top;\n",
       "    }\n",
       "\n",
       "    .dataframe thead th {\n",
       "        text-align: right;\n",
       "    }\n",
       "</style>\n",
       "<table border=\"1\" class=\"dataframe\">\n",
       "  <thead>\n",
       "    <tr style=\"text-align: right;\">\n",
       "      <th></th>\n",
       "      <th>human_path_length</th>\n",
       "      <th>shortest_path_length</th>\n",
       "      <th>duration_in_sec</th>\n",
       "    </tr>\n",
       "  </thead>\n",
       "  <tbody>\n",
       "    <tr>\n",
       "      <th>count</th>\n",
       "      <td>51314.000000</td>\n",
       "      <td>51314.000000</td>\n",
       "      <td>51314.000000</td>\n",
       "    </tr>\n",
       "    <tr>\n",
       "      <th>mean</th>\n",
       "      <td>6.757493</td>\n",
       "      <td>2.845500</td>\n",
       "      <td>158.281814</td>\n",
       "    </tr>\n",
       "    <tr>\n",
       "      <th>std</th>\n",
       "      <td>4.680779</td>\n",
       "      <td>0.700748</td>\n",
       "      <td>360.855130</td>\n",
       "    </tr>\n",
       "    <tr>\n",
       "      <th>min</th>\n",
       "      <td>1.000000</td>\n",
       "      <td>0.000000</td>\n",
       "      <td>0.000000</td>\n",
       "    </tr>\n",
       "    <tr>\n",
       "      <th>25%</th>\n",
       "      <td>5.000000</td>\n",
       "      <td>2.000000</td>\n",
       "      <td>60.000000</td>\n",
       "    </tr>\n",
       "    <tr>\n",
       "      <th>50%</th>\n",
       "      <td>6.000000</td>\n",
       "      <td>3.000000</td>\n",
       "      <td>107.000000</td>\n",
       "    </tr>\n",
       "    <tr>\n",
       "      <th>75%</th>\n",
       "      <td>8.000000</td>\n",
       "      <td>3.000000</td>\n",
       "      <td>183.000000</td>\n",
       "    </tr>\n",
       "    <tr>\n",
       "      <th>max</th>\n",
       "      <td>435.000000</td>\n",
       "      <td>6.000000</td>\n",
       "      <td>35091.000000</td>\n",
       "    </tr>\n",
       "  </tbody>\n",
       "</table>\n",
       "</div>"
      ],
      "text/plain": [
       "       human_path_length  shortest_path_length  duration_in_sec\n",
       "count       51314.000000          51314.000000     51314.000000\n",
       "mean            6.757493              2.845500       158.281814\n",
       "std             4.680779              0.700748       360.855130\n",
       "min             1.000000              0.000000         0.000000\n",
       "25%             5.000000              2.000000        60.000000\n",
       "50%             6.000000              3.000000       107.000000\n",
       "75%             8.000000              3.000000       183.000000\n",
       "max           435.000000              6.000000     35091.000000"
      ]
     },
     "execution_count": 41,
     "metadata": {},
     "output_type": "execute_result"
    }
   ],
   "source": [
    "'''your answer/code here''';\n",
    "paths[paths['finished']].describe()"
   ]
  },
  {
   "cell_type": "markdown",
   "id": "4088e555",
   "metadata": {},
   "source": [
    "**Answering B2.2**\n",
    "1. The average and median path length based on human navigation in the completed games is 6.75 and 6, respectively. Similar to the 6-degrees of separation results in Milgram's experiment! Also, avg and median shortest path lengths are 2.85 and 3, respectively, which shows that short paths do exist in the network, and the former result shows that they are discoverable by humans without knowledge of the overall network structure.\n",
    "2. Find the edge with the highest edge betweenness centrality value. Removing such an edge would impact a lot of shortest paths, as the highest fraction of shortest paths pass through this edge.\n",
    "3. Pseudocode: (Iterative greedy)\n",
    "   Step-1: Find the edge with the highest betweenness centrality value.\n",
    "   Step-2: Remove the edge.\n",
    "   Step-3: Repeat Steps 1 and 2, until k edges have been removed.\n",
    "   Note: Removing k-edges based on their betweenness centrality in one-go is not the best way to proceed, iterative greedy is better!"
   ]
  },
  {
   "cell_type": "markdown",
   "id": "76d84d3f",
   "metadata": {},
   "source": [
    "#### B2.3 Relationship between network structure and game completion\n",
    "1. Enrich the dataframe with the in-degree and eigenvector centrality of the target article for each game path.\n",
    "2. Using plots of appropriate type, plot the in-degree distribution of the target articles of game paths. What is the appropriate scale of the axes? Additionally, summarize the in-degree distribution of the target articles in a single number using a suitable metric. Justify your choice of the metric.\n",
    "3. Using plots of appropriate type, analyze the differences in in-degree and eigenvector centrality of finished and unfinished games.   \n",
    "   **/Discuss:/** What do you observe? Clearly discuss your observations!"
   ]
  },
  {
   "cell_type": "code",
   "execution_count": 42,
   "id": "1fc1f598",
   "metadata": {},
   "outputs": [
    {
     "name": "stdout",
     "output_type": "stream",
     "text": [
      "2.0086400508880615\n"
     ]
    }
   ],
   "source": [
    "'''your answer/code here''';\n",
    "tstart = time.time()\n",
    "eigenvector_centrality = pd.Series(dict(nx.algorithms.eigenvector_centrality(G)))\n",
    "in_degree = pd.Series(dict(G.in_degree()))\n",
    "df_cent = pd.DataFrame([eigenvector_centrality, in_degree]).T.rename({0: \"eigenvector_centrality\",\n",
    "                                                                      1: \"in_degree\"}, axis=1)\n",
    "\n",
    "paths[\"eigenvector_centrality_target\"] = \\\n",
    "    paths.target.apply(lambda x: df_cent[\"eigenvector_centrality\"][x] \n",
    "                      if x in df_cent[\"eigenvector_centrality\"] else None)\n",
    "\n",
    "paths[\"in_degree_target\"] = \\\n",
    "    paths.target.apply(lambda x: df_cent[\"in_degree\"][x] \n",
    "                      if x in df_cent[\"in_degree\"] else None)\n",
    "\n",
    "paths = paths.loc[~paths.in_degree_target.isna()]\n",
    "tend = time.time()\n",
    "print(tend - tstart)"
   ]
  },
  {
   "cell_type": "markdown",
   "id": "b263c241",
   "metadata": {},
   "source": [
    "#### B2.3.2: Please note axes labels and titles should be added in the plots presented by the students. Also, we just truncated to max degree of 100 for ease of exposition, such thing is not expected from the students, and if done, should lead to reduction of the points. Also, plots similar to what I made in B1.2 are acceptable (in fact better), and even bar-charts are accepted."
   ]
  },
  {
   "cell_type": "code",
   "execution_count": 43,
   "id": "65babeac",
   "metadata": {},
   "outputs": [
    {
     "data": {
      "text/plain": [
       "(array([21645., 15117.,  7632.,  4869.,  6033.,  3211.,  2607.,  3660.,\n",
       "         1546.,  1014.]),\n",
       " array([  0.,  10.,  20.,  30.,  40.,  50.,  60.,  70.,  80.,  90., 100.]),\n",
       " <BarContainer object of 10 artists>)"
      ]
     },
     "execution_count": 43,
     "metadata": {},
     "output_type": "execute_result"
    },
    {
     "data": {
      "image/png": "[encoded data removed]",
      "text/plain": [
       "<Figure size 432x288 with 1 Axes>"
      ]
     },
     "metadata": {
      "needs_background": "light"
     },
     "output_type": "display_data"
    }
   ],
   "source": [
    "plt.hist(paths[\"in_degree_target\"], range = [0,100])"
   ]
  },
  {
   "cell_type": "code",
   "execution_count": 44,
   "id": "065fcf3e",
   "metadata": {},
   "outputs": [
    {
     "name": "stdout",
     "output_type": "stream",
     "text": [
      "49.35447060522895 20.0\n"
     ]
    }
   ],
   "source": [
    "print(paths[\"in_degree_target\"].mean(), paths[\"in_degree_target\"].median())"
   ]
  },
  {
   "cell_type": "markdown",
   "id": "fcc1544c",
   "metadata": {},
   "source": [
    "#### B2.3.3: Even in this scenario bar-charts are acceptable. More fundamentally, any plot that portrays the differences b/w finished and unfinished games for the said metrics (in-degree and eigenvector centrality) is acceptable!"
   ]
  },
  {
   "cell_type": "code",
   "execution_count": 45,
   "id": "d51bf677",
   "metadata": {},
   "outputs": [
    {
     "data": {
      "text/plain": [
       "<AxesSubplot:xlabel='finished', ylabel='in_degree_target'>"
      ]
     },
     "execution_count": 45,
     "metadata": {},
     "output_type": "execute_result"
    },
    {
     "data": {
      "image/png": "[encoded data removed]",
      "text/plain": [
       "<Figure size 1080x360 with 2 Axes>"
      ]
     },
     "metadata": {
      "needs_background": "light"
     },
     "output_type": "display_data"
    }
   ],
   "source": [
    "import seaborn as sns\n",
    "fig, axs = plt.subplots(1,2, figsize=(15, 5))\n",
    "sns.pointplot(x=\"finished\", y=\"eigenvector_centrality_target\", data=paths, ax=axs[0])\n",
    "sns.pointplot(x=\"finished\", y=\"in_degree_target\", data=paths, ax=axs[1])"
   ]
  },
  {
   "cell_type": "markdown",
   "id": "b4b3e712",
   "metadata": {},
   "source": [
    "**Answering B2.3.3:**   \n",
    "The average eigenvector centrality and in-degree of the end nodes is higher for games that were successfully finished when compared to those that weren't. This is an important signal, as it indicates that nodes with higher in-degree (resp. eigenvector centrality) are easier and better targets for human navigation (could result in shorter paths and faster game completion), which is quite intuitive.\n",
    "It also hints towards the possibility of finding a causal effect, however, further exploration is needed to substantitate that assumption!"
   ]
  },
  {
   "cell_type": "markdown",
   "id": "92d6109f",
   "metadata": {},
   "source": [
    "## Task C. Putting on the causality hat"
   ]
  },
  {
   "cell_type": "markdown",
   "id": "2ac9d483",
   "metadata": {},
   "source": [
    "### C1. Are articles with high in-degree easier to find? A naive analysis\n",
    "\n",
    "Recall that in each Wikispeedia game, a player is **randomly** assigned a source article and a target article. In task **C**, we are interested in measuring the effect of the target article's in-degree on the player's chances of successfully finishing the game.\n",
    "\n",
    "1. Load `data/paths_df_task-C.tsv.gz` as a pandas dataframe.\n",
    "2. Consider target articles with fewer than 20 incoming links to have a *low in-degree* and articles with at least 20 to have a *high in-degree*.\n",
    "3. Calculate the fraction of games with a high-in-degree target that was finished, and the fraction of games with a low-in-degree target that was finished. Do you observe significant differences, and in what direction? (You may do a statistical test or provide confidence intervals.)\n",
    "4. Repeat the same analysis for the game duration, for finished games only.\n",
    "5. Quantify and discuss your findings from Steps C1.3 and C1.4."
   ]
  },
  {
   "cell_type": "code",
   "execution_count": 46,
   "id": "07622833",
   "metadata": {},
   "outputs": [
    {
     "name": "stdout",
     "output_type": "stream",
     "text": [
      "0.777918813942271\n",
      "0.5618646371296548\n",
      "0.21605417681261618\n",
      "130.42851548477628\n",
      "199.57196071791398\n",
      "-69.1434452331377\n"
     ]
    }
   ],
   "source": [
    "'''your answer/code here''';\n",
    "paths = pd.read_csv('data/paths_df_task-C.tsv.gz', sep=\"\\t\", compression='gzip')\n",
    "paths[\"in_degree_binary_target\"] = paths[\"in_degree_target\"] >= 20\n",
    "\n",
    "pfinish_high = (sum(paths.loc[paths[\"in_degree_binary_target\"]].finished)/len(paths.loc[paths[\"in_degree_binary_target\"]]))\n",
    "pfinish_low = (sum(paths.loc[~paths[\"in_degree_binary_target\"]].finished)/len(paths.loc[~paths[\"in_degree_binary_target\"]]))\n",
    "\n",
    "print(pfinish_high)\n",
    "print(pfinish_low)\n",
    "print(pfinish_high - pfinish_low)\n",
    "\n",
    "time_high = paths.loc[(paths[\"in_degree_binary_target\"])&paths['finished']].duration_in_sec.mean()\n",
    "time_low = paths.loc[(~paths[\"in_degree_binary_target\"])&paths['finished']].duration_in_sec.mean()\n",
    "\n",
    "print(time_high)\n",
    "print(time_low)\n",
    "print(time_high - time_low)"
   ]
  },
  {
   "cell_type": "markdown",
   "id": "7643e4fa",
   "metadata": {},
   "source": [
    "#### C1: Note that a statistical significance test (any meaningful test or bootstrapped CIs) is expected from students"
   ]
  },
  {
   "cell_type": "markdown",
   "id": "091d6b8c",
   "metadata": {},
   "source": [
    "**Answering C1:**   \n",
    "Games with high in-degree targets are 21.61% more *likely to be finished*, and last 69.14 *seconds shorter* if finished."
   ]
  },
  {
   "cell_type": "markdown",
   "id": "9b117532",
   "metadata": {},
   "source": [
    "### C2. Modeling the study setup with a causal diagram\n",
    "\n",
    "**C2.1** We are interested in the effect of target in-degree (**deg(T)**) on the binary outcome (**O**) that captures whether the game was successfully finished or not. In the previously conducted naive analysis, we did not take into account the shortest path length (**L**), which is the minimum number of clicks necessary in order to reach the target article from the source article (**S**). Target and source articles are randomly assigned, independently from each other. The assigned source article S and deg(T) affect the shortest path length L. The source article affects the outcome through the shortest path length, and also directly, as some sources might be more central in the network. Choose a causal diagram **(A, B, C, D, E, or F)** that corresponds to the described relationships between the 4 variables:\n",
    "- **deg(T):** target in-degree,\n",
    "- **L:** shortest path length between source and target,\n",
    "- **S:** name of source article,\n",
    "- **O:** outcome, i.e., the binary indicator that says whether the game was successfully finished."
   ]
  },
  {
   "cell_type": "code",
   "execution_count": 47,
   "id": "304429b8",
   "metadata": {
    "scrolled": false
   },
   "outputs": [
    {
     "data": {
      "image/png": "[encoded data removed]",
      "text/plain": [
       "<IPython.core.display.Image object>"
      ]
     },
     "execution_count": 47,
     "metadata": {},
     "output_type": "execute_result"
    }
   ],
   "source": [
    "Image(filename=\"img/diagram.png\") "
   ]
  },
  {
   "cell_type": "markdown",
   "id": "92d8c20c",
   "metadata": {
    "collapsed": true
   },
   "source": [
    "**Answering C2.1** The correct causal diagram is presented in choice **B**.   \n",
    "\n",
    "We can elimate C, E, F as there is a effect from T to S, which is not mentioned in the description.   \n",
    "We can elimate D as there is a effect from L to S whereas the inverse is True.   \n",
    "We can eliminate A as there is a effect from O to L, where as the inverse is True."
   ]
  },
  {
   "cell_type": "markdown",
   "id": "085887ae",
   "metadata": {},
   "source": [
    "**C2.2** **/Discuss:/** What is potentially misleading about the naive analysis done in task **C1**? In what conceivable ways could the conclusions about the impact of target in-degree **deg(T)** on the outcome **O** be wrong?\n",
    "Could the findings go in the opposite direction of a true direct causal effect? Justify your answer."
   ]
  },
  {
   "cell_type": "markdown",
   "id": "7a6874a9",
   "metadata": {
    "collapsed": true
   },
   "source": [
    "**Answering C2.2** In C1, we are not measuring the direct effect, but the total effect, including the effect mediated through the shortest path length. Possible answers: <br>\n",
    "a) C1 is a very naive analysis, could come up with any confounder that could reverse the effect. <br>\n",
    "b) Depending on on the strength and the sign of the mediated impact, since we are measuring the total impact, we could see different results compared to the true direct causal effect."
   ]
  },
  {
   "cell_type": "markdown",
   "id": "7da2eba1",
   "metadata": {},
   "source": [
    "### C3. A more controlled analysis: matching on source article and shortest path length\n",
    "\n",
    "Let's now understand how the estimated effect of the target in-degree would differ if we controlled for both the source article and the shortest path length between source and target. Construct a set of matched pairs of games. In a matched pair, the two games differ in target in-degree (one has a high in-degree, and the other has a low in-degree), but the source article and the shortest path length are exactly the same.\n",
    "\n",
    "1. Perform exact matching on source article and shortest path length. This means that two candidate games can be matched only if the source article and the shortest path length are exactly the same.   \n",
    "   **Important heads-up**: *Depending on the configuration of your computer, computing the exact matching could take up to 3 minutes of compute time.*\n",
    "2. Among the matched pairs of games, calculate the fraction of games with a high-in-degree target that was successfully finished, and the fraction of games with a low-in-degree target that was successfully finished. Do you observe significant differences, and in what direction? (You may do a statistical test or provide confidence intervals.)\n",
    "3. **/Discuss:/** What do you observe? Are the conclusions different from the conclusions reached in C1? If yes, speculate as to why that is the case. How is the estimation in task C1 different from the estimation in task C3?\n",
    "4. **/Discuss:/** Based on your findings, how should Wikipedia be modified in order to increase the fraction of finished Wikispeedia games?\n",
    "\n",
    "*Hint: How you construct the set of matched pairs is up to you. One way can be to build an unweighted bipartite graph where games with targets with a high in-degree are on one side (the \"treated class\"), and games with targets with a low in-degree are on the other side (the \"control class\"). The edge between two matching candidate games is created only if there is an exact match on the source article and the shortest path length. Based on this bipartite graph, you can then find the optimal matching. However, note that this is neither the required nor the only way.*"
   ]
  },
  {
   "cell_type": "code",
   "execution_count": 48,
   "id": "03bfb13d",
   "metadata": {},
   "outputs": [
    {
     "name": "stdout",
     "output_type": "stream",
     "text": [
      "0.0800384184408516\n",
      "0.1600768368817032\n",
      "0.24011525532255482\n",
      "0.3201536737634064\n",
      "0.40019209220425805\n",
      "0.48023051064510963\n",
      "0.5602689290859613\n",
      "0.6403073475268128\n",
      "0.7203457659676645\n",
      "0.8003841844085161\n",
      "0.8804226028493677\n",
      "0.9604610212902193\n",
      "Time taken:  146.39946699142456\n"
     ]
    }
   ],
   "source": [
    "'''your answer/code here''';\n",
    "G_obs = nx.Graph()\n",
    "\n",
    "vs = set(list(zip(paths.source.values, paths.shortest_path_length.values)))\n",
    "match_set = set()\n",
    "\n",
    "max_counter = len(vs)\n",
    "\n",
    "counter = 0\n",
    "\n",
    "tstart = time.time()\n",
    "for source, min_dist in vs:\n",
    "    counter += 1\n",
    "    if counter % 1000 == 0:\n",
    "        print(counter/max_counter)\n",
    "\n",
    "    high_indegree = paths[(paths.in_degree_binary_target == True) & \n",
    "                     (paths.source == source) &\n",
    "                     (paths.shortest_path_length == min_dist)]\n",
    "\n",
    "    low_indegree = paths[(paths.in_degree_binary_target == False) & \n",
    "                       (paths.source == source) &\n",
    "                       (paths.shortest_path_length == min_dist)]\n",
    "    \n",
    "    tmp_edges = []\n",
    "    \n",
    "    for i, f in zip(high_indegree.index, high_indegree.target):\n",
    "        for j, u in zip(low_indegree.index, low_indegree.target):\n",
    "            if f != u:\n",
    "                G_obs.add_edge(i, j)\n",
    "                match_set.add((i,j))\n",
    "tend = time.time()\n",
    "print(\"Time taken: \", tend-tstart)"
   ]
  },
  {
   "cell_type": "code",
   "execution_count": 49,
   "id": "1dc71cb2",
   "metadata": {},
   "outputs": [],
   "source": [
    "matching = nx.maximal_matching(G_obs)"
   ]
  },
  {
   "cell_type": "code",
   "execution_count": 50,
   "id": "b663e25a",
   "metadata": {},
   "outputs": [],
   "source": [
    "high_games_match_cands = {}; low_games_match_cands = {}\n",
    "for (u,v) in match_set:\n",
    "    if u not in high_games_match_cands:\n",
    "        high_games_match_cands[u] = [v]\n",
    "    else:\n",
    "        high_games_match_cands[u].append(v)\n",
    "    if v not in low_games_match_cands:\n",
    "        low_games_match_cands[v] = [u]\n",
    "    else:\n",
    "        low_games_match_cands[v].append(u)"
   ]
  },
  {
   "cell_type": "code",
   "execution_count": 51,
   "id": "77a09ee0",
   "metadata": {
    "scrolled": true
   },
   "outputs": [
    {
     "name": "stdout",
     "output_type": "stream",
     "text": [
      "29541 23047\n"
     ]
    }
   ],
   "source": [
    "print(len(high_games_match_cands), len(low_games_match_cands))"
   ]
  },
  {
   "cell_type": "code",
   "execution_count": 52,
   "id": "a283d9bf",
   "metadata": {},
   "outputs": [],
   "source": [
    "set_low_games_match_cands = set(low_games_match_cands.keys())\n",
    "set_high_games_match_cands = set(high_games_match_cands.keys())"
   ]
  },
  {
   "cell_type": "code",
   "execution_count": 53,
   "id": "4bd4e92f",
   "metadata": {},
   "outputs": [
    {
     "name": "stdout",
     "output_type": "stream",
     "text": [
      "#Matched pairs: 12710\n"
     ]
    }
   ],
   "source": [
    "print(f'#Matched pairs: {len(matching)}')"
   ]
  },
  {
   "cell_type": "markdown",
   "id": "59ffdbb9",
   "metadata": {},
   "source": [
    "#### C3.2: Note that a statistical significance test (any meaningful test or bootstrapped CIs) is expected from students"
   ]
  },
  {
   "cell_type": "code",
   "execution_count": 54,
   "id": "07c32f81",
   "metadata": {},
   "outputs": [
    {
     "name": "stdout",
     "output_type": "stream",
     "text": [
      "0.14736428009441385 0.004790513286305409\n"
     ]
    }
   ],
   "source": [
    "ntreated = paths.loc[np.array([v[0] if ~paths.loc[v[0], \"in_degree_binary_target\"] else v[1] for v in matching])]\n",
    "treated = paths.loc[np.array([v[0] if paths.loc[v[0], \"in_degree_binary_target\"] else v[1] for v in matching])]\n",
    "ate = treated.finished.values.astype(int) - ntreated.finished.values.astype(int)\n",
    "print(np.mean(ate),  stats.sem(ate))"
   ]
  },
  {
   "cell_type": "markdown",
   "id": "216ad9cc",
   "metadata": {},
   "source": [
    "**Answering C3:**\n",
    "\n",
    "1. **C3.2:** After matching on source page and shortest path, games with high in-degree source are 14.74% more likely to be finished\n",
    "2. **C3.3:** These differences are smaller compared to how they were before matching, meaning that a lot of the difference can be explained with the mediation through source and the shortest path. However, the direct effect of target in-degree is still significant.\n",
    "3. **C3.4 (Recommendation):** Modify articles to have more high quality incoming links into them, thereby rendering them as better targets."
   ]
  },
  {
   "cell_type": "code",
   "execution_count": null,
   "id": "4c8df115",
   "metadata": {},
   "outputs": [],
   "source": []
  },
  {
   "cell_type": "markdown",
   "id": "b96c74e3",
   "metadata": {},
   "source": [
    "# ADA final exam (winter semester 2019/2020)"
   ]
  },
  {
   "cell_type": "markdown",
   "id": "bb14c646",
   "metadata": {},
   "source": [
    "A friend of yours wants to start a YouTube channel and ideally earn some money via ads. However, there are so many channels and videos out there that your friend has no idea where to even start. Fortunately, they know that you have taken ADA and think you might help them out by analyzing the videos that are currently on YouTube."
   ]
  },
  {
   "cell_type": "markdown",
   "id": "cc245b24",
   "metadata": {},
   "source": [
    "The data you are provided with is a subset of YouTube videos, with videos from some of the giant channels in two categories: \"Gaming\" and \"How-to & Style\", which are the categories your friend is choosing between. The dataset contains a lot of videos, with data on those videos including their titles, their total number of views in 2019, their tags and descriptions, etc. The data is, in gzip-compressed format, contained in the `data/` folder, as the file `youtube.csv.gz`."
   ]
  },
  {
   "cell_type": "markdown",
   "id": "02144079",
   "metadata": {},
   "source": [
    "The three tasks A, B and C are **independent** of each other, and you can solve any combination of them. The exam is designed for more than 3 hours, so don't worry if you don't manage to solve everything; you can still score a 6."
   ]
  },
  {
   "cell_type": "markdown",
   "id": "8d4957ea",
   "metadata": {},
   "source": [
    "You need to run the following two cells to read and prepare the dataset."
   ]
  },
  {
   "cell_type": "code",
   "execution_count": 1,
   "id": "71697043",
   "metadata": {},
   "outputs": [],
   "source": [
    "import pandas as pd\n",
    "import numpy as np"
   ]
  },
  {
   "cell_type": "code",
   "execution_count": 2,
   "id": "1e45e661",
   "metadata": {},
   "outputs": [],
   "source": [
    "youtube = pd.read_csv('data/youtube.csv.gz', compression='gzip')\n",
    "youtube.upload_date = pd.to_datetime(youtube.upload_date)"
   ]
  },
  {
   "cell_type": "markdown",
   "id": "e123a56d",
   "metadata": {},
   "source": [
    "## Dataset description"
   ]
  },
  {
   "cell_type": "markdown",
   "id": "3cb7e6c3",
   "metadata": {},
   "source": [
    "Each row of the dataset corresponds to one video that was uploaded to YouTube. There are 11 columns:\n",
    "'channel', 'upload_date', 'title', 'categories', 'tags', 'duration',\n",
    "       'view_count', 'average_rating', 'height', 'width', 'channel_cat'.\n",
    "- `channel`: The channel (account) on which the video was uploaded.\n",
    "- `upload_date`: The date on which the video was uploaded (Pandas Timestamp object).\n",
    "- `title`: The title of the video.\n",
    "- `tags`: A list of words that describe the video.\n",
    "- `duration`: The duration of the video in seconds.\n",
    "- `view_count`: The number of times the video was watched.\n",
    "- `average_rating`: The average score with which the viewers rated the video (1-5).\n",
    "- `height`: The height of the video in pixels.\n",
    "- `width`: The width of the video in pixels.\n",
    "- `channel_cat`: The category of the channel on which this video was uploaded. This dataset only contains videos from channels from the 'Gaming' and the 'Howto & Style' category."
   ]
  },
  {
   "cell_type": "code",
   "execution_count": 3,
   "id": "484b170b",
   "metadata": {},
   "outputs": [],
   "source": [
    "%matplotlib inline\n",
    "import pandas as pd\n",
    "import numpy as np\n",
    "from sklearn import preprocessing\n",
    "from sklearn.model_selection import train_test_split, cross_val_score, GridSearchCV\n",
    "from sklearn.linear_model import Ridge, LinearRegression, LogisticRegressionCV\n",
    "from sklearn.metrics import mean_squared_error, mean_absolute_error\n",
    "import matplotlib.pyplot as plt"
   ]
  },
  {
   "cell_type": "markdown",
   "id": "4a09bd86",
   "metadata": {},
   "source": [
    "## Task A: Welcome to the exam!"
   ]
  },
  {
   "cell_type": "markdown",
   "id": "da786bb8",
   "metadata": {},
   "source": [
    "All of Task A refers to the video that were published between and including 2010 and 2018."
   ]
  },
  {
   "cell_type": "markdown",
   "id": "54217b8f",
   "metadata": {},
   "source": [
    "### A1: A growing platform?"
   ]
  },
  {
   "cell_type": "markdown",
   "id": "5a5e5a78",
   "metadata": {},
   "source": [
    "You would first like to know whether YouTube in general is the right platform to invest time into."
   ]
  },
  {
   "cell_type": "markdown",
   "id": "7918e379",
   "metadata": {},
   "source": [
    "1. Using the appropriate plot type, plot the number of videos published per year between and including 2010 and 2018."
   ]
  },
  {
   "cell_type": "markdown",
   "id": "0b5a2b2f",
   "metadata": {},
   "source": [
    "2. Now for each year, plot the number of channels that have been created between the beginning of 2010 and the end of that year. A channel is considered to be created at the time at which they upload their first video."
   ]
  },
  {
   "cell_type": "markdown",
   "id": "03977634",
   "metadata": {},
   "source": [
    "3. Normalize the number of videos published each year by the number of channels that have been created between the beginning of 2010 and the end of that year, and plot these quantities. Do seperate plots for gaming channels, how-to channels, and both together. Can you conclude from the plot that both gaming and how-to channels have been becoming less and less active recently? Why, or why not?"
   ]
  },
  {
   "cell_type": "code",
   "execution_count": 4,
   "id": "4bcd029b",
   "metadata": {},
   "outputs": [
    {
     "data": {
      "text/html": [
       "<div>\n",
       "<style scoped>\n",
       "    .dataframe tbody tr th:only-of-type {\n",
       "        vertical-align: middle;\n",
       "    }\n",
       "\n",
       "    .dataframe tbody tr th {\n",
       "        vertical-align: top;\n",
       "    }\n",
       "\n",
       "    .dataframe thead th {\n",
       "        text-align: right;\n",
       "    }\n",
       "</style>\n",
       "<table border=\"1\" class=\"dataframe\">\n",
       "  <thead>\n",
       "    <tr style=\"text-align: right;\">\n",
       "      <th></th>\n",
       "      <th>channel</th>\n",
       "      <th>upload_date</th>\n",
       "      <th>title</th>\n",
       "      <th>tags</th>\n",
       "      <th>duration</th>\n",
       "      <th>view_count</th>\n",
       "      <th>average_rating</th>\n",
       "      <th>height</th>\n",
       "      <th>width</th>\n",
       "      <th>channel_cat</th>\n",
       "    </tr>\n",
       "  </thead>\n",
       "  <tbody>\n",
       "    <tr>\n",
       "      <th>0</th>\n",
       "      <td>PewDiePie</td>\n",
       "      <td>2013-03-04</td>\n",
       "      <td>A NEW ADVENTURE! - Kingdom Hearts (1) w/ Pewds</td>\n",
       "      <td>['lets', 'play', 'horror', 'game', 'walkthroug...</td>\n",
       "      <td>1126.0</td>\n",
       "      <td>2541550.0</td>\n",
       "      <td>4.886102</td>\n",
       "      <td>720.0</td>\n",
       "      <td>1280.0</td>\n",
       "      <td>Gaming</td>\n",
       "    </tr>\n",
       "    <tr>\n",
       "      <th>1</th>\n",
       "      <td>PewDiePie</td>\n",
       "      <td>2013-03-04</td>\n",
       "      <td>SAVING PRIVATE PEWDS - Conker's Bad Fur Day (15)</td>\n",
       "      <td>['lets', 'play', 'horror', 'game', 'walkthroug...</td>\n",
       "      <td>903.0</td>\n",
       "      <td>1727646.0</td>\n",
       "      <td>4.951531</td>\n",
       "      <td>720.0</td>\n",
       "      <td>1280.0</td>\n",
       "      <td>Gaming</td>\n",
       "    </tr>\n",
       "    <tr>\n",
       "      <th>2</th>\n",
       "      <td>PewDiePie</td>\n",
       "      <td>2013-03-04</td>\n",
       "      <td>THE WORST SCARE! - Amnesia: Rain (4)</td>\n",
       "      <td>['lets', 'play', 'horror', 'game', 'walkthroug...</td>\n",
       "      <td>806.0</td>\n",
       "      <td>1402747.0</td>\n",
       "      <td>4.962706</td>\n",
       "      <td>720.0</td>\n",
       "      <td>1280.0</td>\n",
       "      <td>Gaming</td>\n",
       "    </tr>\n",
       "    <tr>\n",
       "      <th>3</th>\n",
       "      <td>PewDiePie</td>\n",
       "      <td>2013-03-03</td>\n",
       "      <td>Nova / Sp00n / Cry / Pewds - Worms Revolution ...</td>\n",
       "      <td>['lets', 'play', 'horror', 'game', 'walkthroug...</td>\n",
       "      <td>909.0</td>\n",
       "      <td>4348296.0</td>\n",
       "      <td>4.937665</td>\n",
       "      <td>720.0</td>\n",
       "      <td>1280.0</td>\n",
       "      <td>Gaming</td>\n",
       "    </tr>\n",
       "    <tr>\n",
       "      <th>4</th>\n",
       "      <td>PewDiePie</td>\n",
       "      <td>2013-03-03</td>\n",
       "      <td>SEXIEST HORROR EVER - Amnesia: Rain (3)</td>\n",
       "      <td>['lets', 'play', 'horror', 'game', 'walkthroug...</td>\n",
       "      <td>834.0</td>\n",
       "      <td>1410659.0</td>\n",
       "      <td>4.957545</td>\n",
       "      <td>720.0</td>\n",
       "      <td>1280.0</td>\n",
       "      <td>Gaming</td>\n",
       "    </tr>\n",
       "  </tbody>\n",
       "</table>\n",
       "</div>"
      ],
      "text/plain": [
       "     channel upload_date                                              title  \\\n",
       "0  PewDiePie  2013-03-04     A NEW ADVENTURE! - Kingdom Hearts (1) w/ Pewds   \n",
       "1  PewDiePie  2013-03-04   SAVING PRIVATE PEWDS - Conker's Bad Fur Day (15)   \n",
       "2  PewDiePie  2013-03-04               THE WORST SCARE! - Amnesia: Rain (4)   \n",
       "3  PewDiePie  2013-03-03  Nova / Sp00n / Cry / Pewds - Worms Revolution ...   \n",
       "4  PewDiePie  2013-03-03            SEXIEST HORROR EVER - Amnesia: Rain (3)   \n",
       "\n",
       "                                                tags  duration  view_count  \\\n",
       "0  ['lets', 'play', 'horror', 'game', 'walkthroug...    1126.0   2541550.0   \n",
       "1  ['lets', 'play', 'horror', 'game', 'walkthroug...     903.0   1727646.0   \n",
       "2  ['lets', 'play', 'horror', 'game', 'walkthroug...     806.0   1402747.0   \n",
       "3  ['lets', 'play', 'horror', 'game', 'walkthroug...     909.0   4348296.0   \n",
       "4  ['lets', 'play', 'horror', 'game', 'walkthroug...     834.0   1410659.0   \n",
       "\n",
       "   average_rating  height   width channel_cat  \n",
       "0        4.886102   720.0  1280.0      Gaming  \n",
       "1        4.951531   720.0  1280.0      Gaming  \n",
       "2        4.962706   720.0  1280.0      Gaming  \n",
       "3        4.937665   720.0  1280.0      Gaming  \n",
       "4        4.957545   720.0  1280.0      Gaming  "
      ]
     },
     "execution_count": 4,
     "metadata": {},
     "output_type": "execute_result"
    }
   ],
   "source": [
    "youtube.head()"
   ]
  },
  {
   "cell_type": "code",
   "execution_count": 5,
   "id": "eb797ebd",
   "metadata": {},
   "outputs": [
    {
     "data": {
      "text/plain": [
       "channel                   object\n",
       "upload_date       datetime64[ns]\n",
       "title                     object\n",
       "tags                      object\n",
       "duration                 float64\n",
       "view_count               float64\n",
       "average_rating           float64\n",
       "height                   float64\n",
       "width                    float64\n",
       "channel_cat               object\n",
       "dtype: object"
      ]
     },
     "execution_count": 5,
     "metadata": {},
     "output_type": "execute_result"
    }
   ],
   "source": [
    "youtube.dtypes"
   ]
  },
  {
   "cell_type": "code",
   "execution_count": 6,
   "id": "519c4915",
   "metadata": {},
   "outputs": [],
   "source": [
    "youtube['upload_year'] = youtube.upload_date.apply(lambda x: x.year)\n",
    "youtube['upload_month'] = youtube.upload_date.apply(lambda x: x.month)"
   ]
  },
  {
   "cell_type": "code",
   "execution_count": 7,
   "id": "fbe0b520",
   "metadata": {},
   "outputs": [],
   "source": [
    "def calculate_per_year(df, categories, col, year_start, year_end, what='count',\n",
    "                       keep_duplicates=True, duplicate_cols=None, cumulative=False):\n",
    "    df_cleaned = df.loc[(df.channel_cat.apply(lambda x: x in categories))&\n",
    "    (df.upload_year <= year_end) & (df.upload_year >= year_start), \n",
    "        ['upload_year', col]].sort_values('upload_year')\n",
    "    if not keep_duplicates:\n",
    "        df_cleaned = df_cleaned.drop_duplicates(subset=duplicate_cols, keep='first')\n",
    "    if what == 'count':\n",
    "        result_df = df_cleaned.groupby('upload_year').count() + \\\n",
    "            pd.DataFrame(data={col: [0]*(year_end-year_start+1), \n",
    "            'upload_year':list(range(year_start,year_end+1))}).set_index('upload_year')\n",
    "    elif what == 'mean':\n",
    "        result_df = df_cleaned.groupby('upload_year').mean()\n",
    "    elif what == 'sum':\n",
    "        result_df = df_cleaned.groupby('upload_year').sum()\n",
    "    if cumulative:\n",
    "        result_df = result_df.fillna(0).cumsum()\n",
    "    return result_df"
   ]
  },
  {
   "cell_type": "code",
   "execution_count": 8,
   "id": "c020a1d2",
   "metadata": {},
   "outputs": [
    {
     "data": {
      "text/plain": [
       "array(['Gaming', 'Howto & Style'], dtype=object)"
      ]
     },
     "execution_count": 8,
     "metadata": {},
     "output_type": "execute_result"
    }
   ],
   "source": [
    "youtube.channel_cat.unique()"
   ]
  },
  {
   "cell_type": "code",
   "execution_count": 9,
   "id": "6e76b587",
   "metadata": {},
   "outputs": [],
   "source": [
    "cats_chosen = ['Gaming', 'Howto & Style']"
   ]
  },
  {
   "cell_type": "markdown",
   "id": "b4045a38",
   "metadata": {},
   "source": [
    "## A1.1\n",
    "The appropriate plot type is a bar chart."
   ]
  },
  {
   "cell_type": "code",
   "execution_count": 10,
   "id": "c7bbea7f",
   "metadata": {},
   "outputs": [
    {
     "data": {
      "text/plain": [
       "Text(0, 0.5, 'videos')"
      ]
     },
     "execution_count": 10,
     "metadata": {},
     "output_type": "execute_result"
    },
    {
     "data": {
      "image/png": "[encoded data removed]",
      "text/plain": [
       "<Figure size 432x288 with 1 Axes>"
      ]
     },
     "metadata": {
      "needs_background": "light"
     },
     "output_type": "display_data"
    }
   ],
   "source": [
    "vids_per_year = [calculate_per_year(youtube, [x], 'title', 2010, 2018) for x in cats_chosen]\n",
    "vids_per_year.append(calculate_per_year(youtube, cats_chosen, 'title', 2010, 2018))\n",
    "titles = cats_chosen + ['Both']\n",
    "#fig = plt.figure(figsize=(20,10))\n",
    "plt.bar(x=vids_per_year[2].index, height=vids_per_year[2].title)\n",
    "plt.xlabel('year')\n",
    "plt.ylabel('videos')"
   ]
  },
  {
   "cell_type": "markdown",
   "id": "93c5b4ef",
   "metadata": {},
   "source": [
    "## A1.2"
   ]
  },
  {
   "cell_type": "code",
   "execution_count": 11,
   "id": "d048c1c1",
   "metadata": {},
   "outputs": [
    {
     "data": {
      "text/plain": [
       "Text(0, 0.5, 'channels')"
      ]
     },
     "execution_count": 11,
     "metadata": {},
     "output_type": "execute_result"
    },
    {
     "data": {
      "image/png": "[encoded data removed]",
      "text/plain": [
       "<Figure size 432x288 with 1 Axes>"
      ]
     },
     "metadata": {
      "needs_background": "light"
     },
     "output_type": "display_data"
    }
   ],
   "source": [
    "# We don't keep channels that have existed before 2010.\n",
    "new_channels = youtube[~youtube.channel.isin(youtube.channel[youtube.upload_date < np.datetime64('2010-01-01')].unique())]\n",
    "channels_per_year = calculate_per_year(new_channels, cats_chosen, 'channel', 2010, 2018, \n",
    "                                        keep_duplicates=False, duplicate_cols=['channel'],\n",
    "                                        cumulative=True)\n",
    "\n",
    "channels_per_year.plot(kind='bar')\n",
    "plt.xlabel('year')\n",
    "plt.ylabel('channels')"
   ]
  },
  {
   "cell_type": "markdown",
   "id": "a9c164cd",
   "metadata": {},
   "source": [
    "## A1.3"
   ]
  },
  {
   "cell_type": "code",
   "execution_count": 12,
   "id": "3a392459",
   "metadata": {},
   "outputs": [
    {
     "data": {
      "image/png": "[encoded data removed]",
      "text/plain": [
       "<Figure size 1440x720 with 3 Axes>"
      ]
     },
     "metadata": {
      "needs_background": "light"
     },
     "output_type": "display_data"
    }
   ],
   "source": [
    "fig = plt.figure(figsize=(20,10))\n",
    "for i in range(len(vids_per_year)):\n",
    "    ax = fig.add_subplot(1,3,i+1)\n",
    "    current_df = vids_per_year[i].join(channels_per_year).\\\n",
    "                    assign(avg_count=lambda x: x['title']/x['channel'])[['avg_count']]\n",
    "    ax.bar(x=current_df.index, height=current_df.avg_count)\n",
    "    ax.set_title(titles[i])\n",
    "    ax.set_xlabel('year')\n",
    "    ax.set_ylabel('per-channel video average')\n",
    "#    ax.set_ylim([0,21000])\n"
   ]
  },
  {
   "cell_type": "markdown",
   "id": "ceec4189",
   "metadata": {},
   "source": [
    "So together, it seems that activity has gone down, but truth is, gaming has gone down dramatically while howto has risen in recent years."
   ]
  },
  {
   "cell_type": "markdown",
   "id": "4a411ef7",
   "metadata": {},
   "source": [
    "## A2: The one thing we all love: cash money"
   ]
  },
  {
   "cell_type": "markdown",
   "id": "e78a1269",
   "metadata": {},
   "source": [
    "Your friend is really keen on making money from their YouTube channel through ads and wants you to help them choose the most profitable channel category (Gaming or Howto & Style). The ad profit is directly proportional to the number of views of a video."
   ]
  },
  {
   "cell_type": "markdown",
   "id": "2884048e",
   "metadata": {},
   "source": [
    "1. Since your friend wants to keep producing videos for several years to come, it might also be worth looking at the growth of the two categories.\n",
    "  1. Compute the total number of views in each category per year for the years 2010-2018.\n",
    "  2. Divide the yearly view count by the number of channels that posted a video in each category in each year. Plot these normalized counts.\n",
    "\n",
    "\n"
   ]
  },
  {
   "cell_type": "markdown",
   "id": "a8e73068",
   "metadata": {},
   "source": [
    "2. It takes some time for channels to become popular. For this question and all the following questions in A2, only consider channels that uploaded their first video in  2016 or later. Compute the total number of views in each category and divide it by the number of channels in that category.\n"
   ]
  },
  {
   "cell_type": "markdown",
   "id": "c32b3770",
   "metadata": {},
   "source": [
    "3. The number of views might be very unevenly over the different channels, and channels might upload different numbers of videos.\n",
    "  1. Compute the mean number of views per video for each channel.\n",
    "  2. Compute the mean of these means for each of the two categories. Print these values.\n",
    "  3. Using bootstrapping, compute 95% confidence intervals for these two means. From this analysis, can you draw a recommendation for one of the two categories? Why, or why not?"
   ]
  },
  {
   "cell_type": "markdown",
   "id": "b9330334",
   "metadata": {},
   "source": [
    "## A2.1\n",
    "### (A)"
   ]
  },
  {
   "cell_type": "code",
   "execution_count": 13,
   "id": "897c0507",
   "metadata": {},
   "outputs": [
    {
     "data": {
      "text/plain": [
       "135986429274.0"
      ]
     },
     "execution_count": 13,
     "metadata": {},
     "output_type": "execute_result"
    }
   ],
   "source": [
    "youtube.loc[youtube.channel_cat == 'Gaming'].view_count.sum()"
   ]
  },
  {
   "cell_type": "code",
   "execution_count": 14,
   "id": "370c3585",
   "metadata": {},
   "outputs": [
    {
     "data": {
      "text/plain": [
       "86493243255.0"
      ]
     },
     "execution_count": 14,
     "metadata": {},
     "output_type": "execute_result"
    }
   ],
   "source": [
    "youtube.loc[youtube.channel_cat == 'Howto & Style'].view_count.sum()"
   ]
  },
  {
   "cell_type": "markdown",
   "id": "843bc837",
   "metadata": {},
   "source": [
    "### (B)"
   ]
  },
  {
   "cell_type": "code",
   "execution_count": null,
   "id": "45de0bb1",
   "metadata": {},
   "outputs": [],
   "source": [
    "cat1_views = calculate_per_year(youtube, ['Gaming'], 'view_count', 2010, 2018, what='sum')\n",
    "# cat1_views.plot(kind='bar')"
   ]
  },
  {
   "cell_type": "code",
   "execution_count": null,
   "id": "6e9b2595",
   "metadata": {},
   "outputs": [],
   "source": [
    "cat2_views = calculate_per_year(youtube, ['Howto & Style'], 'view_count', 2010, 2018, what='sum')\n",
    "# cat2_views.plot(kind='bar')"
   ]
  },
  {
   "cell_type": "code",
   "execution_count": 17,
   "id": "104efffa",
   "metadata": {},
   "outputs": [],
   "source": [
    "channels_cat1 = calculate_per_year(youtube, ['Gaming'], 'channel', 2010, 2018, 'count', keep_duplicates=False, \n",
    "                          duplicate_cols=['upload_year', 'channel'])\n",
    "channels_cat2 = calculate_per_year(youtube, ['Howto & Style'], 'channel', 2010, 2018, 'count', keep_duplicates=False, \n",
    "                          duplicate_cols=['upload_year', 'channel'])"
   ]
  },
  {
   "cell_type": "code",
   "execution_count": 18,
   "id": "7d427c52",
   "metadata": {},
   "outputs": [
    {
     "data": {
      "text/plain": [
       "Text(0.5, 0, 'upload year')"
      ]
     },
     "execution_count": 18,
     "metadata": {},
     "output_type": "execute_result"
    },
    {
     "data": {
      "image/png": "[encoded data removed]",
      "text/plain": [
       "<Figure size 432x288 with 1 Axes>"
      ]
     },
     "metadata": {
      "needs_background": "light"
     },
     "output_type": "display_data"
    }
   ],
   "source": [
    "cat1_views.join(channels_cat1).assign(avg_views=lambda x: x['view_count']/x['channel'])[['avg_views']].\\\n",
    "                                plot(kind='bar')\n",
    "plt.title('gaming')\n",
    "plt.ylabel('views/channels')\n",
    "plt.xlabel('upload year')"
   ]
  },
  {
   "cell_type": "code",
   "execution_count": 19,
   "id": "f50643da",
   "metadata": {},
   "outputs": [
    {
     "data": {
      "text/plain": [
       "Text(0.5, 0, 'upload year')"
      ]
     },
     "execution_count": 19,
     "metadata": {},
     "output_type": "execute_result"
    },
    {
     "data": {
      "image/png": "[encoded data removed]",
      "text/plain": [
       "<Figure size 432x288 with 1 Axes>"
      ]
     },
     "metadata": {
      "needs_background": "light"
     },
     "output_type": "display_data"
    }
   ],
   "source": [
    "cat2_views.join(channels_cat2).assign(avg_views=lambda x: x['view_count']/x['channel'])[['avg_views']].\\\n",
    "                                plot(kind='bar')\n",
    "plt.title('howto and style')\n",
    "plt.ylabel('views/channels')\n",
    "plt.xlabel('upload year')"
   ]
  },
  {
   "cell_type": "markdown",
   "id": "8416ece2",
   "metadata": {},
   "source": [
    "## A2.2"
   ]
  },
  {
   "cell_type": "code",
   "execution_count": 20,
   "id": "8124882c",
   "metadata": {},
   "outputs": [],
   "source": [
    "channel_starts = youtube[['channel', 'upload_year']].groupby('channel').min().reset_index()\n",
    "channels_late = channel_starts.loc[channel_starts.upload_year >= 2016].channel.values"
   ]
  },
  {
   "cell_type": "code",
   "execution_count": 21,
   "id": "c854ec57",
   "metadata": {},
   "outputs": [
    {
     "data": {
      "text/plain": [
       "array(['5-Minute Crafts', '5-Minute Crafts GIRLY', '5-Minute Crafts PLAY',\n",
       "       'Anaysa', 'Antonio Garza', 'BRICO SYMPA', 'BRIGHT SIDE', 'Blossom',\n",
       "       'Ceeday', 'Chris Smoove', 'Clash Royale', 'Crafty Panda',\n",
       "       'Daequan Loco', 'Denis', 'Frost Diamond', 'GameGrumps',\n",
       "       'Grandpa Kitchen', 'Health Tips for You', 'Homemade solutions',\n",
       "       'Hong Giang DIY Slime', 'Indian Health', 'Izabela Stress',\n",
       "       'Jess No Limit', 'MeLlamanFredy', 'SHORT TIME SECRET',\n",
       "       'Satisfying Slime Videos', 'So Yummy', 'Tasty', 'Tom Slime',\n",
       "       'Xyz Gyan', 'YourHealth'], dtype=object)"
      ]
     },
     "execution_count": 21,
     "metadata": {},
     "output_type": "execute_result"
    }
   ],
   "source": [
    "channels_late"
   ]
  },
  {
   "cell_type": "code",
   "execution_count": 22,
   "id": "eb9b30a0",
   "metadata": {},
   "outputs": [
    {
     "data": {
      "text/plain": [
       "23"
      ]
     },
     "execution_count": 22,
     "metadata": {},
     "output_type": "execute_result"
    }
   ],
   "source": [
    "len(youtube.loc[(youtube.channel_cat == 'Howto & Style') & \n",
    "            (youtube.channel.apply(lambda x: x in channels_late))].channel.unique())"
   ]
  },
  {
   "cell_type": "code",
   "execution_count": 23,
   "id": "923f260d",
   "metadata": {},
   "outputs": [
    {
     "data": {
      "text/plain": [
       "8"
      ]
     },
     "execution_count": 23,
     "metadata": {},
     "output_type": "execute_result"
    }
   ],
   "source": [
    "len(youtube.loc[(youtube.channel_cat == 'Gaming') & \n",
    "             (youtube.channel.apply(lambda x: x in channels_late))].channel.unique())"
   ]
  },
  {
   "cell_type": "markdown",
   "id": "c09c7c30",
   "metadata": {},
   "source": [
    "These two are the answers to A2:"
   ]
  },
  {
   "cell_type": "code",
   "execution_count": 24,
   "id": "de2b4269",
   "metadata": {},
   "outputs": [
    {
     "data": {
      "text/plain": [
       "1374135339.0"
      ]
     },
     "execution_count": 24,
     "metadata": {},
     "output_type": "execute_result"
    }
   ],
   "source": [
    "youtube.loc[(youtube.channel_cat == 'Howto & Style') & \n",
    "            (youtube.channel.apply(lambda x: x in channels_late))].view_count.sum() / \\\n",
    "            len(youtube.loc[(youtube.channel_cat == 'Howto & Style') & \n",
    "            (youtube.channel.apply(lambda x: x in channels_late))].channel.unique())"
   ]
  },
  {
   "cell_type": "code",
   "execution_count": 25,
   "id": "823c42c1",
   "metadata": {},
   "outputs": [
    {
     "data": {
      "text/plain": [
       "895409422.375"
      ]
     },
     "execution_count": 25,
     "metadata": {},
     "output_type": "execute_result"
    }
   ],
   "source": [
    "youtube.loc[(youtube.channel_cat == 'Gaming') & \n",
    "            (youtube.channel.apply(lambda x: x in channels_late))].view_count.sum() /\\\n",
    "            len(youtube.loc[(youtube.channel_cat == 'Gaming') & \n",
    "             (youtube.channel.apply(lambda x: x in channels_late))].channel.unique())"
   ]
  },
  {
   "cell_type": "markdown",
   "id": "bac1e903",
   "metadata": {},
   "source": [
    "Now let's look at the aggregation, per channel. For this aggregation, there are two solutions:\n",
    "* If you consider the effort spent for each video to be similar, then the average.\n",
    "* If you only want to consider the total potential revenue, then the sum."
   ]
  },
  {
   "cell_type": "markdown",
   "id": "ccde2399",
   "metadata": {},
   "source": [
    "## A2.3A"
   ]
  },
  {
   "cell_type": "code",
   "execution_count": 26,
   "id": "3238854f",
   "metadata": {},
   "outputs": [],
   "source": [
    "howto_perchannel_new = youtube.loc[(youtube.channel_cat == 'Howto & Style') & \n",
    "            (youtube.channel.apply(lambda x: x in channels_late)), ['view_count', 'channel']].\\\n",
    "            groupby('channel').mean().view_count.values"
   ]
  },
  {
   "cell_type": "code",
   "execution_count": 27,
   "id": "bb7873a3",
   "metadata": {},
   "outputs": [],
   "source": [
    "gaming_perchannel_new = youtube.loc[(youtube.channel_cat == 'Gaming') & \n",
    "            (youtube.channel.apply(lambda x: x in channels_late)), ['view_count', 'channel']].\\\n",
    "            groupby('channel').mean().view_count.values"
   ]
  },
  {
   "cell_type": "markdown",
   "id": "4b8e13ae",
   "metadata": {},
   "source": [
    "## A2.3B"
   ]
  },
  {
   "cell_type": "code",
   "execution_count": 28,
   "id": "c6716894",
   "metadata": {},
   "outputs": [
    {
     "data": {
      "text/plain": [
       "(3371299.2233319054, 1404771.1416982808)"
      ]
     },
     "execution_count": 28,
     "metadata": {},
     "output_type": "execute_result"
    }
   ],
   "source": [
    "np.mean(howto_perchannel_new), np.mean(gaming_perchannel_new)"
   ]
  },
  {
   "cell_type": "markdown",
   "id": "5c5d813e",
   "metadata": {},
   "source": [
    "## A2.3C"
   ]
  },
  {
   "cell_type": "code",
   "execution_count": 29,
   "id": "182679b3",
   "metadata": {},
   "outputs": [],
   "source": [
    "def do_bootstrap(data, n=1000):\n",
    "    sample_statistic = [] \n",
    "    for _ in range(n):\n",
    "        sampled_data = np.random.choice(data, size=len(data))  \n",
    "        sample_statistic.append(np.mean(sampled_data))\n",
    "    return (np.percentile(sample_statistic, 2.5), np.percentile(sample_statistic, 97.5))"
   ]
  },
  {
   "cell_type": "code",
   "execution_count": 30,
   "id": "60d2399e",
   "metadata": {},
   "outputs": [
    {
     "data": {
      "text/plain": [
       "[(2150921.048323673, 4883514.941399923),\n",
       " (941627.6695806755, 1898984.9410688933)]"
      ]
     },
     "execution_count": 30,
     "metadata": {},
     "output_type": "execute_result"
    }
   ],
   "source": [
    "[do_bootstrap(howto_perchannel_new), do_bootstrap(gaming_perchannel_new)]"
   ]
  },
  {
   "cell_type": "markdown",
   "id": "30d037d4",
   "metadata": {},
   "source": [
    "The difference is significant, as the two confidence intervals have no overlap."
   ]
  },
  {
   "cell_type": "markdown",
   "id": "51dcda30",
   "metadata": {},
   "source": [
    "## Task B: View forecasting (Machine Learning)"
   ]
  },
  {
   "cell_type": "markdown",
   "id": "52b89425",
   "metadata": {},
   "source": [
    "Your friend wants to figure out how they can optimize their videos for getting the maximum number of views (without using shocking thumbnails and clickbait titles). In this task, you will build a machine learning (ML) model for predicting the success of a video."
   ]
  },
  {
   "cell_type": "markdown",
   "id": "d227831e",
   "metadata": {},
   "source": [
    "## B1: Get those shovels out again"
   ]
  },
  {
   "cell_type": "markdown",
   "id": "0743fcfd",
   "metadata": {},
   "source": [
    "1. For the prediction model, use all rows of the dataset, but keep only the following columns: `view_count, channel, upload_date, duration, average_rating, height, width`."
   ]
  },
  {
   "cell_type": "code",
   "execution_count": 31,
   "id": "1a8db913",
   "metadata": {},
   "outputs": [],
   "source": [
    "ml_columns = ['view_count', 'channel', 'upload_date', 'duration', 'average_rating', 'height', 'width']\n",
    "youtube_ml = youtube[ml_columns].copy()"
   ]
  },
  {
   "cell_type": "markdown",
   "id": "9961f69a",
   "metadata": {},
   "source": [
    "2. Extract the upload year and upload month from the `upload_date` column into the two columns `upload_year` and `upload_month`, and remove `upload_date`."
   ]
  },
  {
   "cell_type": "code",
   "execution_count": 32,
   "id": "27a4f435",
   "metadata": {},
   "outputs": [],
   "source": [
    "youtube_ml['u_year'] = youtube_ml.upload_date.dt.year\n",
    "youtube_ml['u_month'] = youtube_ml.upload_date.dt.month\n",
    "youtube_ml = youtube_ml.drop(columns=['upload_date'])"
   ]
  },
  {
   "cell_type": "markdown",
   "id": "229d1c0d",
   "metadata": {},
   "source": [
    "3. The entry in the channel column for a video indicates on which channel the video was uploaded. Encode this column via one-hot encoding."
   ]
  },
  {
   "cell_type": "code",
   "execution_count": 33,
   "id": "52fecbcb",
   "metadata": {},
   "outputs": [],
   "source": [
    "youtube_ml = pd.get_dummies(youtube_ml, columns=['channel'], prefix='channel_')"
   ]
  },
  {
   "cell_type": "markdown",
   "id": "f0f8cafe",
   "metadata": {},
   "source": [
    "4. Split the data into a train (70%) and a test set (30%) with the appropriate function from sklearn, using 42 as the random seed."
   ]
  },
  {
   "cell_type": "code",
   "execution_count": 34,
   "id": "09e3fbb1",
   "metadata": {},
   "outputs": [],
   "source": [
    "train, test = train_test_split(youtube_ml, test_size=0.3, random_state=42)"
   ]
  },
  {
   "cell_type": "markdown",
   "id": "eb3556e5",
   "metadata": {},
   "source": [
    "## B2: Who is the most viewed of them all?"
   ]
  },
  {
   "cell_type": "markdown",
   "id": "cf148cff",
   "metadata": {},
   "source": [
    "1. Train a ridge regression model (i.e., an L2-regularized linear regression model) on the train set that predicts the view count from the other features. Find and use the optimal regularization parameter $\\alpha$ from the set {0.001, 0.01, 0.1} via 3-fold cross validation."
   ]
  },
  {
   "cell_type": "code",
   "execution_count": 35,
   "id": "da4bef14",
   "metadata": {},
   "outputs": [],
   "source": [
    "X_train = train.drop(columns=['view_count'])\n",
    "y_train = train['view_count']\n",
    "X_test = test.drop(columns=['view_count'])\n",
    "y_test = test['view_count']"
   ]
  },
  {
   "cell_type": "code",
   "execution_count": 36,
   "id": "8c3d1b4f",
   "metadata": {},
   "outputs": [
    {
     "data": {
      "text/plain": [
       "GridSearchCV(cv=3, error_score=nan,\n",
       "             estimator=Ridge(alpha=1.0, copy_X=True, fit_intercept=True,\n",
       "                             max_iter=None, normalize=False, random_state=None,\n",
       "                             solver='auto', tol=0.001),\n",
       "             iid='deprecated', n_jobs=None,\n",
       "             param_grid={'alpha': (0.001, 0.01, 0.1)}, pre_dispatch='2*n_jobs',\n",
       "             refit=True, return_train_score=False, scoring=None, verbose=0)"
      ]
     },
     "execution_count": 36,
     "metadata": {},
     "output_type": "execute_result"
    }
   ],
   "source": [
    "ridge = Ridge()\n",
    "ridge_hyper = {'alpha':(0.001, 0.01, 0.1)}\n",
    "ridge_cv = GridSearchCV(ridge, ridge_hyper, cv=3)\n",
    "ridge_cv.fit(X_train, y_train)"
   ]
  },
  {
   "cell_type": "code",
   "execution_count": 37,
   "id": "786a5d8c",
   "metadata": {},
   "outputs": [
    {
     "data": {
      "text/plain": [
       "array([0.08010146, 0.08010271, 0.0801151 ])"
      ]
     },
     "execution_count": 37,
     "metadata": {},
     "output_type": "execute_result"
    }
   ],
   "source": [
    "ridge_cv.cv_results_['mean_test_score']"
   ]
  },
  {
   "cell_type": "markdown",
   "id": "e70cfdc0",
   "metadata": {},
   "source": [
    "2. Report the mean absolute error that the model makes on the test set."
   ]
  },
  {
   "cell_type": "code",
   "execution_count": 38,
   "id": "4466cca9",
   "metadata": {},
   "outputs": [
    {
     "data": {
      "text/plain": [
       "1444649.5039951615"
      ]
     },
     "execution_count": 38,
     "metadata": {},
     "output_type": "execute_result"
    }
   ],
   "source": [
    "mean_absolute_error(y_test, ridge_cv.predict(X_test))"
   ]
  },
  {
   "cell_type": "markdown",
   "id": "2b50ba8f",
   "metadata": {},
   "source": [
    "## B3: Checking our ambitions"
   ]
  },
  {
   "cell_type": "markdown",
   "id": "a1ba22ca",
   "metadata": {},
   "source": [
    "To improve performance, you want to make the task of the ML model easier and turn it into a classification task. Now it only has to predict whether a video has a high view count (defined as being larger than the median of the view counts in the training set) or a low view count (defined as being smaller or equal to the median of the view counts in the training set)."
   ]
  },
  {
   "cell_type": "markdown",
   "id": "819f57f5",
   "metadata": {},
   "source": [
    "1. Train a logistic regression model for this classification task. Find and use the optimal regularization parameter C (as defined in scikit-learn's documentation) from the set {1, 10, 100} via 3-fold cross validation. Use the random seed 42. _Hint_: If you get a warning about the training algorithm failing to converge, increase the maximum number of training iterations."
   ]
  },
  {
   "cell_type": "code",
   "execution_count": 39,
   "id": "32bd3bd4",
   "metadata": {},
   "outputs": [],
   "source": [
    "threshold = y_train.median()\n",
    "\n",
    "y_train_binary = (y_train > threshold).astype(int)\n",
    "y_test_binary = (y_test > threshold).astype(int)"
   ]
  },
  {
   "cell_type": "code",
   "execution_count": 40,
   "id": "7807dc01",
   "metadata": {},
   "outputs": [],
   "source": [
    "Cs = (1, 10, 100)\n",
    "log_reg_cv = LogisticRegressionCV(Cs=Cs, cv=3, random_state=42, max_iter=200)"
   ]
  },
  {
   "cell_type": "code",
   "execution_count": 41,
   "id": "b63650bc",
   "metadata": {},
   "outputs": [
    {
     "data": {
      "text/plain": [
       "10"
      ]
     },
     "execution_count": 41,
     "metadata": {},
     "output_type": "execute_result"
    }
   ],
   "source": [
    "log_reg_cv.fit(X_train, y_train_binary)\n",
    "opt_C = log_reg_cv.C_[0]\n",
    "opt_C"
   ]
  },
  {
   "cell_type": "code",
   "execution_count": 42,
   "id": "777d65d9",
   "metadata": {},
   "outputs": [
    {
     "data": {
      "text/plain": [
       "array([0.74790585, 0.74791609, 0.74790585])"
      ]
     },
     "execution_count": 42,
     "metadata": {},
     "output_type": "execute_result"
    }
   ],
   "source": [
    "log_reg_cv.scores_[1].mean(axis=0)"
   ]
  },
  {
   "cell_type": "markdown",
   "id": "0ad2ba39",
   "metadata": {},
   "source": [
    "2. Compute the accuracy of the logistic regression model on the test set."
   ]
  },
  {
   "cell_type": "code",
   "execution_count": 43,
   "id": "6e90b027",
   "metadata": {},
   "outputs": [
    {
     "data": {
      "text/plain": [
       "0.7479033761020716"
      ]
     },
     "execution_count": 43,
     "metadata": {},
     "output_type": "execute_result"
    }
   ],
   "source": [
    "log_reg_cv.score(X_test, y_test_binary)"
   ]
  },
  {
   "cell_type": "markdown",
   "id": "652a31bc",
   "metadata": {},
   "source": [
    "## B4: ...something's not right."
   ]
  },
  {
   "cell_type": "markdown",
   "id": "2f4af914",
   "metadata": {},
   "source": [
    "You are satisfied with the model performance. In fact, you are a bit surprised at how good the model is given the relatively little amount of information about the videos. So you take a closer look at the features and realize that the (one-hot-encoded) channel feature does not make sense for the application that your friend has in mind."
   ]
  },
  {
   "cell_type": "markdown",
   "id": "767b836f",
   "metadata": {},
   "source": [
    "1. Why does the channel feature not make sense?"
   ]
  },
  {
   "cell_type": "markdown",
   "id": "2c636ddd",
   "metadata": {},
   "source": [
    "Even though your friend knows who will upload their videos (your friend, of course), no video with this channel is in the training set and thus the corresponding one-hot feature does not exist in the model. Thus they wouldn't be able to use the trained model for predictions on their own videos."
   ]
  },
  {
   "cell_type": "markdown",
   "id": "7d85b4a5",
   "metadata": {},
   "source": [
    "2. Train another logistic regression model with all the features from B3 except the one-hot-encoded channel. Use again 42 as the seed for the train test split and perform the same hyperparameter optimization as in B3. How does the model performance change?"
   ]
  },
  {
   "cell_type": "code",
   "execution_count": 44,
   "id": "1edd378f",
   "metadata": {},
   "outputs": [],
   "source": [
    "youtube_ml = youtube_ml[['view_count', 'duration', 'average_rating', 'height', 'width', 'u_year', 'u_month']]\n",
    "train, test = train_test_split(youtube_ml, test_size=0.3, random_state=42)\n",
    "X_train = train.drop(columns=['view_count'])\n",
    "y_train = train['view_count']\n",
    "X_test = test.drop(columns=['view_count'])\n",
    "y_test = test['view_count']\n",
    "\n",
    "threshold = y_train.median()\n",
    "\n",
    "y_train_binary = (y_train > threshold).astype(int)\n",
    "y_test_binary = (y_test > threshold).astype(int)"
   ]
  },
  {
   "cell_type": "code",
   "execution_count": 45,
   "id": "5c384a58",
   "metadata": {},
   "outputs": [
    {
     "data": {
      "text/plain": [
       "100"
      ]
     },
     "execution_count": 45,
     "metadata": {},
     "output_type": "execute_result"
    }
   ],
   "source": [
    "log_reg_cv.fit(X_train, y_train_binary)\n",
    "opt_C = log_reg_cv.C_[0]\n",
    "opt_C"
   ]
  },
  {
   "cell_type": "code",
   "execution_count": 46,
   "id": "fd800577",
   "metadata": {},
   "outputs": [
    {
     "data": {
      "text/plain": [
       "0.6075311208276587"
      ]
     },
     "execution_count": 46,
     "metadata": {},
     "output_type": "execute_result"
    }
   ],
   "source": [
    "log_reg_cv.score(X_test, y_test_binary)"
   ]
  },
  {
   "cell_type": "markdown",
   "id": "11167527",
   "metadata": {},
   "source": [
    "Without the channel, the accuracy drops by 15 percentage points, and is not that far from uniformly random prediction anymore."
   ]
  },
  {
   "cell_type": "markdown",
   "id": "ba186015",
   "metadata": {},
   "source": [
    "## B5: \"We kinda forgot about categories.\""
   ]
  },
  {
   "cell_type": "markdown",
   "id": "ae3c610e",
   "metadata": {},
   "source": [
    "On second thought, there is actually one feature that you may use about the channel. Namely, the channel category. The reason this one makes sense might also help you answer B4.1."
   ]
  },
  {
   "cell_type": "markdown",
   "id": "e8272342",
   "metadata": {},
   "source": [
    "1. Train and evaluate another logistic regression model (in the same way as in B4 regarding train/test split and hyperparameter) that additionally includes the one-hot-encoded channel category."
   ]
  },
  {
   "cell_type": "code",
   "execution_count": 47,
   "id": "3bc5f40b",
   "metadata": {},
   "outputs": [],
   "source": [
    "youtube_ml['channel_cat'] = youtube['channel_cat']\n",
    "youtube_ml = pd.get_dummies(youtube_ml, columns=['channel_cat'], prefix='cat_')\n",
    "\n",
    "train, test = train_test_split(youtube_ml, test_size=0.3, random_state=1)\n",
    "X_train = train.drop(columns=['view_count'])\n",
    "y_train = train['view_count']\n",
    "X_test = test.drop(columns=['view_count'])\n",
    "y_test = test['view_count']\n",
    "\n",
    "threshold = y_train.median()\n",
    "\n",
    "y_train_binary = (y_train > threshold).astype(int)\n",
    "y_test_binary = (y_test > threshold).astype(int)"
   ]
  },
  {
   "cell_type": "code",
   "execution_count": 48,
   "id": "67aa40ec",
   "metadata": {},
   "outputs": [
    {
     "data": {
      "text/plain": [
       "1"
      ]
     },
     "execution_count": 48,
     "metadata": {},
     "output_type": "execute_result"
    }
   ],
   "source": [
    "log_reg_cv.fit(X_train, y_train_binary)\n",
    "opt_C = log_reg_cv.C_[0]\n",
    "opt_C"
   ]
  },
  {
   "cell_type": "code",
   "execution_count": 49,
   "id": "0761f4ba",
   "metadata": {},
   "outputs": [
    {
     "data": {
      "text/plain": [
       "0.6133610493871408"
      ]
     },
     "execution_count": 49,
     "metadata": {},
     "output_type": "execute_result"
    }
   ],
   "source": [
    "log_reg_cv.score(X_test, y_test_binary)"
   ]
  },
  {
   "cell_type": "markdown",
   "id": "f29bdb2f",
   "metadata": {},
   "source": [
    "2. The dynamics of the two categories might differ a lot, and the two communities might value different properties of a video differently. For instance, for one community, a long duration might be more important, for the other one, a large picture width. Thus, having only a single weight for, e.g., the duration of a video, might not give the best results. Is there something smarter that you can do than simply including the category as a single one-hot-encoded feature to improve the classification performance? Implement your idea and compare the accuracy on the test set with that of the first model (from task B5.1)."
   ]
  },
  {
   "cell_type": "markdown",
   "id": "01cea3fb",
   "metadata": {},
   "source": [
    "---\n",
    "\n",
    "We can instead train two separate models, one for each category."
   ]
  },
  {
   "cell_type": "code",
   "execution_count": 50,
   "id": "f8eecdbb",
   "metadata": {},
   "outputs": [],
   "source": [
    "youtube_ml = youtube_ml[['view_count', 'duration', 'average_rating', 'height', 'width', 'u_year', 'u_month']]\n",
    "youtube_ml_gaming = youtube_ml[youtube['channel_cat'] == 'Gaming']\n",
    "youtube_ml_howto = youtube_ml[youtube['channel_cat'] == 'Howto & Style']"
   ]
  },
  {
   "cell_type": "code",
   "execution_count": 51,
   "id": "d0127212",
   "metadata": {},
   "outputs": [],
   "source": [
    "train_gaming, test_gaming = train_test_split(youtube_ml_gaming, test_size=0.3, random_state=1)\n",
    "X_train_gaming = train_gaming.drop(columns=['view_count'])\n",
    "y_train_gaming = train_gaming['view_count']\n",
    "X_test_gaming = test_gaming.drop(columns=['view_count'])\n",
    "y_test_gaming = test_gaming['view_count']\n",
    "\n",
    "train_howto, test_howto = train_test_split(youtube_ml_howto, test_size=0.3, random_state=1)\n",
    "X_train_howto = train_howto.drop(columns=['view_count'])\n",
    "y_train_howto = train_howto['view_count']\n",
    "X_test_howto = test_howto.drop(columns=['view_count'])\n",
    "y_test_howto = test_howto['view_count']"
   ]
  },
  {
   "cell_type": "code",
   "execution_count": 52,
   "id": "b36fceaa",
   "metadata": {},
   "outputs": [],
   "source": [
    "y_train_binary_gaming = (y_train_gaming > y_train_gaming.median()).astype(int)\n",
    "y_test_binary_gaming = (y_test_gaming > y_train_gaming.median()).astype(int)\n",
    "y_train_binary_howto = (y_train_howto > y_train_howto.median()).astype(int)\n",
    "y_test_binary_howto = (y_test_howto > y_train_howto.median()).astype(int)"
   ]
  },
  {
   "cell_type": "markdown",
   "id": "b4a0efbe",
   "metadata": {},
   "source": [
    "Training separate models for the two categories gives slightly better accuracies."
   ]
  },
  {
   "cell_type": "markdown",
   "id": "acdda261",
   "metadata": {},
   "source": [
    "First for the gaming category:"
   ]
  },
  {
   "cell_type": "code",
   "execution_count": 53,
   "id": "8eb2bc8b",
   "metadata": {},
   "outputs": [
    {
     "data": {
      "text/plain": [
       "0.6309681034137752"
      ]
     },
     "execution_count": 53,
     "metadata": {},
     "output_type": "execute_result"
    }
   ],
   "source": [
    "log_reg_cv.fit(X_train_gaming, y_train_binary_gaming)\n",
    "log_reg_cv.score(X_test_gaming, y_test_binary_gaming)"
   ]
  },
  {
   "cell_type": "markdown",
   "id": "9e6471d1",
   "metadata": {},
   "source": [
    "And then for the howto category:"
   ]
  },
  {
   "cell_type": "code",
   "execution_count": 54,
   "id": "9195adda",
   "metadata": {},
   "outputs": [
    {
     "data": {
      "text/plain": [
       "0.6477528756077315"
      ]
     },
     "execution_count": 54,
     "metadata": {},
     "output_type": "execute_result"
    }
   ],
   "source": [
    "log_reg_cv.fit(X_train_howto, y_train_binary_howto)\n",
    "log_reg_cv.score(X_test_howto, y_test_binary_howto)"
   ]
  },
  {
   "cell_type": "markdown",
   "id": "0fb7e73f",
   "metadata": {},
   "source": [
    "## Task C: A map of the channels (Graphs)"
   ]
  },
  {
   "cell_type": "markdown",
   "id": "b9410ad3",
   "metadata": {},
   "source": [
    "Your friend wants to map out the channels and represent their similarities. For this purpose, we have created two undirected and unweighted graphs for you, where in each graph, each channel has a node and similar channels have edges connecting them. In one graph, the similarity between two channels is based on how similar their video descriptions are, while in the other, the similarity is based on how similar their video tags are. We will call the former $G_{text}$ and the latter $G_{tags}$. You will be analyzing the two graphs loaded by running the cell below."
   ]
  },
  {
   "cell_type": "code",
   "execution_count": 55,
   "id": "1c33af54",
   "metadata": {},
   "outputs": [],
   "source": [
    "from networkx import from_numpy_array\n",
    "import json\n",
    "g_text_adj = np.loadtxt(open('data/g_text_adj.csv', 'r'), delimiter=',', skiprows=0)\n",
    "g_tags_adj = np.loadtxt(open('data/g_tags_adj.csv', 'r'), delimiter=',', skiprows=0)\n",
    "channel_to_index = json.load(open('data/channel_indices.json', 'r'))\n",
    "g_text = from_numpy_array(g_text_adj)\n",
    "g_tags = from_numpy_array(g_tags_adj)"
   ]
  },
  {
   "cell_type": "markdown",
   "id": "8f7b59b6",
   "metadata": {},
   "source": [
    "## C1: Does YouTube have a content diversity problem?"
   ]
  },
  {
   "cell_type": "markdown",
   "id": "ce677caa",
   "metadata": {},
   "source": [
    "1. For each graph, calculate its diameter (i.e., the largest shortest-path length, where the maximization is done over all node pairs). What difference do you see? _Hint_: Don't worry if you get an error, just read the error message carefully."
   ]
  },
  {
   "cell_type": "markdown",
   "id": "055bbd64",
   "metadata": {},
   "source": [
    "2. What does the diameter of $G_{text}$ say about the diversity of the channels’ contents? How about the diameter of $G_{tags}$?"
   ]
  },
  {
   "cell_type": "markdown",
   "id": "dc878b9d",
   "metadata": {},
   "source": [
    "3. Based on what you have calculated, which one has greater diversity: descriptions used by channels, or tags used by channels? Justify your answer."
   ]
  },
  {
   "cell_type": "markdown",
   "id": "b30619b1",
   "metadata": {},
   "source": [
    "4. Imagine that you want to **compare** content diversity between two sets of channels (i.e., you want to see which set of channels has more diverse content), and you have calculated a tag-based graph for each set. Do you think the diameter is a good measure for doing the comparison? Justify your answer."
   ]
  },
  {
   "cell_type": "markdown",
   "id": "653d06eb",
   "metadata": {},
   "source": [
    "5. Back to our own two graphs. Based on $G_{text}$, for each category of channels, which channel is the one most representative of the contents of all channels in that category? In other words, for each category, if you needed to provide a summary of all channels in the category via one channel, which channel would you choose? Show us (us being the exam designers and your friend) the descriptions of this channel’s two most-viewed videos. What metric did you use for this purpose? Explain your choice."
   ]
  },
  {
   "cell_type": "markdown",
   "id": "ef505f4c",
   "metadata": {},
   "source": [
    "## C2: Going back to categories again"
   ]
  },
  {
   "cell_type": "markdown",
   "id": "c3a45725",
   "metadata": {},
   "source": [
    "1. We want to use the two graphs to cluster channels from the same category together, and we want to compare their effectiveness at doing so. Use Kernighan-Lin bisection in the networkx package (`networkx.algorithms.community.kernighan_lin_bisection`) to divide each graph into two communities. Use 42 as the random seed. For each graph, show how many members of each category fall into each of the two communities."
   ]
  },
  {
   "cell_type": "markdown",
   "id": "feae0e42",
   "metadata": {},
   "source": [
    "2. If one of these graphs were ideal for this clustering task, what would the resulting communities look like? If it were the absolute worst possible graph for the task, what would the resulting communities look like?"
   ]
  },
  {
   "cell_type": "markdown",
   "id": "fde7f580",
   "metadata": {},
   "source": [
    "3. Calculate the probability $P(community|category)$ for each community and category within each graph. Design a metric, using the four $P(community|category)$ values in a graph, whose value would be 1 for the ideal graph and 0 for the worst graph. Calculate this metric for both graphs and compare the two. What do the results say about how representative tags and descriptions are regarding the channel categories? Are tags better suited, or descriptions?"
   ]
  },
  {
   "cell_type": "markdown",
   "id": "612b6393",
   "metadata": {},
   "source": [
    "4. The Kernighan-Lin bisection you used above performs a min-edge cut: It attempts to partition the nodes of the graph into two sets of almost-equal size by deleting as few edges as possible. It starts off by creating a random partition of the nodes of the graph into two sets A and B that are almost equal in size, and then iteratively and in a greedy fashion moves nodes between A and B to reduce the number of edges between A and B. Show at least one toy example of a graph where the initialization could also be the final result. (Hint: Think of how, as we explained, the bisection algorithm relies on a minimum edge cut with a random initialization; under what circumstances could the original A and B be the best partition given that graph?)"
   ]
  },
  {
   "cell_type": "markdown",
   "id": "8f685b4e",
   "metadata": {},
   "source": [
    "## Beginning of solution for C"
   ]
  },
  {
   "cell_type": "code",
   "execution_count": 71,
   "id": "c31dadff",
   "metadata": {},
   "outputs": [],
   "source": [
    "import networkx\n",
    "g_text_adj = np.loadtxt(open('data/g_text_adj.csv', 'r'), delimiter=',', skiprows=0)\n",
    "g_tags_adj = np.loadtxt(open('data/g_tags_adj.csv', 'r'), delimiter=',', skiprows=0)\n",
    "channel_to_index = json.load(open('data/channel_indices.json', 'r'))\n",
    "g_text = networkx.from_numpy_array(g_text_adj)\n",
    "g_tags = networkx.from_numpy_array(g_tags_adj)"
   ]
  },
  {
   "cell_type": "markdown",
   "id": "d61d6277",
   "metadata": {},
   "source": [
    "## C1.1"
   ]
  },
  {
   "cell_type": "code",
   "execution_count": 72,
   "id": "4c0eaf84",
   "metadata": {},
   "outputs": [
    {
     "data": {
      "text/plain": [
       "2"
      ]
     },
     "execution_count": 72,
     "metadata": {},
     "output_type": "execute_result"
    }
   ],
   "source": [
    "networkx.diameter(g_text)"
   ]
  },
  {
   "cell_type": "code",
   "execution_count": 73,
   "id": "54066f04",
   "metadata": {},
   "outputs": [
    {
     "ename": "NetworkXError",
     "evalue": "Found infinite path length because the graph is not connected",
     "output_type": "error",
     "traceback": [
      "\u001b[0;31m---------------------------------------------------------------------------\u001b[0m",
      "\u001b[0;31mNetworkXError\u001b[0m                             Traceback (most recent call last)",
      "\u001b[0;32m<ipython-input-73-9d0663948748>\u001b[0m in \u001b[0;36m<module>\u001b[0;34m\u001b[0m\n\u001b[0;32m----> 1\u001b[0;31m \u001b[0mnetworkx\u001b[0m\u001b[0;34m.\u001b[0m\u001b[0mdiameter\u001b[0m\u001b[0;34m(\u001b[0m\u001b[0mg_tags\u001b[0m\u001b[0;34m)\u001b[0m\u001b[0;34m\u001b[0m\u001b[0;34m\u001b[0m\u001b[0m\n\u001b[0m",
      "\u001b[0;32m~/anaconda3/lib/python3.7/site-packages/networkx/algorithms/distance_measures.py\u001b[0m in \u001b[0;36mdiameter\u001b[0;34m(G, e, usebounds)\u001b[0m\n\u001b[1;32m    279\u001b[0m         \u001b[0;32mreturn\u001b[0m \u001b[0mextrema_bounding\u001b[0m\u001b[0;34m(\u001b[0m\u001b[0mG\u001b[0m\u001b[0;34m,\u001b[0m \u001b[0mcompute\u001b[0m\u001b[0;34m=\u001b[0m\u001b[0;34m\"diameter\"\u001b[0m\u001b[0;34m)\u001b[0m\u001b[0;34m\u001b[0m\u001b[0;34m\u001b[0m\u001b[0m\n\u001b[1;32m    280\u001b[0m     \u001b[0;32mif\u001b[0m \u001b[0me\u001b[0m \u001b[0;32mis\u001b[0m \u001b[0;32mNone\u001b[0m\u001b[0;34m:\u001b[0m\u001b[0;34m\u001b[0m\u001b[0;34m\u001b[0m\u001b[0m\n\u001b[0;32m--> 281\u001b[0;31m         \u001b[0me\u001b[0m \u001b[0;34m=\u001b[0m \u001b[0meccentricity\u001b[0m\u001b[0;34m(\u001b[0m\u001b[0mG\u001b[0m\u001b[0;34m)\u001b[0m\u001b[0;34m\u001b[0m\u001b[0;34m\u001b[0m\u001b[0m\n\u001b[0m\u001b[1;32m    282\u001b[0m     \u001b[0;32mreturn\u001b[0m \u001b[0mmax\u001b[0m\u001b[0;34m(\u001b[0m\u001b[0me\u001b[0m\u001b[0;34m.\u001b[0m\u001b[0mvalues\u001b[0m\u001b[0;34m(\u001b[0m\u001b[0;34m)\u001b[0m\u001b[0;34m)\u001b[0m\u001b[0;34m\u001b[0m\u001b[0;34m\u001b[0m\u001b[0m\n\u001b[1;32m    283\u001b[0m \u001b[0;34m\u001b[0m\u001b[0m\n",
      "\u001b[0;32m~/anaconda3/lib/python3.7/site-packages/networkx/algorithms/distance_measures.py\u001b[0m in \u001b[0;36meccentricity\u001b[0;34m(G, v, sp)\u001b[0m\n\u001b[1;32m    244\u001b[0m                 msg = ('Found infinite path length because the graph is not'\n\u001b[1;32m    245\u001b[0m                        ' connected')\n\u001b[0;32m--> 246\u001b[0;31m             \u001b[0;32mraise\u001b[0m \u001b[0mnx\u001b[0m\u001b[0;34m.\u001b[0m\u001b[0mNetworkXError\u001b[0m\u001b[0;34m(\u001b[0m\u001b[0mmsg\u001b[0m\u001b[0;34m)\u001b[0m\u001b[0;34m\u001b[0m\u001b[0;34m\u001b[0m\u001b[0m\n\u001b[0m\u001b[1;32m    247\u001b[0m \u001b[0;34m\u001b[0m\u001b[0m\n\u001b[1;32m    248\u001b[0m         \u001b[0me\u001b[0m\u001b[0;34m[\u001b[0m\u001b[0mn\u001b[0m\u001b[0;34m]\u001b[0m \u001b[0;34m=\u001b[0m \u001b[0mmax\u001b[0m\u001b[0;34m(\u001b[0m\u001b[0mlength\u001b[0m\u001b[0;34m.\u001b[0m\u001b[0mvalues\u001b[0m\u001b[0;34m(\u001b[0m\u001b[0;34m)\u001b[0m\u001b[0;34m)\u001b[0m\u001b[0;34m\u001b[0m\u001b[0;34m\u001b[0m\u001b[0m\n",
      "\u001b[0;31mNetworkXError\u001b[0m: Found infinite path length because the graph is not connected"
     ]
    }
   ],
   "source": [
    "networkx.diameter(g_tags)"
   ]
  },
  {
   "cell_type": "markdown",
   "id": "12376e1b",
   "metadata": {},
   "source": [
    "$G_{text}$ has a diameter of 2, while $G_{tags}$ is unconnected."
   ]
  },
  {
   "cell_type": "markdown",
   "id": "9c410dc6",
   "metadata": {},
   "source": [
    "## C1.2\n",
    "What the diameter says in case of $G_{text}$ is that thethe longest shortest path is just 2 edges long, which could mean relatively low diversity, while $G_{tags}$ doesn't tell us much because its diameter is undefined."
   ]
  },
  {
   "cell_type": "markdown",
   "id": "a48c170d",
   "metadata": {},
   "source": [
    "## C1.3\n",
    "The tags are more diverse because the graph is unconnected."
   ]
  },
  {
   "cell_type": "code",
   "execution_count": 74,
   "id": "0f46a204",
   "metadata": {},
   "outputs": [
    {
     "data": {
      "text/plain": [
       "1"
      ]
     },
     "execution_count": 74,
     "metadata": {},
     "output_type": "execute_result"
    }
   ],
   "source": [
    "networkx.number_connected_components(g_text)"
   ]
  },
  {
   "cell_type": "code",
   "execution_count": 75,
   "id": "0ee3ea2a",
   "metadata": {},
   "outputs": [
    {
     "data": {
      "text/plain": [
       "2"
      ]
     },
     "execution_count": 75,
     "metadata": {},
     "output_type": "execute_result"
    }
   ],
   "source": [
    "networkx.number_connected_components(g_tags)"
   ]
  },
  {
   "cell_type": "markdown",
   "id": "ab426eac",
   "metadata": {},
   "source": [
    "## C1.4\n",
    "No, because as we saw, the diameter can end up being undefined for both, which implies that both are diverse but does not provide much of a comparison."
   ]
  },
  {
   "cell_type": "markdown",
   "id": "588bb1c7",
   "metadata": {},
   "source": [
    "## C1.5\n",
    "They can use either betweenness centrality (number of shortest paths passing through the node, i.e. the channel) or just the degree. Here we use the former."
   ]
  },
  {
   "cell_type": "code",
   "execution_count": 76,
   "id": "9464b6d4",
   "metadata": {},
   "outputs": [],
   "source": [
    "centralities = networkx.betweenness_centrality(g_text)"
   ]
  },
  {
   "cell_type": "code",
   "execution_count": 77,
   "id": "a5c3fd30",
   "metadata": {},
   "outputs": [],
   "source": [
    "highest_centrality_node = sorted(centralities.keys(), key=lambda x: centralities[x], reverse=True)[0]"
   ]
  },
  {
   "cell_type": "code",
   "execution_count": 78,
   "id": "59dc10ed",
   "metadata": {},
   "outputs": [
    {
     "data": {
      "text/plain": [
       "1"
      ]
     },
     "execution_count": 78,
     "metadata": {},
     "output_type": "execute_result"
    }
   ],
   "source": [
    "highest_centrality_node"
   ]
  },
  {
   "cell_type": "code",
   "execution_count": 79,
   "id": "ec9d7928",
   "metadata": {},
   "outputs": [
    {
     "data": {
      "text/plain": [
       "'Desi Perkins'"
      ]
     },
     "execution_count": 79,
     "metadata": {},
     "output_type": "execute_result"
    }
   ],
   "source": [
    "{v:k for k,v in channel_to_index.items()}[highest_centrality_node]"
   ]
  },
  {
   "cell_type": "code",
   "execution_count": 80,
   "id": "c4377f5f",
   "metadata": {},
   "outputs": [
    {
     "data": {
      "text/html": [
       "<div>\n",
       "<style scoped>\n",
       "    .dataframe tbody tr th:only-of-type {\n",
       "        vertical-align: middle;\n",
       "    }\n",
       "\n",
       "    .dataframe tbody tr th {\n",
       "        vertical-align: top;\n",
       "    }\n",
       "\n",
       "    .dataframe thead th {\n",
       "        text-align: right;\n",
       "    }\n",
       "</style>\n",
       "<table border=\"1\" class=\"dataframe\">\n",
       "  <thead>\n",
       "    <tr style=\"text-align: right;\">\n",
       "      <th></th>\n",
       "      <th>channel</th>\n",
       "      <th>upload_date</th>\n",
       "      <th>title</th>\n",
       "      <th>tags</th>\n",
       "      <th>duration</th>\n",
       "      <th>view_count</th>\n",
       "      <th>average_rating</th>\n",
       "      <th>height</th>\n",
       "      <th>width</th>\n",
       "      <th>channel_cat</th>\n",
       "      <th>upload_year</th>\n",
       "      <th>upload_month</th>\n",
       "    </tr>\n",
       "  </thead>\n",
       "  <tbody>\n",
       "    <tr>\n",
       "      <th>137477</th>\n",
       "      <td>Desi Perkins</td>\n",
       "      <td>2014-05-04</td>\n",
       "      <td>EYEBROW TUTORIAL</td>\n",
       "      <td>['how to', 'makeup', 'tutorial']</td>\n",
       "      <td>528.0</td>\n",
       "      <td>16851339.0</td>\n",
       "      <td>4.922917</td>\n",
       "      <td>1080.0</td>\n",
       "      <td>1920.0</td>\n",
       "      <td>Howto &amp; Style</td>\n",
       "      <td>2014</td>\n",
       "      <td>5</td>\n",
       "    </tr>\n",
       "    <tr>\n",
       "      <th>137267</th>\n",
       "      <td>Desi Perkins</td>\n",
       "      <td>2017-08-16</td>\n",
       "      <td>KIM KARDASHIAN WEST MAKEUP TUTORIAL + NEW KKW ...</td>\n",
       "      <td>[]</td>\n",
       "      <td>1499.0</td>\n",
       "      <td>8925152.0</td>\n",
       "      <td>4.888759</td>\n",
       "      <td>1080.0</td>\n",
       "      <td>1920.0</td>\n",
       "      <td>Howto &amp; Style</td>\n",
       "      <td>2017</td>\n",
       "      <td>8</td>\n",
       "    </tr>\n",
       "  </tbody>\n",
       "</table>\n",
       "</div>"
      ],
      "text/plain": [
       "             channel upload_date  \\\n",
       "137477  Desi Perkins  2014-05-04   \n",
       "137267  Desi Perkins  2017-08-16   \n",
       "\n",
       "                                                    title  \\\n",
       "137477                                   EYEBROW TUTORIAL   \n",
       "137267  KIM KARDASHIAN WEST MAKEUP TUTORIAL + NEW KKW ...   \n",
       "\n",
       "                                    tags  duration  view_count  \\\n",
       "137477  ['how to', 'makeup', 'tutorial']     528.0  16851339.0   \n",
       "137267                                []    1499.0   8925152.0   \n",
       "\n",
       "        average_rating  height   width    channel_cat  upload_year  \\\n",
       "137477        4.922917  1080.0  1920.0  Howto & Style         2014   \n",
       "137267        4.888759  1080.0  1920.0  Howto & Style         2017   \n",
       "\n",
       "        upload_month  \n",
       "137477             5  \n",
       "137267             8  "
      ]
     },
     "execution_count": 80,
     "metadata": {},
     "output_type": "execute_result"
    }
   ],
   "source": [
    "youtube.loc[youtube.channel == 'Desi Perkins'].sort_values('view_count', ascending=False).head(2)"
   ]
  },
  {
   "cell_type": "markdown",
   "id": "005c94e1",
   "metadata": {},
   "source": [
    "## C2.1"
   ]
  },
  {
   "cell_type": "code",
   "execution_count": 81,
   "id": "b6fe92e7",
   "metadata": {},
   "outputs": [],
   "source": [
    "cats_df = youtube.loc[(youtube.channel_cat == 'Gaming') | (youtube.channel_cat == 'Howto & Style'), \n",
    "                   ['channel', 'channel_cat']].drop_duplicates(subset='channel')\n",
    "cats_dict = {channel_to_index[cats_df.channel.values[i]]: cats_df.channel_cat.values[i] \n",
    "             for i in range(cats_df.shape[0])}\n",
    "cats_dict = {k:1 if v == 'Gaming' else 0 for k,v in cats_dict.items()}"
   ]
  },
  {
   "cell_type": "code",
   "execution_count": 82,
   "id": "b2525694",
   "metadata": {},
   "outputs": [],
   "source": [
    "from networkx.algorithms.community import kernighan_lin_bisection"
   ]
  },
  {
   "cell_type": "code",
   "execution_count": 83,
   "id": "6e26a775",
   "metadata": {},
   "outputs": [],
   "source": [
    "def calculate_community_probabilities(bisection, category, channel_cats):\n",
    "    total_cat = len([x for x in channel_cats if channel_cats[x] == category])\n",
    "    p_com1_cat = len([x for x in bisection[0] if channel_cats[x] == category]) / total_cat\n",
    "    p_com2_cat = len([x for x in bisection[1] if channel_cats[x] == category]) / total_cat\n",
    "    return p_com1_cat, p_com2_cat, p_com1_cat*total_cat, p_com2_cat*total_cat"
   ]
  },
  {
   "cell_type": "code",
   "execution_count": 84,
   "id": "f622db3c",
   "metadata": {},
   "outputs": [],
   "source": [
    "text_graph_bisection = kernighan_lin_bisection(g_text, max_iter=100, seed=42)\n",
    "tag_graph_bisection = kernighan_lin_bisection(g_tags, max_iter=100, seed=42)"
   ]
  },
  {
   "cell_type": "code",
   "execution_count": 85,
   "id": "d5f8a6a6",
   "metadata": {},
   "outputs": [],
   "source": [
    "#networkx.connected_components(g_tags)"
   ]
  },
  {
   "cell_type": "markdown",
   "id": "009f0ecf",
   "metadata": {},
   "source": [
    "### For $G_{text}$ "
   ]
  },
  {
   "cell_type": "markdown",
   "id": "f984597e",
   "metadata": {},
   "source": [
    "Percentages and numbers (% in first community, % in second community, # in first, # in second):\n",
    "\n",
    "**Gaming:**"
   ]
  },
  {
   "cell_type": "code",
   "execution_count": 86,
   "id": "13297766",
   "metadata": {},
   "outputs": [
    {
     "data": {
      "text/plain": [
       "(0.5252525252525253, 0.47474747474747475, 52.00000000000001, 47.0)"
      ]
     },
     "execution_count": 86,
     "metadata": {},
     "output_type": "execute_result"
    }
   ],
   "source": [
    "calculate_community_probabilities(text_graph_bisection, 1, cats_dict)"
   ]
  },
  {
   "cell_type": "markdown",
   "id": "7c0a443a",
   "metadata": {},
   "source": [
    "**Howto & Style**"
   ]
  },
  {
   "cell_type": "code",
   "execution_count": 87,
   "id": "d55f500c",
   "metadata": {},
   "outputs": [
    {
     "data": {
      "text/plain": [
       "(0.46875, 0.53125, 45.0, 51.0)"
      ]
     },
     "execution_count": 87,
     "metadata": {},
     "output_type": "execute_result"
    }
   ],
   "source": [
    "calculate_community_probabilities(text_graph_bisection, 0, cats_dict)"
   ]
  },
  {
   "cell_type": "markdown",
   "id": "e8356fc7",
   "metadata": {},
   "source": [
    "### For $G_{tags}$ "
   ]
  },
  {
   "cell_type": "markdown",
   "id": "471d954e",
   "metadata": {},
   "source": [
    "Percentages and numbers (% in first community, % in second community, # in first, # in second):\n",
    "\n",
    "**Gaming:**"
   ]
  },
  {
   "cell_type": "code",
   "execution_count": 88,
   "id": "300c7c99",
   "metadata": {
    "scrolled": true
   },
   "outputs": [
    {
     "data": {
      "text/plain": [
       "(0.7676767676767676, 0.23232323232323232, 76.0, 23.0)"
      ]
     },
     "execution_count": 88,
     "metadata": {},
     "output_type": "execute_result"
    }
   ],
   "source": [
    "calculate_community_probabilities(tag_graph_bisection, 1, cats_dict)"
   ]
  },
  {
   "cell_type": "markdown",
   "id": "fc85ea71",
   "metadata": {},
   "source": [
    "**Howto & Style**"
   ]
  },
  {
   "cell_type": "code",
   "execution_count": 89,
   "id": "90a2c64a",
   "metadata": {},
   "outputs": [
    {
     "data": {
      "text/plain": [
       "(0.21875, 0.78125, 21.0, 75.0)"
      ]
     },
     "execution_count": 89,
     "metadata": {},
     "output_type": "execute_result"
    }
   ],
   "source": [
    "calculate_community_probabilities(tag_graph_bisection, 0, cats_dict)"
   ]
  },
  {
   "cell_type": "markdown",
   "id": "faacaf01",
   "metadata": {},
   "source": [
    "## C2.2\n",
    "The ideal communities would be such that each would contain only **one** category. The worst communities would be evenly split between the two categories (i.e. 50% gaming and 50% howto)."
   ]
  },
  {
   "cell_type": "markdown",
   "id": "ecef5b35",
   "metadata": {},
   "source": [
    "## C2.3\n",
    "Check the results in C2.1, the percentages were provided as well.\n",
    "\n",
    "For the metric, one could be:\n",
    "$$1 - 2*min_{community, category}\\{P(community|category)\\}$$\n",
    "\n",
    "which would yield 1 if one of the probabilities is 0, and yield 0 if they are all 0.5.\n",
    "\n",
    "For the two graphs we have, they can simply spot the minimum and calculate this metric, which would yield the following:"
   ]
  },
  {
   "cell_type": "code",
   "execution_count": 90,
   "id": "8ef6153d",
   "metadata": {},
   "outputs": [
    {
     "data": {
      "text/plain": [
       "0.375"
      ]
     },
     "execution_count": 90,
     "metadata": {},
     "output_type": "execute_result"
    }
   ],
   "source": [
    "# G_text\n",
    "1 - 2*.3125"
   ]
  },
  {
   "cell_type": "code",
   "execution_count": 91,
   "id": "3045cdf5",
   "metadata": {},
   "outputs": [
    {
     "data": {
      "text/plain": [
       "0.7083999999999999"
      ]
     },
     "execution_count": 91,
     "metadata": {},
     "output_type": "execute_result"
    }
   ],
   "source": [
    "# G_tags\n",
    "1 - 2*.1458"
   ]
  },
  {
   "cell_type": "markdown",
   "id": "bd94c6ec",
   "metadata": {},
   "source": [
    "Based on this, $G_{tags}$ is quite superior in its discrimination between the two categories."
   ]
  },
  {
   "cell_type": "markdown",
   "id": "7808f2ae",
   "metadata": {},
   "source": [
    "## C2.4"
   ]
  },
  {
   "cell_type": "markdown",
   "id": "4009d29a",
   "metadata": {},
   "source": [
    "A case where the initialisation would also be the final result would be when we have a graph with two connected components, and where each community in the initialisation is one of the two connected components. Since this is a bipartition with no edge deletions, it essentially is a local minimum of the algorithm and is also the final result."
   ]
  },
  {
   "cell_type": "code",
   "execution_count": null,
   "id": "8ea4bd50",
   "metadata": {},
   "outputs": [],
   "source": []
  }
 ],
 "metadata": {
  "kernelspec": {
   "display_name": "py310",
   "language": "python",
   "name": "py310"
  },
  "language_info": {
   "codemirror_mode": {
    "name": "ipython",
    "version": 3
   },
   "file_extension": ".py",
   "mimetype": "text/x-python",
   "name": "python",
   "nbconvert_exporter": "python",
   "pygments_lexer": "ipython3",
   "version": "3.10.4"
  },
  "pycharm": {
   "stem_cell": {
    "cell_type": "raw",
    "metadata": {
     "collapsed": false
    },
    "source": []
   }
  },
  "varInspector": {
   "cols": {
    "lenName": 16,
    "lenType": 16,
    "lenVar": 40
   },
   "kernels_config": {
    "python": {
     "delete_cmd_postfix": "",
     "delete_cmd_prefix": "del ",
     "library": "var_list.py",
     "varRefreshCmd": "print(var_dic_list())"
    },
    "r": {
     "delete_cmd_postfix": ") ",
     "delete_cmd_prefix": "rm(",
     "library": "var_list.r",
     "varRefreshCmd": "cat(var_dic_list()) "
    }
   },
   "types_to_exclude": [
    "module",
    "function",
    "builtin_function_or_method",
    "instance",
    "_Feature"
   ],
   "window_display": false
  }
 },
 "nbformat": 4,
 "nbformat_minor": 5
}
